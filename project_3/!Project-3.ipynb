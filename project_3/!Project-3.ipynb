{
 "cells": [
  {
   "cell_type": "markdown",
   "id": "cc79fd1f",
   "metadata": {},
   "source": [
    "# **PROJECT-3. EDA + Feature Engineering. Соревнование на Kaggle**"
   ]
  },
  {
   "cell_type": "markdown",
   "id": "77910c0f",
   "metadata": {},
   "source": [
    "Первоначальная версия датасета содержит 17 полей со следующей информацией:\n",
    "- hotel_address — адрес отеля;\n",
    "- review_date — дата, когда рецензент разместил соответствующий отзыв;\n",
    "- average_score — средний балл отеля, рассчитанный на основе последнего комментария за последний год;\n",
    "- hotel_name — название отеля;\n",
    "- reviewer_nationality — страна рецензента;\n",
    "- negative_review — отрицательный отзыв, который рецензент дал отелю;\n",
    "- review_total_negative_word_counts — общее количество слов в отрицательном отзыв;\n",
    "- positive_review — положительный отзыв, который рецензент дал отелю;\n",
    "- review_total_positive_word_counts — общее количество слов в положительном отзыве.\n",
    "- reviewer_score — оценка, которую рецензент поставил отелю на основе своего опыта;\n",
    "- total_number_of_reviews_reviewer_has_given — количество отзывов, которые рецензенты дали в прошлом;\n",
    "- total_number_of_reviews — общее количество действительных отзывов об отеле;\n",
    "- tags — теги, которые рецензент дал отелю;\n",
    "- days_since_review — количество дней между датой проверки и датой очистки;\n",
    "- additional_number_of_scoring — есть также некоторые гости, которые просто поставили оценку сервису, но не оставили отзыв. Это число указывает, сколько там действительных оценок без проверки.\n",
    "- lat — географическая широта отеля;\n",
    "- lng — географическая долгота отеля."
   ]
  },
  {
   "cell_type": "code",
   "execution_count": 43,
   "id": "aaac9fd1",
   "metadata": {},
   "outputs": [],
   "source": [
    "# импортируем необходимые библиотеки\n",
    "import pandas as pd\n",
    "import numpy as np\n",
    "\n",
    "from scipy import stats\n",
    "import statsmodels.api as sm\n",
    "from statsmodels import stats as sms\n",
    "from scipy.stats import chi2_contingency\n",
    "\n",
    "import matplotlib.pyplot as plt\n",
    "import seaborn as sns\n",
    "\n",
    "from sklearn.model_selection import train_test_split\n",
    "from sklearn.ensemble import RandomForestRegressor\n",
    "from sklearn import metrics\n",
    "from sklearn.feature_selection import f_classif "
   ]
  },
  {
   "cell_type": "code",
   "execution_count": 3,
   "id": "c10318f5",
   "metadata": {},
   "outputs": [
    {
     "data": {
      "application/vnd.microsoft.datawrangler.viewer.v0+json": {
       "columns": [
        {
         "name": "index",
         "rawType": "int64",
         "type": "integer"
        },
        {
         "name": "hotel_address",
         "rawType": "object",
         "type": "string"
        },
        {
         "name": "additional_number_of_scoring",
         "rawType": "int64",
         "type": "integer"
        },
        {
         "name": "review_date",
         "rawType": "object",
         "type": "string"
        },
        {
         "name": "average_score",
         "rawType": "float64",
         "type": "float"
        },
        {
         "name": "hotel_name",
         "rawType": "object",
         "type": "string"
        },
        {
         "name": "reviewer_nationality",
         "rawType": "object",
         "type": "string"
        },
        {
         "name": "negative_review",
         "rawType": "object",
         "type": "string"
        },
        {
         "name": "review_total_negative_word_counts",
         "rawType": "int64",
         "type": "integer"
        },
        {
         "name": "total_number_of_reviews",
         "rawType": "int64",
         "type": "integer"
        },
        {
         "name": "positive_review",
         "rawType": "object",
         "type": "string"
        },
        {
         "name": "review_total_positive_word_counts",
         "rawType": "int64",
         "type": "integer"
        },
        {
         "name": "total_number_of_reviews_reviewer_has_given",
         "rawType": "int64",
         "type": "integer"
        },
        {
         "name": "reviewer_score",
         "rawType": "float64",
         "type": "float"
        },
        {
         "name": "tags",
         "rawType": "object",
         "type": "string"
        },
        {
         "name": "days_since_review",
         "rawType": "object",
         "type": "string"
        },
        {
         "name": "lat",
         "rawType": "float64",
         "type": "float"
        },
        {
         "name": "lng",
         "rawType": "float64",
         "type": "float"
        }
       ],
       "ref": "5cb9eed5-1fbc-4265-96f8-5bf3578a33c7",
       "rows": [
        [
         "0",
         "Stratton Street Mayfair Westminster Borough London W1J 8LT United Kingdom",
         "581",
         "2/19/2016",
         "8.4",
         "The May Fair Hotel",
         " United Kingdom ",
         " Leaving ",
         "3",
         "1994",
         " Staff were amazing",
         "4",
         "7",
         "10.0",
         "[' Leisure trip ', ' Couple ', ' Studio Suite ', ' Stayed 2 nights ', ' Submitted from a mobile device ']",
         "531 day",
         "51.5078943",
         "-0.1436707"
        ],
        [
         "1",
         "130 134 Southampton Row Camden London WC1B 5AF United Kingdom",
         "299",
         "1/12/2017",
         "8.3",
         "Mercure London Bloomsbury Hotel",
         " United Kingdom ",
         " poor breakfast",
         "3",
         "1361",
         " location",
         "2",
         "14",
         "6.3",
         "[' Business trip ', ' Couple ', ' Standard Double Room ', ' Stayed 1 night ']",
         "203 day",
         "51.5210085",
         "-0.1230966"
        ],
        [
         "2",
         "151 bis Rue de Rennes 6th arr 75006 Paris France",
         "32",
         "10/18/2016",
         "8.9",
         "Legend Saint Germain by Elegancia",
         " China ",
         " No kettle in room ",
         "6",
         "406",
         "No Positive",
         "0",
         "14",
         "7.5",
         "[' Leisure trip ', ' Solo traveler ', ' Modern Double Room Echo ', ' Stayed 3 nights ', ' Submitted from a mobile device ']",
         "289 day",
         "48.8453774",
         "2.3256427"
        ],
        [
         "3",
         "216 Avenue Jean Jaures 19th arr 75019 Paris France",
         "34",
         "9/22/2015",
         "7.5",
         "Mercure Paris 19 Philharmonie La Villette",
         " United Kingdom ",
         "No Negative",
         "0",
         "607",
         " Friendly staff quiet comfortable room spotlessly clean excellent location ",
         "11",
         "8",
         "10.0",
         "[' Leisure trip ', ' Solo traveler ', ' Standard Room with 1 Double Bed ', ' Stayed 1 night ']",
         "681 day",
         "48.8886969",
         "2.3945403"
        ],
        [
         "4",
         "Molenwerf 1 1014 AG Amsterdam Netherlands",
         "914",
         "3/5/2016",
         "8.5",
         "Golden Tulip Amsterdam West",
         " Poland ",
         " Torn sheets ",
         "4",
         "7586",
         " The staff was very friendly and helpful Breakfasts were just extraordinary Room was clean quiet and very spacious ",
         "20",
         "10",
         "9.6",
         "[' Business trip ', ' Couple ', ' Standard Double or Twin Room ', ' Stayed 6 nights ']",
         "516 day",
         "52.385601",
         "4.8470597"
        ]
       ],
       "shape": {
        "columns": 17,
        "rows": 5
       }
      },
      "text/html": [
       "<div>\n",
       "<style scoped>\n",
       "    .dataframe tbody tr th:only-of-type {\n",
       "        vertical-align: middle;\n",
       "    }\n",
       "\n",
       "    .dataframe tbody tr th {\n",
       "        vertical-align: top;\n",
       "    }\n",
       "\n",
       "    .dataframe thead th {\n",
       "        text-align: right;\n",
       "    }\n",
       "</style>\n",
       "<table border=\"1\" class=\"dataframe\">\n",
       "  <thead>\n",
       "    <tr style=\"text-align: right;\">\n",
       "      <th></th>\n",
       "      <th>hotel_address</th>\n",
       "      <th>additional_number_of_scoring</th>\n",
       "      <th>review_date</th>\n",
       "      <th>average_score</th>\n",
       "      <th>hotel_name</th>\n",
       "      <th>reviewer_nationality</th>\n",
       "      <th>negative_review</th>\n",
       "      <th>review_total_negative_word_counts</th>\n",
       "      <th>total_number_of_reviews</th>\n",
       "      <th>positive_review</th>\n",
       "      <th>review_total_positive_word_counts</th>\n",
       "      <th>total_number_of_reviews_reviewer_has_given</th>\n",
       "      <th>reviewer_score</th>\n",
       "      <th>tags</th>\n",
       "      <th>days_since_review</th>\n",
       "      <th>lat</th>\n",
       "      <th>lng</th>\n",
       "    </tr>\n",
       "  </thead>\n",
       "  <tbody>\n",
       "    <tr>\n",
       "      <th>0</th>\n",
       "      <td>Stratton Street Mayfair Westminster Borough Lo...</td>\n",
       "      <td>581</td>\n",
       "      <td>2/19/2016</td>\n",
       "      <td>8.4</td>\n",
       "      <td>The May Fair Hotel</td>\n",
       "      <td>United Kingdom</td>\n",
       "      <td>Leaving</td>\n",
       "      <td>3</td>\n",
       "      <td>1994</td>\n",
       "      <td>Staff were amazing</td>\n",
       "      <td>4</td>\n",
       "      <td>7</td>\n",
       "      <td>10.0</td>\n",
       "      <td>[' Leisure trip ', ' Couple ', ' Studio Suite ...</td>\n",
       "      <td>531 day</td>\n",
       "      <td>51.507894</td>\n",
       "      <td>-0.143671</td>\n",
       "    </tr>\n",
       "    <tr>\n",
       "      <th>1</th>\n",
       "      <td>130 134 Southampton Row Camden London WC1B 5AF...</td>\n",
       "      <td>299</td>\n",
       "      <td>1/12/2017</td>\n",
       "      <td>8.3</td>\n",
       "      <td>Mercure London Bloomsbury Hotel</td>\n",
       "      <td>United Kingdom</td>\n",
       "      <td>poor breakfast</td>\n",
       "      <td>3</td>\n",
       "      <td>1361</td>\n",
       "      <td>location</td>\n",
       "      <td>2</td>\n",
       "      <td>14</td>\n",
       "      <td>6.3</td>\n",
       "      <td>[' Business trip ', ' Couple ', ' Standard Dou...</td>\n",
       "      <td>203 day</td>\n",
       "      <td>51.521009</td>\n",
       "      <td>-0.123097</td>\n",
       "    </tr>\n",
       "    <tr>\n",
       "      <th>2</th>\n",
       "      <td>151 bis Rue de Rennes 6th arr 75006 Paris France</td>\n",
       "      <td>32</td>\n",
       "      <td>10/18/2016</td>\n",
       "      <td>8.9</td>\n",
       "      <td>Legend Saint Germain by Elegancia</td>\n",
       "      <td>China</td>\n",
       "      <td>No kettle in room</td>\n",
       "      <td>6</td>\n",
       "      <td>406</td>\n",
       "      <td>No Positive</td>\n",
       "      <td>0</td>\n",
       "      <td>14</td>\n",
       "      <td>7.5</td>\n",
       "      <td>[' Leisure trip ', ' Solo traveler ', ' Modern...</td>\n",
       "      <td>289 day</td>\n",
       "      <td>48.845377</td>\n",
       "      <td>2.325643</td>\n",
       "    </tr>\n",
       "    <tr>\n",
       "      <th>3</th>\n",
       "      <td>216 Avenue Jean Jaures 19th arr 75019 Paris Fr...</td>\n",
       "      <td>34</td>\n",
       "      <td>9/22/2015</td>\n",
       "      <td>7.5</td>\n",
       "      <td>Mercure Paris 19 Philharmonie La Villette</td>\n",
       "      <td>United Kingdom</td>\n",
       "      <td>No Negative</td>\n",
       "      <td>0</td>\n",
       "      <td>607</td>\n",
       "      <td>Friendly staff quiet comfortable room spotles...</td>\n",
       "      <td>11</td>\n",
       "      <td>8</td>\n",
       "      <td>10.0</td>\n",
       "      <td>[' Leisure trip ', ' Solo traveler ', ' Standa...</td>\n",
       "      <td>681 day</td>\n",
       "      <td>48.888697</td>\n",
       "      <td>2.394540</td>\n",
       "    </tr>\n",
       "    <tr>\n",
       "      <th>4</th>\n",
       "      <td>Molenwerf 1 1014 AG Amsterdam Netherlands</td>\n",
       "      <td>914</td>\n",
       "      <td>3/5/2016</td>\n",
       "      <td>8.5</td>\n",
       "      <td>Golden Tulip Amsterdam West</td>\n",
       "      <td>Poland</td>\n",
       "      <td>Torn sheets</td>\n",
       "      <td>4</td>\n",
       "      <td>7586</td>\n",
       "      <td>The staff was very friendly and helpful Break...</td>\n",
       "      <td>20</td>\n",
       "      <td>10</td>\n",
       "      <td>9.6</td>\n",
       "      <td>[' Business trip ', ' Couple ', ' Standard Dou...</td>\n",
       "      <td>516 day</td>\n",
       "      <td>52.385601</td>\n",
       "      <td>4.847060</td>\n",
       "    </tr>\n",
       "  </tbody>\n",
       "</table>\n",
       "</div>"
      ],
      "text/plain": [
       "                                       hotel_address  \\\n",
       "0  Stratton Street Mayfair Westminster Borough Lo...   \n",
       "1  130 134 Southampton Row Camden London WC1B 5AF...   \n",
       "2   151 bis Rue de Rennes 6th arr 75006 Paris France   \n",
       "3  216 Avenue Jean Jaures 19th arr 75019 Paris Fr...   \n",
       "4          Molenwerf 1 1014 AG Amsterdam Netherlands   \n",
       "\n",
       "   additional_number_of_scoring review_date  average_score  \\\n",
       "0                           581   2/19/2016            8.4   \n",
       "1                           299   1/12/2017            8.3   \n",
       "2                            32  10/18/2016            8.9   \n",
       "3                            34   9/22/2015            7.5   \n",
       "4                           914    3/5/2016            8.5   \n",
       "\n",
       "                                  hotel_name reviewer_nationality  \\\n",
       "0                         The May Fair Hotel      United Kingdom    \n",
       "1            Mercure London Bloomsbury Hotel      United Kingdom    \n",
       "2          Legend Saint Germain by Elegancia               China    \n",
       "3  Mercure Paris 19 Philharmonie La Villette      United Kingdom    \n",
       "4                Golden Tulip Amsterdam West              Poland    \n",
       "\n",
       "       negative_review  review_total_negative_word_counts  \\\n",
       "0             Leaving                                   3   \n",
       "1       poor breakfast                                  3   \n",
       "2   No kettle in room                                   6   \n",
       "3          No Negative                                  0   \n",
       "4         Torn sheets                                   4   \n",
       "\n",
       "   total_number_of_reviews                                    positive_review  \\\n",
       "0                     1994                                 Staff were amazing   \n",
       "1                     1361                                           location   \n",
       "2                      406                                        No Positive   \n",
       "3                      607   Friendly staff quiet comfortable room spotles...   \n",
       "4                     7586   The staff was very friendly and helpful Break...   \n",
       "\n",
       "   review_total_positive_word_counts  \\\n",
       "0                                  4   \n",
       "1                                  2   \n",
       "2                                  0   \n",
       "3                                 11   \n",
       "4                                 20   \n",
       "\n",
       "   total_number_of_reviews_reviewer_has_given  reviewer_score  \\\n",
       "0                                           7            10.0   \n",
       "1                                          14             6.3   \n",
       "2                                          14             7.5   \n",
       "3                                           8            10.0   \n",
       "4                                          10             9.6   \n",
       "\n",
       "                                                tags days_since_review  \\\n",
       "0  [' Leisure trip ', ' Couple ', ' Studio Suite ...           531 day   \n",
       "1  [' Business trip ', ' Couple ', ' Standard Dou...           203 day   \n",
       "2  [' Leisure trip ', ' Solo traveler ', ' Modern...           289 day   \n",
       "3  [' Leisure trip ', ' Solo traveler ', ' Standa...           681 day   \n",
       "4  [' Business trip ', ' Couple ', ' Standard Dou...           516 day   \n",
       "\n",
       "         lat       lng  \n",
       "0  51.507894 -0.143671  \n",
       "1  51.521009 -0.123097  \n",
       "2  48.845377  2.325643  \n",
       "3  48.888697  2.394540  \n",
       "4  52.385601  4.847060  "
      ]
     },
     "execution_count": 3,
     "metadata": {},
     "output_type": "execute_result"
    }
   ],
   "source": [
    "# читаем данные\n",
    "hotels_df = pd.read_csv('/Users/alanadziccoeva/Python_study/Project-3/!hotels.csv')\n",
    "hotels_df.head()"
   ]
  },
  {
   "cell_type": "markdown",
   "id": "84c12da2",
   "metadata": {},
   "source": [
    ">**Предварительный анализ и обработка данных**"
   ]
  },
  {
   "cell_type": "code",
   "execution_count": 4,
   "id": "bfbd6e1f",
   "metadata": {},
   "outputs": [
    {
     "name": "stdout",
     "output_type": "stream",
     "text": [
      "<class 'pandas.core.frame.DataFrame'>\n",
      "RangeIndex: 386803 entries, 0 to 386802\n",
      "Data columns (total 17 columns):\n",
      " #   Column                                      Non-Null Count   Dtype  \n",
      "---  ------                                      --------------   -----  \n",
      " 0   hotel_address                               386803 non-null  object \n",
      " 1   additional_number_of_scoring                386803 non-null  int64  \n",
      " 2   review_date                                 386803 non-null  object \n",
      " 3   average_score                               386803 non-null  float64\n",
      " 4   hotel_name                                  386803 non-null  object \n",
      " 5   reviewer_nationality                        386803 non-null  object \n",
      " 6   negative_review                             386803 non-null  object \n",
      " 7   review_total_negative_word_counts           386803 non-null  int64  \n",
      " 8   total_number_of_reviews                     386803 non-null  int64  \n",
      " 9   positive_review                             386803 non-null  object \n",
      " 10  review_total_positive_word_counts           386803 non-null  int64  \n",
      " 11  total_number_of_reviews_reviewer_has_given  386803 non-null  int64  \n",
      " 12  reviewer_score                              386803 non-null  float64\n",
      " 13  tags                                        386803 non-null  object \n",
      " 14  days_since_review                           386803 non-null  object \n",
      " 15  lat                                         384355 non-null  float64\n",
      " 16  lng                                         384355 non-null  float64\n",
      "dtypes: float64(4), int64(5), object(8)\n",
      "memory usage: 50.2+ MB\n"
     ]
    }
   ],
   "source": [
    "# В каких столбцах данные содержат пропущенные значения?\n",
    "# В каких столбцах данные хранятся в числовом формате?\n",
    "# В каких столбцах данные представляют собой строки?\n",
    "# Напишите признак, представляющий собой дату.\n",
    "hotels_df.info()"
   ]
  },
  {
   "cell_type": "markdown",
   "id": "7b0f6dd6",
   "metadata": {},
   "source": [
    "***Обратим внимание на пропущенные значения в lat и lng. Вернемся к этому позже***"
   ]
  },
  {
   "cell_type": "code",
   "execution_count": 10,
   "id": "97984e18",
   "metadata": {},
   "outputs": [
    {
     "data": {
      "text/plain": [
       "1492"
      ]
     },
     "execution_count": 10,
     "metadata": {},
     "output_type": "execute_result"
    }
   ],
   "source": [
    "# Сколько уникальных названий отелей представлено в наборе данных?\n",
    "hotels_df['hotel_name'].nunique()"
   ]
  },
  {
   "cell_type": "code",
   "execution_count": null,
   "id": "a67e72d5",
   "metadata": {},
   "outputs": [
    {
     "data": {
      "application/vnd.microsoft.datawrangler.viewer.v0+json": {
       "columns": [
        {
         "name": "index",
         "rawType": "int64",
         "type": "integer"
        },
        {
         "name": "review_date",
         "rawType": "datetime64[ns]",
         "type": "datetime"
        }
       ],
       "ref": "7ff48cab-5375-4848-9707-5f87613af73c",
       "rows": [
        [
         "268933",
         "2017-08-03 00:00:00"
        ]
       ],
       "shape": {
        "columns": 1,
        "rows": 1
       }
      },
      "text/plain": [
       "268933   2017-08-03\n",
       "Name: review_date, dtype: datetime64[ns]"
      ]
     },
     "execution_count": 14,
     "metadata": {},
     "output_type": "execute_result"
    }
   ],
   "source": [
    "# Когда был оставлен самый свежий отзыв? Введите ответ в формате yyyy-mm-dd.\n",
    "hotels_df['review_date'] = pd.to_datetime(hotels_df['review_date'])\n",
    "hotels_df['review_date'].sort_values(ascending=False).head(1)"
   ]
  },
  {
   "cell_type": "code",
   "execution_count": 15,
   "id": "aaec5637",
   "metadata": {},
   "outputs": [
    {
     "data": {
      "application/vnd.microsoft.datawrangler.viewer.v0+json": {
       "columns": [
        {
         "name": "index",
         "rawType": "int64",
         "type": "integer"
        },
        {
         "name": "review_date",
         "rawType": "datetime64[ns]",
         "type": "datetime"
        }
       ],
       "ref": "73ca8bd2-47a2-4de6-86d0-d795b659b0fb",
       "rows": [
        [
         "143997",
         "2015-08-04 00:00:00"
        ]
       ],
       "shape": {
        "columns": 1,
        "rows": 1
       }
      },
      "text/plain": [
       "143997   2015-08-04\n",
       "Name: review_date, dtype: datetime64[ns]"
      ]
     },
     "execution_count": 15,
     "metadata": {},
     "output_type": "execute_result"
    }
   ],
   "source": [
    "# Когда был оставлен самый первый отзыв? Введите ответ в формате yyyy-mm-dd.\n",
    "hotels_df['review_date'].sort_values(ascending=True).head(1)"
   ]
  },
  {
   "cell_type": "code",
   "execution_count": 19,
   "id": "8b08d452",
   "metadata": {},
   "outputs": [
    {
     "data": {
      "text/plain": [
       "2368"
      ]
     },
     "execution_count": 19,
     "metadata": {},
     "output_type": "execute_result"
    }
   ],
   "source": [
    "# Сколько уникальных тегов представлено в наборе данных?\n",
    "hotels_df['tags']\n",
    "all_tags = hotels_df['tags'].str.strip('[]').str.replace(\"'\", \"\").str.split(', ').explode()\n",
    "all_tags.nunique()"
   ]
  },
  {
   "cell_type": "code",
   "execution_count": 20,
   "id": "16b9d323",
   "metadata": {},
   "outputs": [
    {
     "data": {
      "application/vnd.microsoft.datawrangler.viewer.v0+json": {
       "columns": [
        {
         "name": "tags",
         "rawType": "object",
         "type": "string"
        },
        {
         "name": "count",
         "rawType": "int64",
         "type": "integer"
        }
       ],
       "ref": "7ea9f65a-4df7-46a5-b42c-07c9a78e2cec",
       "rows": [
        [
         " Leisure trip ",
         "313593"
        ],
        [
         " Submitted from a mobile device ",
         "230778"
        ],
        [
         " Couple ",
         "189212"
        ],
        [
         " Stayed 1 night ",
         "145373"
        ],
        [
         " Stayed 2 nights ",
         "100263"
        ],
        [
         " Solo traveler ",
         "81235"
        ],
        [
         " Stayed 3 nights ",
         "72000"
        ],
        [
         " Business trip ",
         "61989"
        ],
        [
         " Group ",
         "49088"
        ],
        [
         " Family with young children ",
         "45836"
        ],
        [
         " Stayed 4 nights ",
         "35748"
        ],
        [
         " Double Room ",
         "26386"
        ],
        [
         " Standard Double Room ",
         "24151"
        ],
        [
         " Superior Double Room ",
         "23550"
        ],
        [
         " Family with older children ",
         "19802"
        ],
        [
         " Deluxe Double Room ",
         "18623"
        ],
        [
         " Double or Twin Room ",
         "16824"
        ],
        [
         " Stayed 5 nights ",
         "15611"
        ],
        [
         " Standard Double or Twin Room ",
         "13062"
        ],
        [
         " Classic Double Room ",
         "12716"
        ],
        [
         " Superior Double or Twin Room ",
         "10238"
        ],
        [
         " 2 rooms ",
         "9287"
        ],
        [
         " Stayed 6 nights ",
         "7399"
        ],
        [
         " Standard Twin Room ",
         "7325"
        ],
        [
         " Single Room ",
         "7227"
        ],
        [
         " Twin Room ",
         "6279"
        ],
        [
         " Stayed 7 nights ",
         "5549"
        ],
        [
         " Executive Double Room ",
         "4763"
        ],
        [
         " Classic Double or Twin Room ",
         "4576"
        ],
        [
         " Superior Twin Room ",
         "4540"
        ],
        [
         " Club Double Room ",
         "4485"
        ],
        [
         " Deluxe Double or Twin Room ",
         "4465"
        ],
        [
         " Queen Room ",
         "4071"
        ],
        [
         " Deluxe King Room ",
         "3993"
        ],
        [
         " Superior Queen Room ",
         "3686"
        ],
        [
         " Standard Single Room ",
         "3470"
        ],
        [
         " Junior Suite ",
         "3392"
        ],
        [
         " Triple Room ",
         "3385"
        ],
        [
         " Classic Room ",
         "3322"
        ],
        [
         " Superior Room ",
         "3292"
        ],
        [
         " Superior King Room ",
         "3208"
        ],
        [
         " Standard Room ",
         "3171"
        ],
        [
         " Deluxe Room ",
         "2956"
        ],
        [
         " Double Guest Room ",
         "2629"
        ],
        [
         " Standard Queen Room ",
         "2611"
        ],
        [
         " Deluxe Single Room ",
         "2469"
        ],
        [
         " Small Double Room ",
         "2373"
        ],
        [
         " Queen Guest Room ",
         "2355"
        ],
        [
         " Deluxe Twin Room ",
         "2309"
        ],
        [
         " King Room ",
         "2135"
        ]
       ],
       "shape": {
        "columns": 1,
        "rows": 2368
       }
      },
      "text/plain": [
       "tags\n",
       "Leisure trip                                    313593\n",
       "Submitted from a mobile device                  230778\n",
       "Couple                                          189212\n",
       "Stayed 1 night                                  145373\n",
       "Stayed 2 nights                                 100263\n",
       "                                                 ...  \n",
       "Standard Double or Twin Room with Extra Bed          1\n",
       "Champs Elys es Prestige Junior Suite                 1\n",
       "Suite Juliana                                        1\n",
       "Double room 1 or 2 people                            1\n",
       "penta PlayerPad Suite                                1\n",
       "Name: count, Length: 2368, dtype: int64"
      ]
     },
     "execution_count": 20,
     "metadata": {},
     "output_type": "execute_result"
    }
   ],
   "source": [
    "# Какой тег представлен в наибольшем числе отзывов?\n",
    "all_tags.value_counts()"
   ]
  },
  {
   "cell_type": "code",
   "execution_count": 21,
   "id": "bb5fd2eb",
   "metadata": {},
   "outputs": [
    {
     "data": {
      "application/vnd.microsoft.datawrangler.viewer.v0+json": {
       "columns": [
        {
         "name": "tags",
         "rawType": "object",
         "type": "string"
        },
        {
         "name": "count",
         "rawType": "int64",
         "type": "integer"
        }
       ],
       "ref": "e91fdeab-9169-4be7-bffa-29da0763f44f",
       "rows": [
        [
         " Stayed 1 night ",
         "145373"
        ]
       ],
       "shape": {
        "columns": 1,
        "rows": 1
       }
      },
      "text/plain": [
       "tags\n",
       "Stayed 1 night     145373\n",
       "Name: count, dtype: int64"
      ]
     },
     "execution_count": 21,
     "metadata": {},
     "output_type": "execute_result"
    }
   ],
   "source": [
    "# Из тегов выясните, на сколько ночей чаще всего останавливаются путешественники в отелях.\n",
    "night_tags = all_tags[all_tags.str.contains('night')]\n",
    "most_common_night = night_tags.value_counts().head(1)\n",
    "most_common_night "
   ]
  },
  {
   "cell_type": "markdown",
   "id": "6b8c2c56",
   "metadata": {},
   "source": [
    ">**Подготовка к обучению модели**"
   ]
  },
  {
   "cell_type": "code",
   "execution_count": null,
   "id": "00332f2f",
   "metadata": {},
   "outputs": [
    {
     "name": "stdout",
     "output_type": "stream",
     "text": [
      "<class 'pandas.core.frame.DataFrame'>\n",
      "RangeIndex: 386803 entries, 0 to 386802\n",
      "Data columns (total 17 columns):\n",
      " #   Column                                      Non-Null Count   Dtype         \n",
      "---  ------                                      --------------   -----         \n",
      " 0   hotel_address                               386803 non-null  object        \n",
      " 1   additional_number_of_scoring                386803 non-null  int64         \n",
      " 2   review_date                                 386803 non-null  datetime64[ns]\n",
      " 3   average_score                               386803 non-null  float64       \n",
      " 4   hotel_name                                  386803 non-null  object        \n",
      " 5   reviewer_nationality                        386803 non-null  object        \n",
      " 6   negative_review                             386803 non-null  object        \n",
      " 7   review_total_negative_word_counts           386803 non-null  int64         \n",
      " 8   total_number_of_reviews                     386803 non-null  int64         \n",
      " 9   positive_review                             386803 non-null  object        \n",
      " 10  review_total_positive_word_counts           386803 non-null  int64         \n",
      " 11  total_number_of_reviews_reviewer_has_given  386803 non-null  int64         \n",
      " 12  reviewer_score                              386803 non-null  float64       \n",
      " 13  tags                                        386803 non-null  object        \n",
      " 14  days_since_review                           386803 non-null  object        \n",
      " 15  lat                                         384355 non-null  float64       \n",
      " 16  lng                                         384355 non-null  float64       \n",
      "dtypes: datetime64[ns](1), float64(4), int64(5), object(7)\n",
      "memory usage: 50.2+ MB\n"
     ]
    }
   ],
   "source": [
    "# напоминание\n",
    "hotels_df.info()"
   ]
  },
  {
   "cell_type": "code",
   "execution_count": null,
   "id": "e52b69bc",
   "metadata": {},
   "outputs": [
    {
     "data": {
      "application/vnd.microsoft.datawrangler.viewer.v0+json": {
       "columns": [
        {
         "name": "index",
         "rawType": "int64",
         "type": "integer"
        },
        {
         "name": "hotel_address",
         "rawType": "object",
         "type": "string"
        },
        {
         "name": "additional_number_of_scoring",
         "rawType": "int64",
         "type": "integer"
        },
        {
         "name": "review_date",
         "rawType": "datetime64[ns]",
         "type": "datetime"
        },
        {
         "name": "average_score",
         "rawType": "float64",
         "type": "float"
        },
        {
         "name": "hotel_name",
         "rawType": "object",
         "type": "string"
        },
        {
         "name": "reviewer_nationality",
         "rawType": "object",
         "type": "string"
        },
        {
         "name": "negative_review",
         "rawType": "object",
         "type": "string"
        },
        {
         "name": "review_total_negative_word_counts",
         "rawType": "int64",
         "type": "integer"
        },
        {
         "name": "total_number_of_reviews",
         "rawType": "int64",
         "type": "integer"
        },
        {
         "name": "positive_review",
         "rawType": "object",
         "type": "string"
        },
        {
         "name": "review_total_positive_word_counts",
         "rawType": "int64",
         "type": "integer"
        },
        {
         "name": "total_number_of_reviews_reviewer_has_given",
         "rawType": "int64",
         "type": "integer"
        },
        {
         "name": "reviewer_score",
         "rawType": "float64",
         "type": "float"
        },
        {
         "name": "tags",
         "rawType": "object",
         "type": "string"
        },
        {
         "name": "days_since_review",
         "rawType": "object",
         "type": "string"
        },
        {
         "name": "lat",
         "rawType": "float64",
         "type": "float"
        },
        {
         "name": "lng",
         "rawType": "float64",
         "type": "float"
        }
       ],
       "ref": "73ffb86b-64fd-4b9a-b77c-604d1859b846",
       "rows": [
        [
         "0",
         "Stratton Street Mayfair Westminster Borough London W1J 8LT United Kingdom",
         "581",
         "2016-02-19 00:00:00",
         "8.4",
         "The May Fair Hotel",
         " United Kingdom ",
         " Leaving ",
         "3",
         "1994",
         " Staff were amazing",
         "4",
         "7",
         "10.0",
         "[' Leisure trip ', ' Couple ', ' Studio Suite ', ' Stayed 2 nights ', ' Submitted from a mobile device ']",
         "531 day",
         "51.5078943",
         "-0.1436707"
        ],
        [
         "1",
         "130 134 Southampton Row Camden London WC1B 5AF United Kingdom",
         "299",
         "2017-01-12 00:00:00",
         "8.3",
         "Mercure London Bloomsbury Hotel",
         " United Kingdom ",
         " poor breakfast",
         "3",
         "1361",
         " location",
         "2",
         "14",
         "6.3",
         "[' Business trip ', ' Couple ', ' Standard Double Room ', ' Stayed 1 night ']",
         "203 day",
         "51.5210085",
         "-0.1230966"
        ],
        [
         "2",
         "151 bis Rue de Rennes 6th arr 75006 Paris France",
         "32",
         "2016-10-18 00:00:00",
         "8.9",
         "Legend Saint Germain by Elegancia",
         " China ",
         " No kettle in room ",
         "6",
         "406",
         "No Positive",
         "0",
         "14",
         "7.5",
         "[' Leisure trip ', ' Solo traveler ', ' Modern Double Room Echo ', ' Stayed 3 nights ', ' Submitted from a mobile device ']",
         "289 day",
         "48.8453774",
         "2.3256427"
        ],
        [
         "3",
         "216 Avenue Jean Jaures 19th arr 75019 Paris France",
         "34",
         "2015-09-22 00:00:00",
         "7.5",
         "Mercure Paris 19 Philharmonie La Villette",
         " United Kingdom ",
         "No Negative",
         "0",
         "607",
         " Friendly staff quiet comfortable room spotlessly clean excellent location ",
         "11",
         "8",
         "10.0",
         "[' Leisure trip ', ' Solo traveler ', ' Standard Room with 1 Double Bed ', ' Stayed 1 night ']",
         "681 day",
         "48.8886969",
         "2.3945403"
        ],
        [
         "4",
         "Molenwerf 1 1014 AG Amsterdam Netherlands",
         "914",
         "2016-03-05 00:00:00",
         "8.5",
         "Golden Tulip Amsterdam West",
         " Poland ",
         " Torn sheets ",
         "4",
         "7586",
         " The staff was very friendly and helpful Breakfasts were just extraordinary Room was clean quiet and very spacious ",
         "20",
         "10",
         "9.6",
         "[' Business trip ', ' Couple ', ' Standard Double or Twin Room ', ' Stayed 6 nights ']",
         "516 day",
         "52.385601",
         "4.8470597"
        ]
       ],
       "shape": {
        "columns": 17,
        "rows": 5
       }
      },
      "text/html": [
       "<div>\n",
       "<style scoped>\n",
       "    .dataframe tbody tr th:only-of-type {\n",
       "        vertical-align: middle;\n",
       "    }\n",
       "\n",
       "    .dataframe tbody tr th {\n",
       "        vertical-align: top;\n",
       "    }\n",
       "\n",
       "    .dataframe thead th {\n",
       "        text-align: right;\n",
       "    }\n",
       "</style>\n",
       "<table border=\"1\" class=\"dataframe\">\n",
       "  <thead>\n",
       "    <tr style=\"text-align: right;\">\n",
       "      <th></th>\n",
       "      <th>hotel_address</th>\n",
       "      <th>additional_number_of_scoring</th>\n",
       "      <th>review_date</th>\n",
       "      <th>average_score</th>\n",
       "      <th>hotel_name</th>\n",
       "      <th>reviewer_nationality</th>\n",
       "      <th>negative_review</th>\n",
       "      <th>review_total_negative_word_counts</th>\n",
       "      <th>total_number_of_reviews</th>\n",
       "      <th>positive_review</th>\n",
       "      <th>review_total_positive_word_counts</th>\n",
       "      <th>total_number_of_reviews_reviewer_has_given</th>\n",
       "      <th>reviewer_score</th>\n",
       "      <th>tags</th>\n",
       "      <th>days_since_review</th>\n",
       "      <th>lat</th>\n",
       "      <th>lng</th>\n",
       "    </tr>\n",
       "  </thead>\n",
       "  <tbody>\n",
       "    <tr>\n",
       "      <th>0</th>\n",
       "      <td>Stratton Street Mayfair Westminster Borough Lo...</td>\n",
       "      <td>581</td>\n",
       "      <td>2016-02-19</td>\n",
       "      <td>8.4</td>\n",
       "      <td>The May Fair Hotel</td>\n",
       "      <td>United Kingdom</td>\n",
       "      <td>Leaving</td>\n",
       "      <td>3</td>\n",
       "      <td>1994</td>\n",
       "      <td>Staff were amazing</td>\n",
       "      <td>4</td>\n",
       "      <td>7</td>\n",
       "      <td>10.0</td>\n",
       "      <td>[' Leisure trip ', ' Couple ', ' Studio Suite ...</td>\n",
       "      <td>531 day</td>\n",
       "      <td>51.507894</td>\n",
       "      <td>-0.143671</td>\n",
       "    </tr>\n",
       "    <tr>\n",
       "      <th>1</th>\n",
       "      <td>130 134 Southampton Row Camden London WC1B 5AF...</td>\n",
       "      <td>299</td>\n",
       "      <td>2017-01-12</td>\n",
       "      <td>8.3</td>\n",
       "      <td>Mercure London Bloomsbury Hotel</td>\n",
       "      <td>United Kingdom</td>\n",
       "      <td>poor breakfast</td>\n",
       "      <td>3</td>\n",
       "      <td>1361</td>\n",
       "      <td>location</td>\n",
       "      <td>2</td>\n",
       "      <td>14</td>\n",
       "      <td>6.3</td>\n",
       "      <td>[' Business trip ', ' Couple ', ' Standard Dou...</td>\n",
       "      <td>203 day</td>\n",
       "      <td>51.521009</td>\n",
       "      <td>-0.123097</td>\n",
       "    </tr>\n",
       "    <tr>\n",
       "      <th>2</th>\n",
       "      <td>151 bis Rue de Rennes 6th arr 75006 Paris France</td>\n",
       "      <td>32</td>\n",
       "      <td>2016-10-18</td>\n",
       "      <td>8.9</td>\n",
       "      <td>Legend Saint Germain by Elegancia</td>\n",
       "      <td>China</td>\n",
       "      <td>No kettle in room</td>\n",
       "      <td>6</td>\n",
       "      <td>406</td>\n",
       "      <td>No Positive</td>\n",
       "      <td>0</td>\n",
       "      <td>14</td>\n",
       "      <td>7.5</td>\n",
       "      <td>[' Leisure trip ', ' Solo traveler ', ' Modern...</td>\n",
       "      <td>289 day</td>\n",
       "      <td>48.845377</td>\n",
       "      <td>2.325643</td>\n",
       "    </tr>\n",
       "    <tr>\n",
       "      <th>3</th>\n",
       "      <td>216 Avenue Jean Jaures 19th arr 75019 Paris Fr...</td>\n",
       "      <td>34</td>\n",
       "      <td>2015-09-22</td>\n",
       "      <td>7.5</td>\n",
       "      <td>Mercure Paris 19 Philharmonie La Villette</td>\n",
       "      <td>United Kingdom</td>\n",
       "      <td>No Negative</td>\n",
       "      <td>0</td>\n",
       "      <td>607</td>\n",
       "      <td>Friendly staff quiet comfortable room spotles...</td>\n",
       "      <td>11</td>\n",
       "      <td>8</td>\n",
       "      <td>10.0</td>\n",
       "      <td>[' Leisure trip ', ' Solo traveler ', ' Standa...</td>\n",
       "      <td>681 day</td>\n",
       "      <td>48.888697</td>\n",
       "      <td>2.394540</td>\n",
       "    </tr>\n",
       "    <tr>\n",
       "      <th>4</th>\n",
       "      <td>Molenwerf 1 1014 AG Amsterdam Netherlands</td>\n",
       "      <td>914</td>\n",
       "      <td>2016-03-05</td>\n",
       "      <td>8.5</td>\n",
       "      <td>Golden Tulip Amsterdam West</td>\n",
       "      <td>Poland</td>\n",
       "      <td>Torn sheets</td>\n",
       "      <td>4</td>\n",
       "      <td>7586</td>\n",
       "      <td>The staff was very friendly and helpful Break...</td>\n",
       "      <td>20</td>\n",
       "      <td>10</td>\n",
       "      <td>9.6</td>\n",
       "      <td>[' Business trip ', ' Couple ', ' Standard Dou...</td>\n",
       "      <td>516 day</td>\n",
       "      <td>52.385601</td>\n",
       "      <td>4.847060</td>\n",
       "    </tr>\n",
       "  </tbody>\n",
       "</table>\n",
       "</div>"
      ],
      "text/plain": [
       "                                       hotel_address  \\\n",
       "0  Stratton Street Mayfair Westminster Borough Lo...   \n",
       "1  130 134 Southampton Row Camden London WC1B 5AF...   \n",
       "2   151 bis Rue de Rennes 6th arr 75006 Paris France   \n",
       "3  216 Avenue Jean Jaures 19th arr 75019 Paris Fr...   \n",
       "4          Molenwerf 1 1014 AG Amsterdam Netherlands   \n",
       "\n",
       "   additional_number_of_scoring review_date  average_score  \\\n",
       "0                           581  2016-02-19            8.4   \n",
       "1                           299  2017-01-12            8.3   \n",
       "2                            32  2016-10-18            8.9   \n",
       "3                            34  2015-09-22            7.5   \n",
       "4                           914  2016-03-05            8.5   \n",
       "\n",
       "                                  hotel_name reviewer_nationality  \\\n",
       "0                         The May Fair Hotel      United Kingdom    \n",
       "1            Mercure London Bloomsbury Hotel      United Kingdom    \n",
       "2          Legend Saint Germain by Elegancia               China    \n",
       "3  Mercure Paris 19 Philharmonie La Villette      United Kingdom    \n",
       "4                Golden Tulip Amsterdam West              Poland    \n",
       "\n",
       "       negative_review  review_total_negative_word_counts  \\\n",
       "0             Leaving                                   3   \n",
       "1       poor breakfast                                  3   \n",
       "2   No kettle in room                                   6   \n",
       "3          No Negative                                  0   \n",
       "4         Torn sheets                                   4   \n",
       "\n",
       "   total_number_of_reviews                                    positive_review  \\\n",
       "0                     1994                                 Staff were amazing   \n",
       "1                     1361                                           location   \n",
       "2                      406                                        No Positive   \n",
       "3                      607   Friendly staff quiet comfortable room spotles...   \n",
       "4                     7586   The staff was very friendly and helpful Break...   \n",
       "\n",
       "   review_total_positive_word_counts  \\\n",
       "0                                  4   \n",
       "1                                  2   \n",
       "2                                  0   \n",
       "3                                 11   \n",
       "4                                 20   \n",
       "\n",
       "   total_number_of_reviews_reviewer_has_given  reviewer_score  \\\n",
       "0                                           7            10.0   \n",
       "1                                          14             6.3   \n",
       "2                                          14             7.5   \n",
       "3                                           8            10.0   \n",
       "4                                          10             9.6   \n",
       "\n",
       "                                                tags days_since_review  \\\n",
       "0  [' Leisure trip ', ' Couple ', ' Studio Suite ...           531 day   \n",
       "1  [' Business trip ', ' Couple ', ' Standard Dou...           203 day   \n",
       "2  [' Leisure trip ', ' Solo traveler ', ' Modern...           289 day   \n",
       "3  [' Leisure trip ', ' Solo traveler ', ' Standa...           681 day   \n",
       "4  [' Business trip ', ' Couple ', ' Standard Dou...           516 day   \n",
       "\n",
       "         lat       lng  \n",
       "0  51.507894 -0.143671  \n",
       "1  51.521009 -0.123097  \n",
       "2  48.845377  2.325643  \n",
       "3  48.888697  2.394540  \n",
       "4  52.385601  4.847060  "
      ]
     },
     "execution_count": 24,
     "metadata": {},
     "output_type": "execute_result"
    }
   ],
   "source": [
    "# напоминание\n",
    "hotels_df.head()"
   ]
  },
  {
   "cell_type": "code",
   "execution_count": 26,
   "id": "8205f57e",
   "metadata": {},
   "outputs": [
    {
     "data": {
      "application/vnd.microsoft.datawrangler.viewer.v0+json": {
       "columns": [
        {
         "name": "index",
         "rawType": "int64",
         "type": "integer"
        },
        {
         "name": "hotel_address",
         "rawType": "object",
         "type": "string"
        },
        {
         "name": "additional_number_of_scoring",
         "rawType": "int64",
         "type": "integer"
        },
        {
         "name": "review_date",
         "rawType": "datetime64[ns]",
         "type": "datetime"
        },
        {
         "name": "average_score",
         "rawType": "float64",
         "type": "float"
        },
        {
         "name": "hotel_name",
         "rawType": "object",
         "type": "string"
        },
        {
         "name": "reviewer_nationality",
         "rawType": "object",
         "type": "string"
        },
        {
         "name": "negative_review",
         "rawType": "object",
         "type": "string"
        },
        {
         "name": "review_total_negative_word_counts",
         "rawType": "int64",
         "type": "integer"
        },
        {
         "name": "total_number_of_reviews",
         "rawType": "int64",
         "type": "integer"
        },
        {
         "name": "positive_review",
         "rawType": "object",
         "type": "string"
        },
        {
         "name": "review_total_positive_word_counts",
         "rawType": "int64",
         "type": "integer"
        },
        {
         "name": "total_number_of_reviews_reviewer_has_given",
         "rawType": "int64",
         "type": "integer"
        },
        {
         "name": "reviewer_score",
         "rawType": "float64",
         "type": "float"
        },
        {
         "name": "tags",
         "rawType": "object",
         "type": "string"
        },
        {
         "name": "days_since_review",
         "rawType": "int64",
         "type": "integer"
        },
        {
         "name": "lat",
         "rawType": "float64",
         "type": "float"
        },
        {
         "name": "lng",
         "rawType": "float64",
         "type": "float"
        }
       ],
       "ref": "f42d132e-e400-4c7b-9fad-dc9958094a25",
       "rows": [
        [
         "0",
         "Stratton Street Mayfair Westminster Borough London W1J 8LT United Kingdom",
         "581",
         "2016-02-19 00:00:00",
         "8.4",
         "The May Fair Hotel",
         " United Kingdom ",
         " Leaving ",
         "3",
         "1994",
         " Staff were amazing",
         "4",
         "7",
         "10.0",
         "[' Leisure trip ', ' Couple ', ' Studio Suite ', ' Stayed 2 nights ', ' Submitted from a mobile device ']",
         "531",
         "51.5078943",
         "-0.1436707"
        ],
        [
         "1",
         "130 134 Southampton Row Camden London WC1B 5AF United Kingdom",
         "299",
         "2017-01-12 00:00:00",
         "8.3",
         "Mercure London Bloomsbury Hotel",
         " United Kingdom ",
         " poor breakfast",
         "3",
         "1361",
         " location",
         "2",
         "14",
         "6.3",
         "[' Business trip ', ' Couple ', ' Standard Double Room ', ' Stayed 1 night ']",
         "203",
         "51.5210085",
         "-0.1230966"
        ],
        [
         "2",
         "151 bis Rue de Rennes 6th arr 75006 Paris France",
         "32",
         "2016-10-18 00:00:00",
         "8.9",
         "Legend Saint Germain by Elegancia",
         " China ",
         " No kettle in room ",
         "6",
         "406",
         "No Positive",
         "0",
         "14",
         "7.5",
         "[' Leisure trip ', ' Solo traveler ', ' Modern Double Room Echo ', ' Stayed 3 nights ', ' Submitted from a mobile device ']",
         "289",
         "48.8453774",
         "2.3256427"
        ],
        [
         "3",
         "216 Avenue Jean Jaures 19th arr 75019 Paris France",
         "34",
         "2015-09-22 00:00:00",
         "7.5",
         "Mercure Paris 19 Philharmonie La Villette",
         " United Kingdom ",
         "No Negative",
         "0",
         "607",
         " Friendly staff quiet comfortable room spotlessly clean excellent location ",
         "11",
         "8",
         "10.0",
         "[' Leisure trip ', ' Solo traveler ', ' Standard Room with 1 Double Bed ', ' Stayed 1 night ']",
         "681",
         "48.8886969",
         "2.3945403"
        ],
        [
         "4",
         "Molenwerf 1 1014 AG Amsterdam Netherlands",
         "914",
         "2016-03-05 00:00:00",
         "8.5",
         "Golden Tulip Amsterdam West",
         " Poland ",
         " Torn sheets ",
         "4",
         "7586",
         " The staff was very friendly and helpful Breakfasts were just extraordinary Room was clean quiet and very spacious ",
         "20",
         "10",
         "9.6",
         "[' Business trip ', ' Couple ', ' Standard Double or Twin Room ', ' Stayed 6 nights ']",
         "516",
         "52.385601",
         "4.8470597"
        ],
        [
         "5",
         "Via Mecenate 121 20138 Milan Italy",
         "105",
         "2015-12-30 00:00:00",
         "8.0",
         "Novotel Milano Linate Aeroporto",
         " France ",
         " Nothing",
         "2",
         "1607",
         " Very nice hotel Price is excellent when compared to quality Very quiet Good food ",
         "16",
         "1",
         "10.0",
         "[' Business trip ', ' Solo traveler ', ' Superior Twin Room ', ' Stayed 1 night ', ' Submitted from a mobile device ']",
         "582",
         "45.4481878",
         "9.2570459"
        ],
        [
         "6",
         "97 Cromwell Road Kensington and Chelsea London SW7 4DN United Kingdom",
         "854",
         "2017-05-18 00:00:00",
         "7.8",
         "Holiday Inn London Kensington Forum",
         " United Kingdom ",
         " Nothing it was lovely ",
         "6",
         "3867",
         " Very central location 2 minutes walk from Gloucester Rd tube station and 10 15 minutes walk from the museums Lots of restaurants and bars on the doorstep ",
         "29",
         "4",
         "9.6",
         "[' Leisure trip ', ' Couple ', ' Double Room Non Smoking ', ' Stayed 1 night ', ' Submitted from a mobile device ']",
         "77",
         "51.4942305",
         "-0.1851141"
        ],
        [
         "7",
         "Josefsgasse 4 6 08 Josefstadt 1080 Vienna Austria",
         "227",
         "2017-01-23 00:00:00",
         "8.3",
         "Mercure Josefshof Wien",
         " United Kingdom ",
         " The communal areas are a bit soul less and the breakfast whilst very good is expensive But you can always use the cafe at the tram stop Elise I think for breakfast and late night drinks We did ",
         "40",
         "2526",
         " The location is good for transport links especially if you are a tram lover the number 2 stops two minutes away easy walk to the centre past the rathaus and as a bonus there is an excellent non smoking cafe opposite the tram stop We had a superior privilege room which was a strange shape with sloping roof even though we weren t on the top floor very bling gold decor I liked the Klimpt bathroom door but comfortable clean and with a good walk in shower The street above the hotel has a supermarket some nice niche shops and good restaurants at both ends ",
         "107",
         "39",
         "8.3",
         "[' Leisure trip ', ' Couple ', ' Superior Double Room ', ' Stayed 4 nights ']",
         "192",
         "48.2085627",
         "16.3541687"
        ],
        [
         "8",
         "190 Queen s Gate Kensington and Chelsea London SW7 5EX United Kingdom",
         "227",
         "2015-11-24 00:00:00",
         "8.6",
         "The Gore Hotel Starhotels Collezione",
         " United Kingdom ",
         " undergoing refurbishment no tea coffer in room room very small no ramp at entrance for wheeled suitcases no coffee available in lounge next morning early checkout at 11 00am",
         "30",
         "968",
         " staff very good location wonderful ",
         "7",
         "3",
         "8.3",
         "[' Leisure trip ', ' Couple ', ' Double Room ', ' Stayed 1 night ']",
         "618",
         "51.5001979",
         "-0.1795357"
        ],
        [
         "9",
         "Holland Park Avenue Kensington and Chelsea London W11 4UL United Kingdom",
         "843",
         "2016-02-02 00:00:00",
         "7.8",
         "Hilton London Kensington Hotel",
         " United Kingdom ",
         " I advised it was for my husbands birthday and reception gave us a twin room when i booked a double I asked for little extras to be put in the room for his birthday and it was given too late and didnt make it special ",
         "47",
         "3801",
         "No Positive",
         "0",
         "1",
         "6.7",
         "[' Leisure trip ', ' Couple ', ' Twin Hilton Guest Room ', ' Stayed 1 night ', ' Submitted from a mobile device ']",
         "548",
         "51.5051084",
         "-0.213266"
        ],
        [
         "10",
         "Molenwerf 1 1014 AG Amsterdam Netherlands",
         "914",
         "2016-10-19 00:00:00",
         "8.5",
         "Golden Tulip Amsterdam West",
         " United Kingdom ",
         " They have lost their license and cannot sell alcohol or change your currency ",
         "15",
         "7586",
         " Rooms were really nice With great bathroom shower room",
         "10",
         "1",
         "7.9",
         "[' Business trip ', ' Solo traveler ', ' Standard Double or Twin Room ', ' Stayed 1 night ']",
         "288",
         "52.385601",
         "4.8470597"
        ],
        [
         "11",
         "34 44 Barkston Gardens Kensington and Chelsea London SW5 0EW United Kingdom",
         "147",
         "2016-05-10 00:00:00",
         "9.1",
         "Hotel Indigo London Kensington",
         " United Kingdom ",
         " feel there isnt much to be improved upon with this hotel excellent all round",
         "15",
         "975",
         " the rooms were spacious and very comfy very close to the underground and in a nice area very reasonably priced as well would definitely return",
         "26",
         "1",
         "10.0",
         "[' Leisure trip ', ' Couple ', ' Standard Double Room ', ' Stayed 1 night ']",
         "450",
         "51.4920287",
         "-0.1917801"
        ],
        [
         "12",
         "16 Sumner Place Kensington and Chelsea London SW7 3EG United Kingdom",
         "73",
         "2017-02-20 00:00:00",
         "9.1",
         "Number Sixteen",
         " Switzerland ",
         "No Negative",
         "0",
         "270",
         " Great location beautiful design very friendly and kind reception brilliant service super breakfast",
         "14",
         "1",
         "10.0",
         "[' Business trip ', ' Family with young children ', ' Luxury Room ', ' Stayed 1 night ']",
         "164",
         "51.4930905",
         "-0.1755022"
        ],
        [
         "13",
         "97 Cromwell Road Kensington and Chelsea London SW7 4DN United Kingdom",
         "854",
         "2016-06-30 00:00:00",
         "7.8",
         "Holiday Inn London Kensington Forum",
         " United Kingdom ",
         " N A",
         "3",
         "3867",
         " Healthy breakfast friendly staff nice room value for the money",
         "11",
         "1",
         "8.3",
         "[' Leisure trip ', ' Couple ', ' Double or Twin Room Non Smoking ', ' Stayed 1 night ', ' Submitted from a mobile device ']",
         "399",
         "51.4942305",
         "-0.1851141"
        ],
        [
         "14",
         "Putget 68 Sarri St Gervasi 08023 Barcelona Spain",
         "258",
         "2017-02-19 00:00:00",
         "7.4",
         "Catalonia Park Putxet",
         " Bulgaria ",
         "No Negative",
         "0",
         "3590",
         " Nice hotel very good location",
         "6",
         "7",
         "7.5",
         "[' Leisure trip ', ' Couple ', ' Double or Twin Room ', ' Stayed 4 nights ', ' Submitted from a mobile device ']",
         "165",
         "41.4072812",
         "2.1443116"
        ],
        [
         "15",
         "Caspe 103 Eixample 08013 Barcelona Spain",
         "312",
         "2016-10-17 00:00:00",
         "8.5",
         "Ayre Hotel Caspe",
         " Lebanon ",
         "No Negative",
         "0",
         "3442",
         " Very comfortable hotel close to metro located in a quiet area ",
         "13",
         "16",
         "8.8",
         "[' Leisure trip ', ' Couple ', ' Double or Twin Room ', ' Stayed 1 night ']",
         "290",
         "41.3961021",
         "2.1794688"
        ],
        [
         "16",
         "1 Kings Cross Road Islington London WC1X 9HX United Kingdom",
         "628",
         "2017-05-06 00:00:00",
         "8.1",
         "Crowne Plaza London Kings Cross",
         " United Kingdom ",
         " Nothing hotel refurb great",
         "5",
         "2312",
         " Room very good",
         "4",
         "1",
         "8.8",
         "[' Business trip ', ' Solo traveler ', ' Standard Room ', ' Stayed 1 night ', ' Submitted from a mobile device ']",
         "89",
         "51.5263854",
         "-0.1136042"
        ],
        [
         "17",
         "Wrights Lane Kensington and Chelsea London W8 5SP United Kingdom",
         "1172",
         "2017-07-05 00:00:00",
         "7.8",
         "Holiday Inn London Kensington",
         " United Kingdom ",
         " Nothing ",
         "3",
         "5945",
         " Brilliant location just 100 yds or so off Kensington High St Ideal for shopping socialising and local to the tube Room was small as I would expect in central London but perfectly put together ",
         "36",
         "2",
         "9.6",
         "[' Leisure trip ', ' Group ', ' Standard Room ', ' Stayed 2 nights ', ' Submitted from a mobile device ']",
         "29",
         "51.499981",
         "-0.1928791"
        ],
        [
         "18",
         "59 Leinster Square Kensington and Chelsea London W2 4PS United Kingdom",
         "337",
         "2016-03-08 00:00:00",
         "7.6",
         "New Linden Hotel",
         " United Arab Emirates ",
         " I got a room in Basment 1 room 09 in same time next room 10 has some mantance work which made a noise early morning also it is not fair the check out at 10 30 am where there some hotel next to them has normal check out at 12",
         "51",
         "2820",
         " it was good location but not close to main street or metro station Also the reception staff keep Changing and not look so professional in deal with guest cleaning is ok and the Breakfast is good ",
         "38",
         "10",
         "5.4",
         "[' Leisure trip ', ' Solo traveler ', ' Standard Double Room ', ' Stayed 2 nights ']",
         "513",
         "51.5133832",
         "-0.1926617"
        ],
        [
         "19",
         "Pintor Fortuny 13 Ciutat Vella 08001 Barcelona Spain",
         "184",
         "2015-09-25 00:00:00",
         "7.9",
         "Silken Ramblas",
         " South Africa ",
         " The Gym was badly equipped I think the space could be put to better use There is no way it could be described as a Gym ",
         "28",
         "1949",
         " The Hotel was well located It had a swimming pool which was lovely to cool down in after spending the day sightseeing ",
         "24",
         "3",
         "7.5",
         "[' Leisure trip ', ' Couple ', ' Comfort Double or Twin Room ', ' Stayed 4 nights ']",
         "678",
         "41.3830117",
         "2.1700699"
        ],
        [
         "20",
         "20 Upper Ground Southwark London SE1 9PD United Kingdom",
         "1100",
         "2016-06-07 00:00:00",
         "9.1",
         "Mondrian London",
         " United Kingdom ",
         " Asked for a room over the Thames but got the back of the hotel no view thought we would splash out for a 5 star hotel for our anniversary as a special treat thought a room with a view would have been prefect no bath in the room was offered another room with a bath for an extra 60 We declined The shower was cold in the morning We was given a free drinks voucher which was posted under our door in the early hours of the morning not much use when booking out at 11am",
         "97",
         "3611",
         " Very contemporary situated on Thames for lovely view from the restaurant",
         "12",
         "1",
         "6.3",
         "[' Leisure trip ', ' Couple ', ' Standard ', ' Stayed 1 night ', ' Submitted from a mobile device ']",
         "422",
         "51.5084036",
         "-0.1067988"
        ],
        [
         "21",
         "152 Cricklewood Broadway Cricklewood London NW2 3ED United Kingdom",
         "512",
         "2016-07-04 00:00:00",
         "8.0",
         "Clayton Crown Hotel London",
         " United Kingdom ",
         " Room wasn t exactly quiet when a large group of tourists was in the lobby and exiting as all the noise seemed to funnel straight up to the room same for the wedding party giveing a send off to the happy couple but nowhere would have been quiet for that one ",
         "53",
         "2491",
         " Was in Room 351 and it was very large being on a corner of a curved building Lots of space to move around The food in the pub was spartan but served promptly by the staff short on tables seating but its a modern pub where you are expected to stand ",
         "53",
         "14",
         "7.5",
         "[' Business trip ', ' Solo traveler ', ' Executive Double Room ', ' Stayed 2 nights ']",
         "395",
         "51.5561548",
         "-0.2141824"
        ],
        [
         "22",
         "10a Chestnut Plaza Westfield Stratford City Olympic Park Newham London E20 1GL United Kingdom",
         "641",
         "2016-07-28 00:00:00",
         "8.7",
         "Holiday Inn London Stratford City",
         " Nigeria ",
         " No microwave and the size of bed is too small Also no refrigerator for storing food and drinks",
         "19",
         "2130",
         " Location",
         "2",
         "2",
         "8.8",
         "[' Leisure trip ', ' Couple ', ' Twin Room Non Smoking ', ' Stayed 6 nights ', ' Submitted from a mobile device ']",
         "371",
         "51.5426054",
         "-0.0072708"
        ],
        [
         "23",
         "1 Addington Street Lambeth London SE1 7RY United Kingdom",
         "1322",
         "2017-04-15 00:00:00",
         "8.4",
         "Park Plaza County Hall London",
         " Sweden ",
         " The view even thaught specially asked for a Good view",
         "11",
         "6117",
         "No Positive",
         "0",
         "4",
         "6.7",
         "[' Leisure trip ', ' Family with young children ', ' Studio Double Family ', ' Stayed 3 nights ', ' Submitted from a mobile device ']",
         "110",
         "51.5014001",
         "-0.1160092"
        ],
        [
         "24",
         "8 rue Laferriere 9th arr 75009 Paris France",
         "42",
         "2016-11-23 00:00:00",
         "8.7",
         "H tel Arvor Saint Georges",
         " United States of America ",
         " we did not like the charge for a Continental breakfast when we discovered we were being charged we quit eating there it was way too much money for what you got we went to cafes and got much more for a lot less",
         "44",
         "493",
         " we loved the location and the staff was great",
         "10",
         "3",
         "7.9",
         "[' Leisure trip ', ' Couple ', ' Double Twin Superior Room ', ' Stayed 4 nights ']",
         "253",
         "48.8785454",
         "2.3384866"
        ],
        [
         "25",
         "K rntner Ring 8 01 Innere Stadt 1010 Vienna Austria",
         "107",
         "2016-06-08 00:00:00",
         "9.0",
         "The Ring Vienna s Casual Luxury Hotel",
         " United States of America ",
         " bar",
         "2",
         "917",
         " Spacious room and bathroom very comfortable bed",
         "8",
         "2",
         "9.6",
         "[' Leisure trip ', ' Couple ', ' X Ordinary Room ', ' Stayed 2 nights ']",
         "421",
         "48.2017091",
         "16.3710205"
        ],
        [
         "26",
         "Balmes 117 Eixample 08008 Barcelona Spain",
         "244",
         "2016-09-23 00:00:00",
         "9.3",
         "Olivia Balmes Hotel",
         " United Arab Emirates ",
         "No Negative",
         "0",
         "1835",
         " Amazinging",
         "2",
         "3",
         "9.2",
         "[' Leisure trip ', ' Family with young children ', ' Standard Double or Twin Room ', ' Stayed 3 nights ', ' Submitted from a mobile device ']",
         "314",
         "41.392095",
         "2.158493"
        ],
        [
         "27",
         "Delflandlaan 15 Slotervaart 1062 EA Amsterdam Netherlands",
         "947",
         "2016-02-28 00:00:00",
         "8.7",
         "Best Western Premier Hotel Couture",
         " Hong Kong ",
         " Only one to two staff to operate the front desk When we arrive had to wait for long time to check in to the room",
         "26",
         "8177",
         " Very nice hotel Clean and Morden There is a coffee machine that u can enjoy coffee n tea Also very close to the public transport Away from central station about 15 mins To airport is only 20 mins taxi ",
         "41",
         "15",
         "7.9",
         "[' Leisure trip ', ' Group ', ' 2 rooms ', ' Stayed 2 nights ', ' Submitted from a mobile device ']",
         "522",
         "52.3511137",
         "4.8411629"
        ],
        [
         "28",
         "Apollolaan 138 Oud Zuid 1077 BG Amsterdam Netherlands",
         "168",
         "2016-11-01 00:00:00",
         "8.3",
         "Hilton Amsterdam",
         " Luxembourg ",
         " The room was outdated and not that clean especially for a five star We felt that the menu for room service was way over priced And usually at five stars water bottles are complimentary but the water was overpriced in the mini bar ",
         "45",
         "1064",
         " The location was great and the staff was extremely friendly ",
         "12",
         "5",
         "7.1",
         "[' Leisure trip ', ' Family with young children ', ' King Deluxe Guest Room ', ' Stayed 2 nights ', ' Submitted from a mobile device ']",
         "275",
         "52.351381",
         "4.872723"
        ],
        [
         "29",
         "88 Holland Road Kensington and Chelsea London W14 8BN United Kingdom",
         "197",
         "2016-08-09 00:00:00",
         "8.4",
         "88 Studios",
         " United Arab Emirates ",
         " No restaurant on the premises or even a small cafe I had a double suite which was just about okay for a single occupancy Double occupancy would be an issue with luggage storage and the like ",
         "38",
         "955",
         " A comfortable room for single occupancy and a proper shower A decent location within walking distance of High Street Kensington and Shepherd s Bush ",
         "26",
         "1",
         "7.1",
         "[' Leisure trip ', ' Solo traveler ', ' Double Studio ', ' Stayed 4 nights ', ' Submitted from a mobile device ']",
         "359",
         "51.4992789",
         "-0.2090733"
        ],
        [
         "30",
         "Karspeldreef 2 Zuidoost 1101 CJ Amsterdam Netherlands",
         "278",
         "2015-08-20 00:00:00",
         "7.6",
         "Ozo Hotel",
         " United Kingdom ",
         " There is only one iron available in the communal area and it s useless They also don t have room service ",
         "23",
         "3383",
         " The price is very good The metro is a three minute walk and 20 minute ride into town I liked having access to parking and wifi the most The restaurant served good food and was also a good price ",
         "41",
         "2",
         "9.6",
         "[' Leisure trip ', ' Couple ', ' Double Room ', ' Stayed 2 nights ', ' Submitted from a mobile device ']",
         "714",
         "52.3047669",
         "4.9476868"
        ],
        [
         "31",
         "130 135 Minories City of London London EC3N 1NU United Kingdom",
         "465",
         "2016-07-25 00:00:00",
         "8.9",
         "The Chamberlain",
         " United States of America ",
         "No Negative",
         "0",
         "2543",
         " So appreciate the option of adding a 3rd person to the room Thank you",
         "15",
         "3",
         "9.2",
         "[' Family with older children ', ' Luxury Double Room ', ' Stayed 4 nights ', ' Submitted from a mobile device ']",
         "374",
         "51.5122457",
         "-0.0757326"
        ],
        [
         "32",
         "Rusland 17 Amsterdam City Center 1012 CK Amsterdam Netherlands",
         "827",
         "2016-04-03 00:00:00",
         "8.6",
         "Radisson Blu Hotel Amsterdam",
         " United Kingdom ",
         "No Negative",
         "0",
         "4593",
         " Beautiful hotel great location and the staff were always so helpful ",
         "13",
         "2",
         "10.0",
         "[' Leisure trip ', ' Solo traveler ', ' Standard Double or Twin Room ', ' Stayed 2 nights ']",
         "487",
         "52.3702469",
         "4.8966743"
        ],
        [
         "33",
         "163 Marsh Wall Docklands Tower Hamlets London E14 9SJ United Kingdom",
         "2682",
         "2016-02-09 00:00:00",
         "7.1",
         "Britannia International Hotel Canary Wharf",
         " United Kingdom ",
         " Personnel was very rude Housekeeping staff don t have basic knowledge of English Even when we have put DND sign on the door they have stormed I to the room with the vacuum cleaner while I was having a bath 4 times When I have made complain at the reception regarding this incident I haven t received any apologies but I have also been told that if I don t like it I can always change the hotel ",
         "80",
         "9086",
         " Location was very good to commute within Canary Wharf area",
         "11",
         "7",
         "3.3",
         "[' Business trip ', ' Couple ', ' Standard Double Room without Window ', ' Stayed 1 night ', ' Submitted from a mobile device ']",
         "541",
         "51.5019097",
         "-0.0232208"
        ],
        [
         "34",
         "36 37 Lancaster Gate Westminster Borough London W2 3NA United Kingdom",
         "322",
         "2016-12-13 00:00:00",
         "8.4",
         "Arbor Hyde Park",
         " Netherlands ",
         " No real bar",
         "4",
         "2140",
         " Great Location Very Quiet Wifi Works Well Friendly Staff",
         "10",
         "62",
         "9.2",
         "[' Business trip ', ' Solo traveler ', ' Executive Double Room ', ' Stayed 2 nights ']",
         "233",
         "51.5126488",
         "-0.1803795"
        ],
        [
         "35",
         "Via Fatebenefratelli 21 Milan City Center 20121 Milan Italy",
         "233",
         "2015-08-12 00:00:00",
         "8.5",
         "Hotel Cavour",
         " United Arab Emirates ",
         " The corridors and public area was so old ",
         "10",
         "2463",
         " The location was good",
         "5",
         "8",
         "7.1",
         "[' Leisure trip ', ' Solo traveler ', ' Hypoallergenic Double or Twin Room ', ' Stayed 2 nights ', ' Submitted from a mobile device ']",
         "722",
         "45.4726942",
         "9.1943911"
        ],
        [
         "36",
         "10a Chestnut Plaza Westfield Stratford City Olympic Park Newham London E20 1GL United Kingdom",
         "641",
         "2017-04-15 00:00:00",
         "8.7",
         "Holiday Inn London Stratford City",
         " United Kingdom ",
         " Nothing This hotel has everything",
         "6",
         "2130",
         " Very clean contemporary comfortable room ideal for a city theatre break Ideal location for the high speed rail link and central line into London Also Westfield shopping is literally a hop skip and jump away ",
         "37",
         "2",
         "9.2",
         "[' Leisure trip ', ' Couple ', ' Standard Double or Twin Room ', ' Stayed 1 night ', ' Submitted from a mobile device ']",
         "110",
         "51.5426054",
         "-0.0072708"
        ],
        [
         "37",
         "65 73 Shaftesbury Avenue Westminster Borough London W1D 6EX United Kingdom",
         "531",
         "2016-06-18 00:00:00",
         "9.0",
         "The Piccadilly London West End",
         " South Africa ",
         " Nothing ",
         "3",
         "2298",
         " This hotel is well located in the Soho area so convenience to get around London is great There is a station close by to get back to the airport Many restaurants are around Free wifi There was even a cell phone with map functions that was at our disposal Very nice ",
         "53",
         "5",
         "9.6",
         "[' Leisure trip ', ' Couple ', ' Premier Double Room ', ' Stayed 1 night ', ' Submitted from a mobile device ']",
         "411",
         "51.5121957",
         "-0.1318384"
        ],
        [
         "38",
         "20 Rue Jean Rey 15th arr 75015 Paris France",
         "333",
         "2015-10-24 00:00:00",
         "8.0",
         "Mercure Paris Centre Tour Eiffel",
         " United Kingdom ",
         " Bar prices expensive To be expected being in the centre of Paris ",
         "14",
         "2611",
         " Great Location Friendly helpful staff comfortable rooms Very Clean ",
         "11",
         "4",
         "10.0",
         "[' Leisure trip ', ' Family with older children ', ' Standard Room with Double Bed and Sofa Bed ', ' Stayed 3 nights ', ' Submitted from a mobile device ']",
         "649",
         "48.8548641",
         "2.2923181"
        ],
        [
         "39",
         "28 Ebury Street Westminster Borough London SW1W 0LU United Kingdom",
         "60",
         "2016-07-19 00:00:00",
         "6.6",
         "The Tophams Hotel",
         " Jersey ",
         " Initial impression reception is good fruit cakes friendly staff comfortable area to sit However the bathroom of my room is in need of some refurbishment loose floor tile badly cracked toilet cistern has been repaired but still a little worrying broken tap ",
         "44",
         "411",
         " Friendly and helpful staff perfect location good sized room which was slightly off the main corridor so no noise issues ",
         "22",
         "8",
         "7.9",
         "[' Leisure trip ', ' Solo traveler ', ' Double Room ', ' Stayed 1 night ']",
         "380",
         "51.4957436",
         "-0.1477528"
        ],
        [
         "40",
         "Pallars 121 125 Sant Mart 08018 Barcelona Spain",
         "305",
         "2017-05-23 00:00:00",
         "8.0",
         "Hotel Spa Villa Olimpica Suites",
         " United Kingdom ",
         " Only stayed one night so cant say",
         "8",
         "3565",
         " Only stayed one night so unable to judge fully ",
         "11",
         "1",
         "8.8",
         "[' Leisure trip ', ' Group ', ' Double Room ', ' Stayed 1 night ', ' Submitted from a mobile device ']",
         "72",
         "41.3971434",
         "2.1921947"
        ],
        [
         "41",
         "Diputaci 257 Eixample 08007 Barcelona Spain",
         "221",
         "2015-10-20 00:00:00",
         "8.2",
         "Eurostars Cristal Palace",
         " Sweden ",
         " Bed was a little too hard for me ",
         "10",
         "3046",
         " Quick and courteous service a great location and a lovely breakfast ",
         "13",
         "6",
         "8.8",
         "[' Leisure trip ', ' Group ', ' Basic Double Room ', ' Stayed 3 nights ']",
         "653",
         "41.3897945",
         "2.1660575"
        ],
        [
         "42",
         "Leidsekade 97 Amsterdam City Center 1017 PN Amsterdam Netherlands",
         "601",
         "2015-08-16 00:00:00",
         "8.5",
         "Hampshire Hotel Amsterdam American",
         " Pakistan ",
         " not at all there is nothing in my mind perhaps the rooms should be soundproof ",
         "17",
         "4032",
         " Best canal view from window great location for all activities Best choice for day night food shopping and so much ",
         "22",
         "1",
         "9.2",
         "[' Leisure trip ', ' Couple ', ' Classic Double Room ', ' Stayed 3 nights ']",
         "718",
         "52.363889",
         "4.881302"
        ],
        [
         "43",
         "97 Great Russell Street Bloomsbury Camden London WC1B 3LB United Kingdom",
         "406",
         "2016-03-27 00:00:00",
         "8.2",
         "Radisson Blu Edwardian Kenilworth",
         " United Kingdom ",
         " Room a little tired and worn",
         "7",
         "2011",
         " Comfy bed friendly staff in the main",
         "8",
         "1",
         "8.3",
         "[' Leisure trip ', ' Couple ', ' Deluxe King Room ', ' Stayed 1 night ', ' Submitted from a mobile device ']",
         "494",
         "51.5179725",
         "-0.1280495"
        ],
        [
         "44",
         "70 avenue des Champs Elysees 8th arr 75008 Paris France",
         "86",
         "2017-05-17 00:00:00",
         "7.9",
         "Paris Marriott Champs Elysees Hotel",
         " Mexico ",
         " All",
         "2",
         "372",
         " The hotel is tired and over priced",
         "8",
         "1",
         "4.6",
         "[' Leisure trip ', ' Family with young children ', ' Superior Family Room ', ' Stayed 5 nights ', ' Submitted from a mobile device ']",
         "78",
         "48.8711365",
         "2.3050482"
        ],
        [
         "45",
         "Rotenturmstra e 15 01 Innere Stadt 1010 Vienna Austria",
         "78",
         "2017-07-29 00:00:00",
         "8.7",
         "Hotel Lam e",
         " Italy ",
         " Very expensive parking",
         "4",
         "866",
         " Excellent location in the heart of Vienna Friendly staff tasty breakfast Very nice rooftop bar with a stunning view of the city center ",
         "25",
         "44",
         "9.2",
         "[' Business trip ', ' Couple ', ' Superior Double Room ', ' Stayed 1 night ', ' Submitted from a mobile device ']",
         "5",
         "48.2102677",
         "16.3741269"
        ],
        [
         "46",
         "South Quay Marsh Wall Tower Hamlets London E14 9SH United Kingdom",
         "974",
         "2017-07-21 00:00:00",
         "9.0",
         "Hilton London Canary Wharf",
         " Hong Kong ",
         "No Negative",
         "0",
         "3040",
         " The comfy bed and large room size",
         "8",
         "2",
         "9.2",
         "[' Leisure trip ', ' Couple ', ' Double Guest Room ', ' Stayed 2 nights ', ' Submitted from a mobile device ']",
         "13",
         "51.5007324",
         "-0.01655"
        ],
        [
         "47",
         "Rusland 17 Amsterdam City Center 1012 CK Amsterdam Netherlands",
         "827",
         "2016-03-27 00:00:00",
         "8.6",
         "Radisson Blu Hotel Amsterdam",
         " United States of America ",
         "No Negative",
         "0",
         "4593",
         " Service excellent ",
         "4",
         "9",
         "10.0",
         "[' Leisure trip ', ' Solo traveler ', ' Standard Double or Twin Room ', ' Stayed 3 nights ']",
         "494",
         "52.3702469",
         "4.8966743"
        ],
        [
         "48",
         "Gran V a de les Corts Catalanes 322 Sants Montju c 08004 Barcelona Spain",
         "391",
         "2016-06-27 00:00:00",
         "8.8",
         "Ayre Hotel Gran V a",
         " Singapore ",
         " I requested for an extra power plug the reception office to buy it from the store next door In late May the temperature I had to remind daily to on the Aircon ",
         "34",
         "4887",
         "No Positive",
         "0",
         "18",
         "5.8",
         "[' Leisure trip ', ' Family with older children ', ' Double or Twin Room ', ' Stayed 3 nights ', ' Submitted from a mobile device ']",
         "402",
         "41.3732462",
         "2.1474351"
        ],
        [
         "49",
         "209 211 rue de Charenton 12th arr 75012 Paris France",
         "54",
         "2017-02-01 00:00:00",
         "8.7",
         "Golden Tulip Bercy Gare de Lyon 209",
         " Ireland ",
         "No Negative",
         "0",
         "1099",
         " Right beside the metro Really friendly and helpful staff Beds were super comfy Will definitely stay here again on my next trip to Paris ",
         "26",
         "4",
         "10.0",
         "[' Leisure trip ', ' Group ', ' Standard Twin Room ', ' Stayed 3 nights ']",
         "183",
         "48.8393229",
         "2.3892274"
        ]
       ],
       "shape": {
        "columns": 17,
        "rows": 386803
       }
      },
      "text/html": [
       "<div>\n",
       "<style scoped>\n",
       "    .dataframe tbody tr th:only-of-type {\n",
       "        vertical-align: middle;\n",
       "    }\n",
       "\n",
       "    .dataframe tbody tr th {\n",
       "        vertical-align: top;\n",
       "    }\n",
       "\n",
       "    .dataframe thead th {\n",
       "        text-align: right;\n",
       "    }\n",
       "</style>\n",
       "<table border=\"1\" class=\"dataframe\">\n",
       "  <thead>\n",
       "    <tr style=\"text-align: right;\">\n",
       "      <th></th>\n",
       "      <th>hotel_address</th>\n",
       "      <th>additional_number_of_scoring</th>\n",
       "      <th>review_date</th>\n",
       "      <th>average_score</th>\n",
       "      <th>hotel_name</th>\n",
       "      <th>reviewer_nationality</th>\n",
       "      <th>negative_review</th>\n",
       "      <th>review_total_negative_word_counts</th>\n",
       "      <th>total_number_of_reviews</th>\n",
       "      <th>positive_review</th>\n",
       "      <th>review_total_positive_word_counts</th>\n",
       "      <th>total_number_of_reviews_reviewer_has_given</th>\n",
       "      <th>reviewer_score</th>\n",
       "      <th>tags</th>\n",
       "      <th>days_since_review</th>\n",
       "      <th>lat</th>\n",
       "      <th>lng</th>\n",
       "    </tr>\n",
       "  </thead>\n",
       "  <tbody>\n",
       "    <tr>\n",
       "      <th>0</th>\n",
       "      <td>Stratton Street Mayfair Westminster Borough Lo...</td>\n",
       "      <td>581</td>\n",
       "      <td>2016-02-19</td>\n",
       "      <td>8.4</td>\n",
       "      <td>The May Fair Hotel</td>\n",
       "      <td>United Kingdom</td>\n",
       "      <td>Leaving</td>\n",
       "      <td>3</td>\n",
       "      <td>1994</td>\n",
       "      <td>Staff were amazing</td>\n",
       "      <td>4</td>\n",
       "      <td>7</td>\n",
       "      <td>10.0</td>\n",
       "      <td>[' Leisure trip ', ' Couple ', ' Studio Suite ...</td>\n",
       "      <td>531</td>\n",
       "      <td>51.507894</td>\n",
       "      <td>-0.143671</td>\n",
       "    </tr>\n",
       "    <tr>\n",
       "      <th>1</th>\n",
       "      <td>130 134 Southampton Row Camden London WC1B 5AF...</td>\n",
       "      <td>299</td>\n",
       "      <td>2017-01-12</td>\n",
       "      <td>8.3</td>\n",
       "      <td>Mercure London Bloomsbury Hotel</td>\n",
       "      <td>United Kingdom</td>\n",
       "      <td>poor breakfast</td>\n",
       "      <td>3</td>\n",
       "      <td>1361</td>\n",
       "      <td>location</td>\n",
       "      <td>2</td>\n",
       "      <td>14</td>\n",
       "      <td>6.3</td>\n",
       "      <td>[' Business trip ', ' Couple ', ' Standard Dou...</td>\n",
       "      <td>203</td>\n",
       "      <td>51.521009</td>\n",
       "      <td>-0.123097</td>\n",
       "    </tr>\n",
       "    <tr>\n",
       "      <th>2</th>\n",
       "      <td>151 bis Rue de Rennes 6th arr 75006 Paris France</td>\n",
       "      <td>32</td>\n",
       "      <td>2016-10-18</td>\n",
       "      <td>8.9</td>\n",
       "      <td>Legend Saint Germain by Elegancia</td>\n",
       "      <td>China</td>\n",
       "      <td>No kettle in room</td>\n",
       "      <td>6</td>\n",
       "      <td>406</td>\n",
       "      <td>No Positive</td>\n",
       "      <td>0</td>\n",
       "      <td>14</td>\n",
       "      <td>7.5</td>\n",
       "      <td>[' Leisure trip ', ' Solo traveler ', ' Modern...</td>\n",
       "      <td>289</td>\n",
       "      <td>48.845377</td>\n",
       "      <td>2.325643</td>\n",
       "    </tr>\n",
       "    <tr>\n",
       "      <th>3</th>\n",
       "      <td>216 Avenue Jean Jaures 19th arr 75019 Paris Fr...</td>\n",
       "      <td>34</td>\n",
       "      <td>2015-09-22</td>\n",
       "      <td>7.5</td>\n",
       "      <td>Mercure Paris 19 Philharmonie La Villette</td>\n",
       "      <td>United Kingdom</td>\n",
       "      <td>No Negative</td>\n",
       "      <td>0</td>\n",
       "      <td>607</td>\n",
       "      <td>Friendly staff quiet comfortable room spotles...</td>\n",
       "      <td>11</td>\n",
       "      <td>8</td>\n",
       "      <td>10.0</td>\n",
       "      <td>[' Leisure trip ', ' Solo traveler ', ' Standa...</td>\n",
       "      <td>681</td>\n",
       "      <td>48.888697</td>\n",
       "      <td>2.394540</td>\n",
       "    </tr>\n",
       "    <tr>\n",
       "      <th>4</th>\n",
       "      <td>Molenwerf 1 1014 AG Amsterdam Netherlands</td>\n",
       "      <td>914</td>\n",
       "      <td>2016-03-05</td>\n",
       "      <td>8.5</td>\n",
       "      <td>Golden Tulip Amsterdam West</td>\n",
       "      <td>Poland</td>\n",
       "      <td>Torn sheets</td>\n",
       "      <td>4</td>\n",
       "      <td>7586</td>\n",
       "      <td>The staff was very friendly and helpful Break...</td>\n",
       "      <td>20</td>\n",
       "      <td>10</td>\n",
       "      <td>9.6</td>\n",
       "      <td>[' Business trip ', ' Couple ', ' Standard Dou...</td>\n",
       "      <td>516</td>\n",
       "      <td>52.385601</td>\n",
       "      <td>4.847060</td>\n",
       "    </tr>\n",
       "    <tr>\n",
       "      <th>...</th>\n",
       "      <td>...</td>\n",
       "      <td>...</td>\n",
       "      <td>...</td>\n",
       "      <td>...</td>\n",
       "      <td>...</td>\n",
       "      <td>...</td>\n",
       "      <td>...</td>\n",
       "      <td>...</td>\n",
       "      <td>...</td>\n",
       "      <td>...</td>\n",
       "      <td>...</td>\n",
       "      <td>...</td>\n",
       "      <td>...</td>\n",
       "      <td>...</td>\n",
       "      <td>...</td>\n",
       "      <td>...</td>\n",
       "      <td>...</td>\n",
       "    </tr>\n",
       "    <tr>\n",
       "      <th>386798</th>\n",
       "      <td>9 Knaresborough Place Kensington and Chelsea L...</td>\n",
       "      <td>107</td>\n",
       "      <td>2017-04-19</td>\n",
       "      <td>9.0</td>\n",
       "      <td>Hotel Moonlight</td>\n",
       "      <td>France</td>\n",
       "      <td>No Negative</td>\n",
       "      <td>0</td>\n",
       "      <td>617</td>\n",
       "      <td>Tr s proche du metro Earl s court</td>\n",
       "      <td>10</td>\n",
       "      <td>10</td>\n",
       "      <td>8.8</td>\n",
       "      <td>[' Leisure trip ', ' Group ', ' Club Double or...</td>\n",
       "      <td>106</td>\n",
       "      <td>51.494028</td>\n",
       "      <td>-0.191050</td>\n",
       "    </tr>\n",
       "    <tr>\n",
       "      <th>386799</th>\n",
       "      <td>Landstra er Hauptstra e 155 03 Landstra e 1030...</td>\n",
       "      <td>272</td>\n",
       "      <td>2017-02-13</td>\n",
       "      <td>8.4</td>\n",
       "      <td>BEST WESTERN PLUS Amedia Wien</td>\n",
       "      <td>Turkey</td>\n",
       "      <td>No Negative</td>\n",
       "      <td>0</td>\n",
       "      <td>3224</td>\n",
       "      <td>The bed was so comfy I stayed with my boyfrie...</td>\n",
       "      <td>93</td>\n",
       "      <td>1</td>\n",
       "      <td>9.2</td>\n",
       "      <td>[' Leisure trip ', ' Couple ', ' Standard Doub...</td>\n",
       "      <td>171</td>\n",
       "      <td>48.192379</td>\n",
       "      <td>16.399451</td>\n",
       "    </tr>\n",
       "    <tr>\n",
       "      <th>386800</th>\n",
       "      <td>29 31 Gower Street Camden London WC1E 6HG Unit...</td>\n",
       "      <td>457</td>\n",
       "      <td>2016-02-07</td>\n",
       "      <td>6.8</td>\n",
       "      <td>Bloomsbury Palace Hotel</td>\n",
       "      <td>Netherlands</td>\n",
       "      <td>room is really small but guess is normal in L...</td>\n",
       "      <td>12</td>\n",
       "      <td>2751</td>\n",
       "      <td>great location simple check in out nice shower</td>\n",
       "      <td>9</td>\n",
       "      <td>21</td>\n",
       "      <td>8.3</td>\n",
       "      <td>[' Business trip ', ' Solo traveler ', ' Singl...</td>\n",
       "      <td>543</td>\n",
       "      <td>51.520795</td>\n",
       "      <td>-0.131084</td>\n",
       "    </tr>\n",
       "    <tr>\n",
       "      <th>386801</th>\n",
       "      <td>31 Great Cumberland Place Westminster Borough ...</td>\n",
       "      <td>365</td>\n",
       "      <td>2017-05-21</td>\n",
       "      <td>8.1</td>\n",
       "      <td>The Marble Arch London</td>\n",
       "      <td>United Arab Emirates</td>\n",
       "      <td>No Negative</td>\n",
       "      <td>0</td>\n",
       "      <td>1567</td>\n",
       "      <td>Location and very comfy bed</td>\n",
       "      <td>6</td>\n",
       "      <td>28</td>\n",
       "      <td>9.2</td>\n",
       "      <td>[' Leisure trip ', ' Solo traveler ', ' Deluxe...</td>\n",
       "      <td>74</td>\n",
       "      <td>51.515125</td>\n",
       "      <td>-0.160066</td>\n",
       "    </tr>\n",
       "    <tr>\n",
       "      <th>386802</th>\n",
       "      <td>25 Courtfield Gardens Kensington and Chelsea L...</td>\n",
       "      <td>222</td>\n",
       "      <td>2016-08-05</td>\n",
       "      <td>9.0</td>\n",
       "      <td>The Nadler Kensington</td>\n",
       "      <td>Australia</td>\n",
       "      <td>Patio outside could have been cleaned of alga...</td>\n",
       "      <td>20</td>\n",
       "      <td>1209</td>\n",
       "      <td>Beds comfortable Pillows also good Homely fee...</td>\n",
       "      <td>20</td>\n",
       "      <td>2</td>\n",
       "      <td>8.8</td>\n",
       "      <td>[' Leisure trip ', ' Couple ', ' Bunk Bed Room...</td>\n",
       "      <td>363</td>\n",
       "      <td>51.493109</td>\n",
       "      <td>-0.190208</td>\n",
       "    </tr>\n",
       "  </tbody>\n",
       "</table>\n",
       "<p>386803 rows × 17 columns</p>\n",
       "</div>"
      ],
      "text/plain": [
       "                                            hotel_address  \\\n",
       "0       Stratton Street Mayfair Westminster Borough Lo...   \n",
       "1       130 134 Southampton Row Camden London WC1B 5AF...   \n",
       "2        151 bis Rue de Rennes 6th arr 75006 Paris France   \n",
       "3       216 Avenue Jean Jaures 19th arr 75019 Paris Fr...   \n",
       "4               Molenwerf 1 1014 AG Amsterdam Netherlands   \n",
       "...                                                   ...   \n",
       "386798  9 Knaresborough Place Kensington and Chelsea L...   \n",
       "386799  Landstra er Hauptstra e 155 03 Landstra e 1030...   \n",
       "386800  29 31 Gower Street Camden London WC1E 6HG Unit...   \n",
       "386801  31 Great Cumberland Place Westminster Borough ...   \n",
       "386802  25 Courtfield Gardens Kensington and Chelsea L...   \n",
       "\n",
       "        additional_number_of_scoring review_date  average_score  \\\n",
       "0                                581  2016-02-19            8.4   \n",
       "1                                299  2017-01-12            8.3   \n",
       "2                                 32  2016-10-18            8.9   \n",
       "3                                 34  2015-09-22            7.5   \n",
       "4                                914  2016-03-05            8.5   \n",
       "...                              ...         ...            ...   \n",
       "386798                           107  2017-04-19            9.0   \n",
       "386799                           272  2017-02-13            8.4   \n",
       "386800                           457  2016-02-07            6.8   \n",
       "386801                           365  2017-05-21            8.1   \n",
       "386802                           222  2016-08-05            9.0   \n",
       "\n",
       "                                       hotel_name    reviewer_nationality  \\\n",
       "0                              The May Fair Hotel         United Kingdom    \n",
       "1                 Mercure London Bloomsbury Hotel         United Kingdom    \n",
       "2               Legend Saint Germain by Elegancia                  China    \n",
       "3       Mercure Paris 19 Philharmonie La Villette         United Kingdom    \n",
       "4                     Golden Tulip Amsterdam West                 Poland    \n",
       "...                                           ...                     ...   \n",
       "386798                            Hotel Moonlight                 France    \n",
       "386799              BEST WESTERN PLUS Amedia Wien                 Turkey    \n",
       "386800                    Bloomsbury Palace Hotel            Netherlands    \n",
       "386801                     The Marble Arch London   United Arab Emirates    \n",
       "386802                      The Nadler Kensington              Australia    \n",
       "\n",
       "                                          negative_review  \\\n",
       "0                                                Leaving    \n",
       "1                                          poor breakfast   \n",
       "2                                      No kettle in room    \n",
       "3                                             No Negative   \n",
       "4                                            Torn sheets    \n",
       "...                                                   ...   \n",
       "386798                                        No Negative   \n",
       "386799                                        No Negative   \n",
       "386800   room is really small but guess is normal in L...   \n",
       "386801                                        No Negative   \n",
       "386802   Patio outside could have been cleaned of alga...   \n",
       "\n",
       "        review_total_negative_word_counts  total_number_of_reviews  \\\n",
       "0                                       3                     1994   \n",
       "1                                       3                     1361   \n",
       "2                                       6                      406   \n",
       "3                                       0                      607   \n",
       "4                                       4                     7586   \n",
       "...                                   ...                      ...   \n",
       "386798                                  0                      617   \n",
       "386799                                  0                     3224   \n",
       "386800                                 12                     2751   \n",
       "386801                                  0                     1567   \n",
       "386802                                 20                     1209   \n",
       "\n",
       "                                          positive_review  \\\n",
       "0                                      Staff were amazing   \n",
       "1                                                location   \n",
       "2                                             No Positive   \n",
       "3        Friendly staff quiet comfortable room spotles...   \n",
       "4        The staff was very friendly and helpful Break...   \n",
       "...                                                   ...   \n",
       "386798                 Tr s proche du metro Earl s court    \n",
       "386799   The bed was so comfy I stayed with my boyfrie...   \n",
       "386800     great location simple check in out nice shower   \n",
       "386801                        Location and very comfy bed   \n",
       "386802   Beds comfortable Pillows also good Homely fee...   \n",
       "\n",
       "        review_total_positive_word_counts  \\\n",
       "0                                       4   \n",
       "1                                       2   \n",
       "2                                       0   \n",
       "3                                      11   \n",
       "4                                      20   \n",
       "...                                   ...   \n",
       "386798                                 10   \n",
       "386799                                 93   \n",
       "386800                                  9   \n",
       "386801                                  6   \n",
       "386802                                 20   \n",
       "\n",
       "        total_number_of_reviews_reviewer_has_given  reviewer_score  \\\n",
       "0                                                7            10.0   \n",
       "1                                               14             6.3   \n",
       "2                                               14             7.5   \n",
       "3                                                8            10.0   \n",
       "4                                               10             9.6   \n",
       "...                                            ...             ...   \n",
       "386798                                          10             8.8   \n",
       "386799                                           1             9.2   \n",
       "386800                                          21             8.3   \n",
       "386801                                          28             9.2   \n",
       "386802                                           2             8.8   \n",
       "\n",
       "                                                     tags  days_since_review  \\\n",
       "0       [' Leisure trip ', ' Couple ', ' Studio Suite ...                531   \n",
       "1       [' Business trip ', ' Couple ', ' Standard Dou...                203   \n",
       "2       [' Leisure trip ', ' Solo traveler ', ' Modern...                289   \n",
       "3       [' Leisure trip ', ' Solo traveler ', ' Standa...                681   \n",
       "4       [' Business trip ', ' Couple ', ' Standard Dou...                516   \n",
       "...                                                   ...                ...   \n",
       "386798  [' Leisure trip ', ' Group ', ' Club Double or...                106   \n",
       "386799  [' Leisure trip ', ' Couple ', ' Standard Doub...                171   \n",
       "386800  [' Business trip ', ' Solo traveler ', ' Singl...                543   \n",
       "386801  [' Leisure trip ', ' Solo traveler ', ' Deluxe...                 74   \n",
       "386802  [' Leisure trip ', ' Couple ', ' Bunk Bed Room...                363   \n",
       "\n",
       "              lat        lng  \n",
       "0       51.507894  -0.143671  \n",
       "1       51.521009  -0.123097  \n",
       "2       48.845377   2.325643  \n",
       "3       48.888697   2.394540  \n",
       "4       52.385601   4.847060  \n",
       "...           ...        ...  \n",
       "386798  51.494028  -0.191050  \n",
       "386799  48.192379  16.399451  \n",
       "386800  51.520795  -0.131084  \n",
       "386801  51.515125  -0.160066  \n",
       "386802  51.493109  -0.190208  \n",
       "\n",
       "[386803 rows x 17 columns]"
      ]
     },
     "execution_count": 26,
     "metadata": {},
     "output_type": "execute_result"
    }
   ],
   "source": [
    "# из days_since_review сделаем числовой признак\n",
    "hotels_df['days_since_review'] = (hotels_df['days_since_review'].str.replace(' day', '').str.replace(' days', '').str.replace('s', '').str.strip().astype(int))\n",
    "hotels_df\n"
   ]
  },
  {
   "cell_type": "code",
   "execution_count": 27,
   "id": "ec594f6e",
   "metadata": {},
   "outputs": [
    {
     "data": {
      "application/vnd.microsoft.datawrangler.viewer.v0+json": {
       "columns": [
        {
         "name": "index",
         "rawType": "int64",
         "type": "integer"
        },
        {
         "name": "additional_number_of_scoring",
         "rawType": "int64",
         "type": "integer"
        },
        {
         "name": "review_date",
         "rawType": "datetime64[ns]",
         "type": "datetime"
        },
        {
         "name": "average_score",
         "rawType": "float64",
         "type": "float"
        },
        {
         "name": "review_total_negative_word_counts",
         "rawType": "int64",
         "type": "integer"
        },
        {
         "name": "total_number_of_reviews",
         "rawType": "int64",
         "type": "integer"
        },
        {
         "name": "review_total_positive_word_counts",
         "rawType": "int64",
         "type": "integer"
        },
        {
         "name": "total_number_of_reviews_reviewer_has_given",
         "rawType": "int64",
         "type": "integer"
        },
        {
         "name": "reviewer_score",
         "rawType": "float64",
         "type": "float"
        },
        {
         "name": "days_since_review",
         "rawType": "int64",
         "type": "integer"
        },
        {
         "name": "lat",
         "rawType": "float64",
         "type": "float"
        },
        {
         "name": "lng",
         "rawType": "float64",
         "type": "float"
        }
       ],
       "ref": "5e83d62f-a49f-4157-8231-7491024eb825",
       "rows": [
        [
         "0",
         "581",
         "2016-02-19 00:00:00",
         "8.4",
         "3",
         "1994",
         "4",
         "7",
         "10.0",
         "531",
         "51.5078943",
         "-0.1436707"
        ],
        [
         "1",
         "299",
         "2017-01-12 00:00:00",
         "8.3",
         "3",
         "1361",
         "2",
         "14",
         "6.3",
         "203",
         "51.5210085",
         "-0.1230966"
        ],
        [
         "2",
         "32",
         "2016-10-18 00:00:00",
         "8.9",
         "6",
         "406",
         "0",
         "14",
         "7.5",
         "289",
         "48.8453774",
         "2.3256427"
        ],
        [
         "3",
         "34",
         "2015-09-22 00:00:00",
         "7.5",
         "0",
         "607",
         "11",
         "8",
         "10.0",
         "681",
         "48.8886969",
         "2.3945403"
        ],
        [
         "4",
         "914",
         "2016-03-05 00:00:00",
         "8.5",
         "4",
         "7586",
         "20",
         "10",
         "9.6",
         "516",
         "52.385601",
         "4.8470597"
        ]
       ],
       "shape": {
        "columns": 11,
        "rows": 5
       }
      },
      "text/html": [
       "<div>\n",
       "<style scoped>\n",
       "    .dataframe tbody tr th:only-of-type {\n",
       "        vertical-align: middle;\n",
       "    }\n",
       "\n",
       "    .dataframe tbody tr th {\n",
       "        vertical-align: top;\n",
       "    }\n",
       "\n",
       "    .dataframe thead th {\n",
       "        text-align: right;\n",
       "    }\n",
       "</style>\n",
       "<table border=\"1\" class=\"dataframe\">\n",
       "  <thead>\n",
       "    <tr style=\"text-align: right;\">\n",
       "      <th></th>\n",
       "      <th>additional_number_of_scoring</th>\n",
       "      <th>review_date</th>\n",
       "      <th>average_score</th>\n",
       "      <th>review_total_negative_word_counts</th>\n",
       "      <th>total_number_of_reviews</th>\n",
       "      <th>review_total_positive_word_counts</th>\n",
       "      <th>total_number_of_reviews_reviewer_has_given</th>\n",
       "      <th>reviewer_score</th>\n",
       "      <th>days_since_review</th>\n",
       "      <th>lat</th>\n",
       "      <th>lng</th>\n",
       "    </tr>\n",
       "  </thead>\n",
       "  <tbody>\n",
       "    <tr>\n",
       "      <th>0</th>\n",
       "      <td>581</td>\n",
       "      <td>2016-02-19</td>\n",
       "      <td>8.4</td>\n",
       "      <td>3</td>\n",
       "      <td>1994</td>\n",
       "      <td>4</td>\n",
       "      <td>7</td>\n",
       "      <td>10.0</td>\n",
       "      <td>531</td>\n",
       "      <td>51.507894</td>\n",
       "      <td>-0.143671</td>\n",
       "    </tr>\n",
       "    <tr>\n",
       "      <th>1</th>\n",
       "      <td>299</td>\n",
       "      <td>2017-01-12</td>\n",
       "      <td>8.3</td>\n",
       "      <td>3</td>\n",
       "      <td>1361</td>\n",
       "      <td>2</td>\n",
       "      <td>14</td>\n",
       "      <td>6.3</td>\n",
       "      <td>203</td>\n",
       "      <td>51.521009</td>\n",
       "      <td>-0.123097</td>\n",
       "    </tr>\n",
       "    <tr>\n",
       "      <th>2</th>\n",
       "      <td>32</td>\n",
       "      <td>2016-10-18</td>\n",
       "      <td>8.9</td>\n",
       "      <td>6</td>\n",
       "      <td>406</td>\n",
       "      <td>0</td>\n",
       "      <td>14</td>\n",
       "      <td>7.5</td>\n",
       "      <td>289</td>\n",
       "      <td>48.845377</td>\n",
       "      <td>2.325643</td>\n",
       "    </tr>\n",
       "    <tr>\n",
       "      <th>3</th>\n",
       "      <td>34</td>\n",
       "      <td>2015-09-22</td>\n",
       "      <td>7.5</td>\n",
       "      <td>0</td>\n",
       "      <td>607</td>\n",
       "      <td>11</td>\n",
       "      <td>8</td>\n",
       "      <td>10.0</td>\n",
       "      <td>681</td>\n",
       "      <td>48.888697</td>\n",
       "      <td>2.394540</td>\n",
       "    </tr>\n",
       "    <tr>\n",
       "      <th>4</th>\n",
       "      <td>914</td>\n",
       "      <td>2016-03-05</td>\n",
       "      <td>8.5</td>\n",
       "      <td>4</td>\n",
       "      <td>7586</td>\n",
       "      <td>20</td>\n",
       "      <td>10</td>\n",
       "      <td>9.6</td>\n",
       "      <td>516</td>\n",
       "      <td>52.385601</td>\n",
       "      <td>4.847060</td>\n",
       "    </tr>\n",
       "  </tbody>\n",
       "</table>\n",
       "</div>"
      ],
      "text/plain": [
       "   additional_number_of_scoring review_date  average_score  \\\n",
       "0                           581  2016-02-19            8.4   \n",
       "1                           299  2017-01-12            8.3   \n",
       "2                            32  2016-10-18            8.9   \n",
       "3                            34  2015-09-22            7.5   \n",
       "4                           914  2016-03-05            8.5   \n",
       "\n",
       "   review_total_negative_word_counts  total_number_of_reviews  \\\n",
       "0                                  3                     1994   \n",
       "1                                  3                     1361   \n",
       "2                                  6                      406   \n",
       "3                                  0                      607   \n",
       "4                                  4                     7586   \n",
       "\n",
       "   review_total_positive_word_counts  \\\n",
       "0                                  4   \n",
       "1                                  2   \n",
       "2                                  0   \n",
       "3                                 11   \n",
       "4                                 20   \n",
       "\n",
       "   total_number_of_reviews_reviewer_has_given  reviewer_score  \\\n",
       "0                                           7            10.0   \n",
       "1                                          14             6.3   \n",
       "2                                          14             7.5   \n",
       "3                                           8            10.0   \n",
       "4                                          10             9.6   \n",
       "\n",
       "   days_since_review        lat       lng  \n",
       "0                531  51.507894 -0.143671  \n",
       "1                203  51.521009 -0.123097  \n",
       "2                289  48.845377  2.325643  \n",
       "3                681  48.888697  2.394540  \n",
       "4                516  52.385601  4.847060  "
      ]
     },
     "execution_count": 27,
     "metadata": {},
     "output_type": "execute_result"
    }
   ],
   "source": [
    "# удалим признаки типа object\n",
    "cols_to_drop = ['hotel_address', 'hotel_name', 'reviewer_nationality', \n",
    "                'negative_review', 'positive_review', 'tags']\n",
    "hotels_df = hotels_df.drop(cols_to_drop, axis=1)\n",
    "\n",
    "hotels_df.head()"
   ]
  },
  {
   "cell_type": "code",
   "execution_count": 28,
   "id": "fe5ae667",
   "metadata": {},
   "outputs": [
    {
     "data": {
      "application/vnd.microsoft.datawrangler.viewer.v0+json": {
       "columns": [
        {
         "name": "index",
         "rawType": "object",
         "type": "string"
        },
        {
         "name": "0",
         "rawType": "float64",
         "type": "float"
        }
       ],
       "ref": "351d67ca-06b0-425f-962a-1872fa1c0948",
       "rows": [
        [
         "lat",
         "0.6328803034102631"
        ],
        [
         "lng",
         "0.6328803034102631"
        ]
       ],
       "shape": {
        "columns": 1,
        "rows": 2
       }
      },
      "text/plain": [
       "lat    0.63288\n",
       "lng    0.63288\n",
       "dtype: float64"
      ]
     },
     "execution_count": 28,
     "metadata": {},
     "output_type": "execute_result"
    }
   ],
   "source": [
    "# избавимся от пропущенных значений\n",
    "# вычисляем средний по столбцам результат\n",
    "cols_null_percent = hotels_df.isnull().mean() * 100\n",
    "# находим столбцы, где доля пропусков больше 0 и сортируем по убыванию\n",
    "cols_with_null = cols_null_percent[cols_null_percent>0].sort_values(ascending=False)\n",
    "\n",
    "cols_with_null"
   ]
  },
  {
   "cell_type": "markdown",
   "id": "3260b791",
   "metadata": {},
   "source": [
    "***Заполним медианами, так как результирующая доля пропусков достаточно мала (тепловая карта пропусков не создается осознанно, так как всего 2 столбца с процентом пропусков менее одного)***"
   ]
  },
  {
   "cell_type": "code",
   "execution_count": 29,
   "id": "3737a4f3",
   "metadata": {},
   "outputs": [
    {
     "data": {
      "application/vnd.microsoft.datawrangler.viewer.v0+json": {
       "columns": [
        {
         "name": "index",
         "rawType": "object",
         "type": "string"
        },
        {
         "name": "0",
         "rawType": "float64",
         "type": "float"
        }
       ],
       "ref": "ff177b3e-e9a9-4df6-9cf3-9a5301b7bc82",
       "rows": [
        [
         "additional_number_of_scoring",
         "0.0"
        ],
        [
         "review_date",
         "0.0"
        ],
        [
         "average_score",
         "0.0"
        ],
        [
         "review_total_negative_word_counts",
         "0.0"
        ],
        [
         "total_number_of_reviews",
         "0.0"
        ],
        [
         "review_total_positive_word_counts",
         "0.0"
        ],
        [
         "total_number_of_reviews_reviewer_has_given",
         "0.0"
        ],
        [
         "reviewer_score",
         "0.0"
        ],
        [
         "days_since_review",
         "0.0"
        ],
        [
         "lat",
         "0.0"
        ],
        [
         "lng",
         "0.0"
        ]
       ],
       "shape": {
        "columns": 1,
        "rows": 11
       }
      },
      "text/plain": [
       "additional_number_of_scoring                  0.0\n",
       "review_date                                   0.0\n",
       "average_score                                 0.0\n",
       "review_total_negative_word_counts             0.0\n",
       "total_number_of_reviews                       0.0\n",
       "review_total_positive_word_counts             0.0\n",
       "total_number_of_reviews_reviewer_has_given    0.0\n",
       "reviewer_score                                0.0\n",
       "days_since_review                             0.0\n",
       "lat                                           0.0\n",
       "lng                                           0.0\n",
       "dtype: float64"
      ]
     },
     "execution_count": 29,
     "metadata": {},
     "output_type": "execute_result"
    }
   ],
   "source": [
    "#создаем копию исходной таблицы\n",
    "fill_data = hotels_df.copy()\n",
    "#создаем словарь имя столбца: число(признак) на который надо заменить пропуски\n",
    "values = {\n",
    "    'lat': fill_data['lat'].median(),\n",
    "    'lng': fill_data['lng'].median(),\n",
    "}\n",
    "#заполняем пропуски в соответствии с заявленным словарем\n",
    "fill_data = fill_data.fillna(values)\n",
    "#выводим результирующую долю пропусков\n",
    "fill_data.isnull().mean()"
   ]
  },
  {
   "cell_type": "code",
   "execution_count": 31,
   "id": "68a4a1c4",
   "metadata": {},
   "outputs": [
    {
     "ename": "DTypePromotionError",
     "evalue": "The DType <class 'numpy.dtypes.DateTime64DType'> could not be promoted by <class 'numpy.dtypes.Float64DType'>. This means that no common DType exists for the given inputs. For example they cannot be stored in a single array unless the dtype is `object`. The full list of DTypes is: (<class 'numpy.dtypes.Int64DType'>, <class 'numpy.dtypes.DateTime64DType'>, <class 'numpy.dtypes.Float64DType'>, <class 'numpy.dtypes.Int64DType'>, <class 'numpy.dtypes.Int64DType'>, <class 'numpy.dtypes.Int64DType'>, <class 'numpy.dtypes.Int64DType'>, <class 'numpy.dtypes.Int64DType'>, <class 'numpy.dtypes.Float64DType'>, <class 'numpy.dtypes.Float64DType'>)",
     "output_type": "error",
     "traceback": [
      "\u001b[31m---------------------------------------------------------------------------\u001b[39m",
      "\u001b[31mDTypePromotionError\u001b[39m                       Traceback (most recent call last)",
      "\u001b[36mCell\u001b[39m\u001b[36m \u001b[39m\u001b[32mIn[31]\u001b[39m\u001b[32m, line 8\u001b[39m\n\u001b[32m      6\u001b[39m \u001b[38;5;66;03m# Создание и обучение модели\u001b[39;00m\n\u001b[32m      7\u001b[39m regr = RandomForestRegressor(n_estimators=\u001b[32m100\u001b[39m)\n\u001b[32m----> \u001b[39m\u001b[32m8\u001b[39m \u001b[43mregr\u001b[49m\u001b[43m.\u001b[49m\u001b[43mfit\u001b[49m\u001b[43m(\u001b[49m\u001b[43mX_train\u001b[49m\u001b[43m,\u001b[49m\u001b[43m \u001b[49m\u001b[43my_train\u001b[49m\u001b[43m)\u001b[49m\n\u001b[32m      9\u001b[39m \u001b[38;5;66;03m# Предсказание и оценка\u001b[39;00m\n\u001b[32m     10\u001b[39m y_pred = regr.predict(X_test)\n",
      "\u001b[36mFile \u001b[39m\u001b[32m/Library/Frameworks/Python.framework/Versions/3.11/lib/python3.11/site-packages/sklearn/base.py:1365\u001b[39m, in \u001b[36m_fit_context.<locals>.decorator.<locals>.wrapper\u001b[39m\u001b[34m(estimator, *args, **kwargs)\u001b[39m\n\u001b[32m   1358\u001b[39m     estimator._validate_params()\n\u001b[32m   1360\u001b[39m \u001b[38;5;28;01mwith\u001b[39;00m config_context(\n\u001b[32m   1361\u001b[39m     skip_parameter_validation=(\n\u001b[32m   1362\u001b[39m         prefer_skip_nested_validation \u001b[38;5;129;01mor\u001b[39;00m global_skip_validation\n\u001b[32m   1363\u001b[39m     )\n\u001b[32m   1364\u001b[39m ):\n\u001b[32m-> \u001b[39m\u001b[32m1365\u001b[39m     \u001b[38;5;28;01mreturn\u001b[39;00m \u001b[43mfit_method\u001b[49m\u001b[43m(\u001b[49m\u001b[43mestimator\u001b[49m\u001b[43m,\u001b[49m\u001b[43m \u001b[49m\u001b[43m*\u001b[49m\u001b[43margs\u001b[49m\u001b[43m,\u001b[49m\u001b[43m \u001b[49m\u001b[43m*\u001b[49m\u001b[43m*\u001b[49m\u001b[43mkwargs\u001b[49m\u001b[43m)\u001b[49m\n",
      "\u001b[36mFile \u001b[39m\u001b[32m/Library/Frameworks/Python.framework/Versions/3.11/lib/python3.11/site-packages/sklearn/ensemble/_forest.py:359\u001b[39m, in \u001b[36mBaseForest.fit\u001b[39m\u001b[34m(self, X, y, sample_weight)\u001b[39m\n\u001b[32m    356\u001b[39m \u001b[38;5;28;01mif\u001b[39;00m issparse(y):\n\u001b[32m    357\u001b[39m     \u001b[38;5;28;01mraise\u001b[39;00m \u001b[38;5;167;01mValueError\u001b[39;00m(\u001b[33m\"\u001b[39m\u001b[33msparse multilabel-indicator for y is not supported.\u001b[39m\u001b[33m\"\u001b[39m)\n\u001b[32m--> \u001b[39m\u001b[32m359\u001b[39m X, y = \u001b[43mvalidate_data\u001b[49m\u001b[43m(\u001b[49m\n\u001b[32m    360\u001b[39m \u001b[43m    \u001b[49m\u001b[38;5;28;43mself\u001b[39;49m\u001b[43m,\u001b[49m\n\u001b[32m    361\u001b[39m \u001b[43m    \u001b[49m\u001b[43mX\u001b[49m\u001b[43m,\u001b[49m\n\u001b[32m    362\u001b[39m \u001b[43m    \u001b[49m\u001b[43my\u001b[49m\u001b[43m,\u001b[49m\n\u001b[32m    363\u001b[39m \u001b[43m    \u001b[49m\u001b[43mmulti_output\u001b[49m\u001b[43m=\u001b[49m\u001b[38;5;28;43;01mTrue\u001b[39;49;00m\u001b[43m,\u001b[49m\n\u001b[32m    364\u001b[39m \u001b[43m    \u001b[49m\u001b[43maccept_sparse\u001b[49m\u001b[43m=\u001b[49m\u001b[33;43m\"\u001b[39;49m\u001b[33;43mcsc\u001b[39;49m\u001b[33;43m\"\u001b[39;49m\u001b[43m,\u001b[49m\n\u001b[32m    365\u001b[39m \u001b[43m    \u001b[49m\u001b[43mdtype\u001b[49m\u001b[43m=\u001b[49m\u001b[43mDTYPE\u001b[49m\u001b[43m,\u001b[49m\n\u001b[32m    366\u001b[39m \u001b[43m    \u001b[49m\u001b[43mensure_all_finite\u001b[49m\u001b[43m=\u001b[49m\u001b[38;5;28;43;01mFalse\u001b[39;49;00m\u001b[43m,\u001b[49m\n\u001b[32m    367\u001b[39m \u001b[43m\u001b[49m\u001b[43m)\u001b[49m\n\u001b[32m    368\u001b[39m \u001b[38;5;66;03m# _compute_missing_values_in_feature_mask checks if X has missing values and\u001b[39;00m\n\u001b[32m    369\u001b[39m \u001b[38;5;66;03m# will raise an error if the underlying tree base estimator can't handle missing\u001b[39;00m\n\u001b[32m    370\u001b[39m \u001b[38;5;66;03m# values. Only the criterion is required to determine if the tree supports\u001b[39;00m\n\u001b[32m    371\u001b[39m \u001b[38;5;66;03m# missing values.\u001b[39;00m\n\u001b[32m    372\u001b[39m estimator = \u001b[38;5;28mtype\u001b[39m(\u001b[38;5;28mself\u001b[39m.estimator)(criterion=\u001b[38;5;28mself\u001b[39m.criterion)\n",
      "\u001b[36mFile \u001b[39m\u001b[32m/Library/Frameworks/Python.framework/Versions/3.11/lib/python3.11/site-packages/sklearn/utils/validation.py:2971\u001b[39m, in \u001b[36mvalidate_data\u001b[39m\u001b[34m(_estimator, X, y, reset, validate_separately, skip_check_array, **check_params)\u001b[39m\n\u001b[32m   2969\u001b[39m         y = check_array(y, input_name=\u001b[33m\"\u001b[39m\u001b[33my\u001b[39m\u001b[33m\"\u001b[39m, **check_y_params)\n\u001b[32m   2970\u001b[39m     \u001b[38;5;28;01melse\u001b[39;00m:\n\u001b[32m-> \u001b[39m\u001b[32m2971\u001b[39m         X, y = \u001b[43mcheck_X_y\u001b[49m\u001b[43m(\u001b[49m\u001b[43mX\u001b[49m\u001b[43m,\u001b[49m\u001b[43m \u001b[49m\u001b[43my\u001b[49m\u001b[43m,\u001b[49m\u001b[43m \u001b[49m\u001b[43m*\u001b[49m\u001b[43m*\u001b[49m\u001b[43mcheck_params\u001b[49m\u001b[43m)\u001b[49m\n\u001b[32m   2972\u001b[39m     out = X, y\n\u001b[32m   2974\u001b[39m \u001b[38;5;28;01mif\u001b[39;00m \u001b[38;5;129;01mnot\u001b[39;00m no_val_X \u001b[38;5;129;01mand\u001b[39;00m check_params.get(\u001b[33m\"\u001b[39m\u001b[33mensure_2d\u001b[39m\u001b[33m\"\u001b[39m, \u001b[38;5;28;01mTrue\u001b[39;00m):\n",
      "\u001b[36mFile \u001b[39m\u001b[32m/Library/Frameworks/Python.framework/Versions/3.11/lib/python3.11/site-packages/sklearn/utils/validation.py:1368\u001b[39m, in \u001b[36mcheck_X_y\u001b[39m\u001b[34m(X, y, accept_sparse, accept_large_sparse, dtype, order, copy, force_writeable, force_all_finite, ensure_all_finite, ensure_2d, allow_nd, multi_output, ensure_min_samples, ensure_min_features, y_numeric, estimator)\u001b[39m\n\u001b[32m   1362\u001b[39m     \u001b[38;5;28;01mraise\u001b[39;00m \u001b[38;5;167;01mValueError\u001b[39;00m(\n\u001b[32m   1363\u001b[39m         \u001b[33mf\u001b[39m\u001b[33m\"\u001b[39m\u001b[38;5;132;01m{\u001b[39;00mestimator_name\u001b[38;5;132;01m}\u001b[39;00m\u001b[33m requires y to be passed, but the target y is None\u001b[39m\u001b[33m\"\u001b[39m\n\u001b[32m   1364\u001b[39m     )\n\u001b[32m   1366\u001b[39m ensure_all_finite = _deprecate_force_all_finite(force_all_finite, ensure_all_finite)\n\u001b[32m-> \u001b[39m\u001b[32m1368\u001b[39m X = \u001b[43mcheck_array\u001b[49m\u001b[43m(\u001b[49m\n\u001b[32m   1369\u001b[39m \u001b[43m    \u001b[49m\u001b[43mX\u001b[49m\u001b[43m,\u001b[49m\n\u001b[32m   1370\u001b[39m \u001b[43m    \u001b[49m\u001b[43maccept_sparse\u001b[49m\u001b[43m=\u001b[49m\u001b[43maccept_sparse\u001b[49m\u001b[43m,\u001b[49m\n\u001b[32m   1371\u001b[39m \u001b[43m    \u001b[49m\u001b[43maccept_large_sparse\u001b[49m\u001b[43m=\u001b[49m\u001b[43maccept_large_sparse\u001b[49m\u001b[43m,\u001b[49m\n\u001b[32m   1372\u001b[39m \u001b[43m    \u001b[49m\u001b[43mdtype\u001b[49m\u001b[43m=\u001b[49m\u001b[43mdtype\u001b[49m\u001b[43m,\u001b[49m\n\u001b[32m   1373\u001b[39m \u001b[43m    \u001b[49m\u001b[43morder\u001b[49m\u001b[43m=\u001b[49m\u001b[43morder\u001b[49m\u001b[43m,\u001b[49m\n\u001b[32m   1374\u001b[39m \u001b[43m    \u001b[49m\u001b[43mcopy\u001b[49m\u001b[43m=\u001b[49m\u001b[43mcopy\u001b[49m\u001b[43m,\u001b[49m\n\u001b[32m   1375\u001b[39m \u001b[43m    \u001b[49m\u001b[43mforce_writeable\u001b[49m\u001b[43m=\u001b[49m\u001b[43mforce_writeable\u001b[49m\u001b[43m,\u001b[49m\n\u001b[32m   1376\u001b[39m \u001b[43m    \u001b[49m\u001b[43mensure_all_finite\u001b[49m\u001b[43m=\u001b[49m\u001b[43mensure_all_finite\u001b[49m\u001b[43m,\u001b[49m\n\u001b[32m   1377\u001b[39m \u001b[43m    \u001b[49m\u001b[43mensure_2d\u001b[49m\u001b[43m=\u001b[49m\u001b[43mensure_2d\u001b[49m\u001b[43m,\u001b[49m\n\u001b[32m   1378\u001b[39m \u001b[43m    \u001b[49m\u001b[43mallow_nd\u001b[49m\u001b[43m=\u001b[49m\u001b[43mallow_nd\u001b[49m\u001b[43m,\u001b[49m\n\u001b[32m   1379\u001b[39m \u001b[43m    \u001b[49m\u001b[43mensure_min_samples\u001b[49m\u001b[43m=\u001b[49m\u001b[43mensure_min_samples\u001b[49m\u001b[43m,\u001b[49m\n\u001b[32m   1380\u001b[39m \u001b[43m    \u001b[49m\u001b[43mensure_min_features\u001b[49m\u001b[43m=\u001b[49m\u001b[43mensure_min_features\u001b[49m\u001b[43m,\u001b[49m\n\u001b[32m   1381\u001b[39m \u001b[43m    \u001b[49m\u001b[43mestimator\u001b[49m\u001b[43m=\u001b[49m\u001b[43mestimator\u001b[49m\u001b[43m,\u001b[49m\n\u001b[32m   1382\u001b[39m \u001b[43m    \u001b[49m\u001b[43minput_name\u001b[49m\u001b[43m=\u001b[49m\u001b[33;43m\"\u001b[39;49m\u001b[33;43mX\u001b[39;49m\u001b[33;43m\"\u001b[39;49m\u001b[43m,\u001b[49m\n\u001b[32m   1383\u001b[39m \u001b[43m\u001b[49m\u001b[43m)\u001b[49m\n\u001b[32m   1385\u001b[39m y = _check_y(y, multi_output=multi_output, y_numeric=y_numeric, estimator=estimator)\n\u001b[32m   1387\u001b[39m check_consistent_length(X, y)\n",
      "\u001b[36mFile \u001b[39m\u001b[32m/Library/Frameworks/Python.framework/Versions/3.11/lib/python3.11/site-packages/sklearn/utils/validation.py:929\u001b[39m, in \u001b[36mcheck_array\u001b[39m\u001b[34m(array, accept_sparse, accept_large_sparse, dtype, order, copy, force_writeable, force_all_finite, ensure_all_finite, ensure_non_negative, ensure_2d, allow_nd, ensure_min_samples, ensure_min_features, estimator, input_name)\u001b[39m\n\u001b[32m    925\u001b[39m pandas_requires_conversion = \u001b[38;5;28many\u001b[39m(\n\u001b[32m    926\u001b[39m     _pandas_dtype_needs_early_conversion(i) \u001b[38;5;28;01mfor\u001b[39;00m i \u001b[38;5;129;01min\u001b[39;00m dtypes_orig\n\u001b[32m    927\u001b[39m )\n\u001b[32m    928\u001b[39m \u001b[38;5;28;01mif\u001b[39;00m \u001b[38;5;28mall\u001b[39m(\u001b[38;5;28misinstance\u001b[39m(dtype_iter, np.dtype) \u001b[38;5;28;01mfor\u001b[39;00m dtype_iter \u001b[38;5;129;01min\u001b[39;00m dtypes_orig):\n\u001b[32m--> \u001b[39m\u001b[32m929\u001b[39m     dtype_orig = \u001b[43mnp\u001b[49m\u001b[43m.\u001b[49m\u001b[43mresult_type\u001b[49m\u001b[43m(\u001b[49m\u001b[43m*\u001b[49m\u001b[43mdtypes_orig\u001b[49m\u001b[43m)\u001b[49m\n\u001b[32m    930\u001b[39m \u001b[38;5;28;01melif\u001b[39;00m pandas_requires_conversion \u001b[38;5;129;01mand\u001b[39;00m \u001b[38;5;28many\u001b[39m(d == \u001b[38;5;28mobject\u001b[39m \u001b[38;5;28;01mfor\u001b[39;00m d \u001b[38;5;129;01min\u001b[39;00m dtypes_orig):\n\u001b[32m    931\u001b[39m     \u001b[38;5;66;03m# Force object if any of the dtypes is an object\u001b[39;00m\n\u001b[32m    932\u001b[39m     dtype_orig = \u001b[38;5;28mobject\u001b[39m\n",
      "\u001b[31mDTypePromotionError\u001b[39m: The DType <class 'numpy.dtypes.DateTime64DType'> could not be promoted by <class 'numpy.dtypes.Float64DType'>. This means that no common DType exists for the given inputs. For example they cannot be stored in a single array unless the dtype is `object`. The full list of DTypes is: (<class 'numpy.dtypes.Int64DType'>, <class 'numpy.dtypes.DateTime64DType'>, <class 'numpy.dtypes.Float64DType'>, <class 'numpy.dtypes.Int64DType'>, <class 'numpy.dtypes.Int64DType'>, <class 'numpy.dtypes.Int64DType'>, <class 'numpy.dtypes.Int64DType'>, <class 'numpy.dtypes.Int64DType'>, <class 'numpy.dtypes.Float64DType'>, <class 'numpy.dtypes.Float64DType'>)"
     ]
    }
   ],
   "source": [
    "# Определение признаков и целевой переменной\n",
    "X = fill_data.drop('reviewer_score', axis=1)\n",
    "y = fill_data['reviewer_score']\n",
    "# Разделение на train/test\n",
    "X_train, X_test, y_train, y_test = train_test_split(X, y, test_size=0.25, random_state=42)\n",
    "# Создание и обучение модели\n",
    "regr = RandomForestRegressor(n_estimators=100)\n",
    "regr.fit(X_train, y_train)\n",
    "# Предсказание и оценка\n",
    "y_pred = regr.predict(X_test)"
   ]
  },
  {
   "cell_type": "code",
   "execution_count": null,
   "id": "ba97508d",
   "metadata": {},
   "outputs": [],
   "source": [
    "# исправим ошибку с 'datetime64[ns]', но не полностью убирая данные\n",
    "\n",
    "fill_data['review_year'] = fill_data['review_date'].dt.year\n",
    "\n",
    "# Удаляем оригинальный столбец с датой, так как он вызывает ошибку\n",
    "fill_data = fill_data.drop('review_date', axis=1)"
   ]
  },
  {
   "cell_type": "code",
   "execution_count": 33,
   "id": "d59be308",
   "metadata": {},
   "outputs": [],
   "source": [
    "# Определение признаков и целевой переменной\n",
    "X = fill_data.drop('reviewer_score', axis=1)\n",
    "y = fill_data['reviewer_score']\n",
    "# Разделение на train/test\n",
    "X_train, X_test, y_train, y_test = train_test_split(X, y, test_size=0.25, random_state=42)\n",
    "# Создание и обучение модели\n",
    "regr = RandomForestRegressor(n_estimators=100)\n",
    "regr.fit(X_train, y_train)\n",
    "# Предсказание и оценка\n",
    "y_pred = regr.predict(X_test)"
   ]
  },
  {
   "cell_type": "code",
   "execution_count": 34,
   "id": "feff7d14",
   "metadata": {},
   "outputs": [
    {
     "name": "stdout",
     "output_type": "stream",
     "text": [
      "MAPE: 0.13791652189491319\n"
     ]
    }
   ],
   "source": [
    "print('MAPE:', metrics.mean_absolute_percentage_error(y_test, y_pred))"
   ]
  },
  {
   "cell_type": "markdown",
   "id": "6a91ffab",
   "metadata": {},
   "source": [
    "**Первое обучение показалось МАРЕ = 0.13 (13%). Попробуем избавиться от выбросов, сначала проверим на их наличие, затем проведем корреляяционный анализ признаков. Данные шаги могут улучшить наши показатели**"
   ]
  },
  {
   "cell_type": "code",
   "execution_count": 36,
   "id": "af502c09",
   "metadata": {},
   "outputs": [
    {
     "data": {
      "image/png": "[encoded data removed]",
      "text/plain": [
       "<Figure size 2000x1000 with 1 Axes>"
      ]
     },
     "metadata": {},
     "output_type": "display_data"
    }
   ],
   "source": [
    "# визуализируем выбросы\n",
    "plt.figure(figsize=(20, 10))\n",
    "sns.boxplot(data=fill_data)\n",
    "\n",
    "plt.xticks(rotation=90)\n",
    "plt.title('Boxplot всех числовых признаков для анализа выбросов')\n",
    "plt.tight_layout()\n",
    "plt.show()"
   ]
  },
  {
   "cell_type": "code",
   "execution_count": 37,
   "id": "a310f0dc",
   "metadata": {},
   "outputs": [
    {
     "data": {
      "image/png": "[encoded data removed]",
      "text/plain": [
       "<Figure size 1500x1000 with 12 Axes>"
      ]
     },
     "metadata": {},
     "output_type": "display_data"
    }
   ],
   "source": [
    "fill_data.hist(bins=30, figsize=(15, 10))\n",
    "plt.suptitle('Мультигистограмма выбранных признаков')\n",
    "plt.tight_layout()\n",
    "plt.show()"
   ]
  },
  {
   "cell_type": "markdown",
   "id": "2e3e9faa",
   "metadata": {},
   "source": [
    "***Достаточно очевидно, что данные нуждаются в очистке***"
   ]
  },
  {
   "cell_type": "code",
   "execution_count": 38,
   "id": "d2059b80",
   "metadata": {},
   "outputs": [
    {
     "name": "stdout",
     "output_type": "stream",
     "text": [
      "Выбросы заменены на граничные значения без потери записей!\n",
      "Размер датасета: 386803 записей\n"
     ]
    }
   ],
   "source": [
    "# уберем выбросы во всех числовых значениях\n",
    "df_cleaned = fill_data.copy()\n",
    "\n",
    "for col in df_cleaned.select_dtypes(include=[np.number]).columns:\n",
    "    Q1 = df_cleaned[col].quantile(0.25)\n",
    "    Q3 = df_cleaned[col].quantile(0.75)\n",
    "    IQR = Q3 - Q1\n",
    "    lower_bound = Q1 - 1.5 * IQR\n",
    "    upper_bound = Q3 + 1.5 * IQR\n",
    "    \n",
    "    # Заменяем выбросы на граничные значения\n",
    "    df_cleaned[col] = df_cleaned[col].clip(lower=lower_bound, upper=upper_bound)\n",
    "\n",
    "print(\"Выбросы заменены на граничные значения без потери записей!\")\n",
    "print(f\"Размер датасета: {len(df_cleaned)} записей\")"
   ]
  },
  {
   "cell_type": "code",
   "execution_count": 39,
   "id": "d2693d26",
   "metadata": {},
   "outputs": [
    {
     "data": {
      "image/png": "[encoded data removed]",
      "text/plain": [
       "<Figure size 2000x1000 with 1 Axes>"
      ]
     },
     "metadata": {},
     "output_type": "display_data"
    }
   ],
   "source": [
    "# быстрая проверка\n",
    "plt.figure(figsize=(20, 10))\n",
    "sns.boxplot(data=df_cleaned)\n",
    "\n",
    "plt.xticks(rotation=90)\n",
    "plt.title('Boxplot всех числовых признаков для анализа выбросов')\n",
    "plt.tight_layout()\n",
    "plt.show()"
   ]
  },
  {
   "cell_type": "markdown",
   "id": "390e4bde",
   "metadata": {},
   "source": [
    "***Избавившись от выбросов проведем корреляционный анализ признаков***"
   ]
  },
  {
   "cell_type": "code",
   "execution_count": 40,
   "id": "3fa0e615",
   "metadata": {},
   "outputs": [
    {
     "data": {
      "image/png": "[encoded data removed]",
      "text/plain": [
       "<Figure size 1200x1000 with 2 Axes>"
      ]
     },
     "metadata": {},
     "output_type": "display_data"
    }
   ],
   "source": [
    "corr_matrix = df_cleaned.corr()\n",
    "\n",
    "# Визуализируем heatmap\n",
    "plt.figure(figsize=(12, 10))\n",
    "sns.heatmap(corr_matrix, \n",
    "            annot=True,    \n",
    "            fmt='.2f',     \n",
    "            cmap='coolwarm', \n",
    "            center=0,      \n",
    "            square=True)   \n",
    "\n",
    "plt.title('Матрица корреляций', fontsize=16, pad=20)\n",
    "plt.xticks(rotation=45)\n",
    "plt.yticks(rotation=0)\n",
    "plt.tight_layout()\n",
    "plt.show()"
   ]
  },
  {
   "cell_type": "markdown",
   "id": "ca1820d3",
   "metadata": {},
   "source": [
    "**Достаточно сильными корреляциями обладают следующие пары признаков:**\n",
    "- total_number_of_reviews & additional_number_of_scorring.\n",
    "- additional_number_of_scorring & review_total_negative_word_counts.\n",
    "- review_year & total_number_of_reviews_reviewer_has_given.\n",
    "- days_since_review & review_year."
   ]
  },
  {
   "cell_type": "markdown",
   "id": "f572d2e0",
   "metadata": {},
   "source": [
    "Рискнем оставить только их, а затем проведем дополнительную оценку значимости переменных."
   ]
  },
  {
   "cell_type": "code",
   "execution_count": null,
   "id": "855dfcab",
   "metadata": {},
   "outputs": [
    {
     "name": "stdout",
     "output_type": "stream",
     "text": [
      "<class 'pandas.core.frame.DataFrame'>\n",
      "RangeIndex: 386803 entries, 0 to 386802\n",
      "Data columns (total 11 columns):\n",
      " #   Column                                      Non-Null Count   Dtype  \n",
      "---  ------                                      --------------   -----  \n",
      " 0   additional_number_of_scoring                386803 non-null  float64\n",
      " 1   average_score                               386803 non-null  float64\n",
      " 2   review_total_negative_word_counts           386803 non-null  float64\n",
      " 3   total_number_of_reviews                     386803 non-null  int64  \n",
      " 4   review_total_positive_word_counts           386803 non-null  float64\n",
      " 5   total_number_of_reviews_reviewer_has_given  386803 non-null  float64\n",
      " 6   reviewer_score                              386803 non-null  float64\n",
      " 7   days_since_review                           386803 non-null  int64  \n",
      " 8   lat                                         386803 non-null  float64\n",
      " 9   lng                                         386803 non-null  float64\n",
      " 10  review_year                                 386803 non-null  int32  \n",
      "dtypes: float64(8), int32(1), int64(2)\n",
      "memory usage: 31.0 MB\n"
     ]
    }
   ],
   "source": [
    "# напоминание\n",
    "df_cleaned.info()"
   ]
  },
  {
   "cell_type": "code",
   "execution_count": 42,
   "id": "9a09ac73",
   "metadata": {},
   "outputs": [
    {
     "data": {
      "application/vnd.microsoft.datawrangler.viewer.v0+json": {
       "columns": [
        {
         "name": "index",
         "rawType": "int64",
         "type": "integer"
        },
        {
         "name": "additional_number_of_scoring",
         "rawType": "float64",
         "type": "float"
        },
        {
         "name": "average_score",
         "rawType": "float64",
         "type": "float"
        },
        {
         "name": "review_total_negative_word_counts",
         "rawType": "float64",
         "type": "float"
        },
        {
         "name": "total_number_of_reviews",
         "rawType": "int64",
         "type": "integer"
        },
        {
         "name": "review_total_positive_word_counts",
         "rawType": "float64",
         "type": "float"
        },
        {
         "name": "total_number_of_reviews_reviewer_has_given",
         "rawType": "float64",
         "type": "float"
        },
        {
         "name": "reviewer_score",
         "rawType": "float64",
         "type": "float"
        },
        {
         "name": "days_since_review",
         "rawType": "int64",
         "type": "integer"
        },
        {
         "name": "review_year",
         "rawType": "int32",
         "type": "integer"
        }
       ],
       "ref": "44eb8a35-19dc-42a6-b5ac-d13ff091a280",
       "rows": [
        [
         "0",
         "581.0",
         "8.4",
         "3.0",
         "1994",
         "4.0",
         "7.0",
         "10.0",
         "531",
         "2016"
        ],
        [
         "1",
         "299.0",
         "8.3",
         "3.0",
         "1361",
         "2.0",
         "14.0",
         "6.3",
         "203",
         "2017"
        ],
        [
         "2",
         "32.0",
         "8.9",
         "6.0",
         "406",
         "0.0",
         "14.0",
         "7.5",
         "289",
         "2016"
        ],
        [
         "3",
         "34.0",
         "7.5",
         "0.0",
         "607",
         "11.0",
         "8.0",
         "10.0",
         "681",
         "2015"
        ],
        [
         "4",
         "914.0",
         "8.5",
         "4.0",
         "7291",
         "20.0",
         "10.0",
         "9.6",
         "516",
         "2016"
        ]
       ],
       "shape": {
        "columns": 9,
        "rows": 5
       }
      },
      "text/html": [
       "<div>\n",
       "<style scoped>\n",
       "    .dataframe tbody tr th:only-of-type {\n",
       "        vertical-align: middle;\n",
       "    }\n",
       "\n",
       "    .dataframe tbody tr th {\n",
       "        vertical-align: top;\n",
       "    }\n",
       "\n",
       "    .dataframe thead th {\n",
       "        text-align: right;\n",
       "    }\n",
       "</style>\n",
       "<table border=\"1\" class=\"dataframe\">\n",
       "  <thead>\n",
       "    <tr style=\"text-align: right;\">\n",
       "      <th></th>\n",
       "      <th>additional_number_of_scoring</th>\n",
       "      <th>average_score</th>\n",
       "      <th>review_total_negative_word_counts</th>\n",
       "      <th>total_number_of_reviews</th>\n",
       "      <th>review_total_positive_word_counts</th>\n",
       "      <th>total_number_of_reviews_reviewer_has_given</th>\n",
       "      <th>reviewer_score</th>\n",
       "      <th>days_since_review</th>\n",
       "      <th>review_year</th>\n",
       "    </tr>\n",
       "  </thead>\n",
       "  <tbody>\n",
       "    <tr>\n",
       "      <th>0</th>\n",
       "      <td>581.0</td>\n",
       "      <td>8.4</td>\n",
       "      <td>3.0</td>\n",
       "      <td>1994</td>\n",
       "      <td>4.0</td>\n",
       "      <td>7.0</td>\n",
       "      <td>10.0</td>\n",
       "      <td>531</td>\n",
       "      <td>2016</td>\n",
       "    </tr>\n",
       "    <tr>\n",
       "      <th>1</th>\n",
       "      <td>299.0</td>\n",
       "      <td>8.3</td>\n",
       "      <td>3.0</td>\n",
       "      <td>1361</td>\n",
       "      <td>2.0</td>\n",
       "      <td>14.0</td>\n",
       "      <td>6.3</td>\n",
       "      <td>203</td>\n",
       "      <td>2017</td>\n",
       "    </tr>\n",
       "    <tr>\n",
       "      <th>2</th>\n",
       "      <td>32.0</td>\n",
       "      <td>8.9</td>\n",
       "      <td>6.0</td>\n",
       "      <td>406</td>\n",
       "      <td>0.0</td>\n",
       "      <td>14.0</td>\n",
       "      <td>7.5</td>\n",
       "      <td>289</td>\n",
       "      <td>2016</td>\n",
       "    </tr>\n",
       "    <tr>\n",
       "      <th>3</th>\n",
       "      <td>34.0</td>\n",
       "      <td>7.5</td>\n",
       "      <td>0.0</td>\n",
       "      <td>607</td>\n",
       "      <td>11.0</td>\n",
       "      <td>8.0</td>\n",
       "      <td>10.0</td>\n",
       "      <td>681</td>\n",
       "      <td>2015</td>\n",
       "    </tr>\n",
       "    <tr>\n",
       "      <th>4</th>\n",
       "      <td>914.0</td>\n",
       "      <td>8.5</td>\n",
       "      <td>4.0</td>\n",
       "      <td>7291</td>\n",
       "      <td>20.0</td>\n",
       "      <td>10.0</td>\n",
       "      <td>9.6</td>\n",
       "      <td>516</td>\n",
       "      <td>2016</td>\n",
       "    </tr>\n",
       "  </tbody>\n",
       "</table>\n",
       "</div>"
      ],
      "text/plain": [
       "   additional_number_of_scoring  average_score  \\\n",
       "0                         581.0            8.4   \n",
       "1                         299.0            8.3   \n",
       "2                          32.0            8.9   \n",
       "3                          34.0            7.5   \n",
       "4                         914.0            8.5   \n",
       "\n",
       "   review_total_negative_word_counts  total_number_of_reviews  \\\n",
       "0                                3.0                     1994   \n",
       "1                                3.0                     1361   \n",
       "2                                6.0                      406   \n",
       "3                                0.0                      607   \n",
       "4                                4.0                     7291   \n",
       "\n",
       "   review_total_positive_word_counts  \\\n",
       "0                                4.0   \n",
       "1                                2.0   \n",
       "2                                0.0   \n",
       "3                               11.0   \n",
       "4                               20.0   \n",
       "\n",
       "   total_number_of_reviews_reviewer_has_given  reviewer_score  \\\n",
       "0                                         7.0            10.0   \n",
       "1                                        14.0             6.3   \n",
       "2                                        14.0             7.5   \n",
       "3                                         8.0            10.0   \n",
       "4                                        10.0             9.6   \n",
       "\n",
       "   days_since_review  review_year  \n",
       "0                531         2016  \n",
       "1                203         2017  \n",
       "2                289         2016  \n",
       "3                681         2015  \n",
       "4                516         2016  "
      ]
     },
     "execution_count": 42,
     "metadata": {},
     "output_type": "execute_result"
    }
   ],
   "source": [
    "# удаляем, не трогая reviewer_score (так как от нее отталкивались с самого начала)\n",
    "df_cleaned = df_cleaned.drop(['lat', 'lng'], axis=1)\n",
    "df_cleaned.head()"
   ]
  },
  {
   "cell_type": "markdown",
   "id": "739032c4",
   "metadata": {},
   "source": [
    "**У нас остались только числовые признаки, без категориальных (никак не подтянуть, чтобы, как я понимаю, ничего не испортить). Оценим значимость только числовых признаков.**"
   ]
  },
  {
   "cell_type": "code",
   "execution_count": null,
   "id": "ce97bfb4",
   "metadata": {},
   "outputs": [
    {
     "data": {
      "image/png": "[encoded data removed]",
      "text/plain": [
       "<Figure size 640x480 with 1 Axes>"
      ]
     },
     "metadata": {},
     "output_type": "display_data"
    }
   ],
   "source": [
    "num_cols = ['additional_number_of_scoring', \n",
    "            'review_total_negative_word_counts',\n",
    "            'review_total_positive_word_counts',\n",
    "            'total_number_of_reviews_reviewer_has_given']\n",
    "\n",
    "# y - целевая переменная\n",
    "y = df_cleaned['reviewer_score']\n",
    "\n",
    "# X - все признаки кроме целевой\n",
    "X = df_cleaned.drop('reviewer_score', axis=1)\n",
    "\n",
    "# Применяем f_classif к выбранным числовым признакам\n",
    "imp_num = pd.Series(f_classif(X[num_cols], y)[0], index=num_cols)\n",
    "\n",
    "# Сортировка и визуализация\n",
    "imp_num.sort_values(inplace=True)\n",
    "imp_num.plot(kind='barh', title='Важность признаков (F-test)')\n",
    "plt.show()"
   ]
  },
  {
   "cell_type": "markdown",
   "id": "ccba3985",
   "metadata": {},
   "source": [
    "**Можно было бы удалить additional_number_of_scoring, но, вероятно, просто оценка (без отзыва) поможет нам лучше предсказать рейтинг отеля.**"
   ]
  },
  {
   "cell_type": "markdown",
   "id": "0252d02c",
   "metadata": {},
   "source": [
    ">**Проводим финальное обучение модели**"
   ]
  },
  {
   "cell_type": "code",
   "execution_count": 50,
   "id": "e68346aa",
   "metadata": {},
   "outputs": [],
   "source": [
    "# Определение признаков и целевой переменной\n",
    "X = df_cleaned.drop('reviewer_score', axis=1)\n",
    "y = df_cleaned['reviewer_score']\n",
    "# Разделение на train/test\n",
    "X_train, X_test, y_train, y_test = train_test_split(X, y, test_size=0.25, random_state=42)\n",
    "# Создание и обучение модели\n",
    "regr = RandomForestRegressor(n_estimators=100)\n",
    "regr.fit(X_train, y_train)\n",
    "# Предсказание и оценка\n",
    "y_pred = regr.predict(X_test)"
   ]
  },
  {
   "cell_type": "code",
   "execution_count": 51,
   "id": "43abd5f7",
   "metadata": {},
   "outputs": [
    {
     "name": "stdout",
     "output_type": "stream",
     "text": [
      "MAPE: 0.12737993568551095\n"
     ]
    }
   ],
   "source": [
    "print('MAPE:', metrics.mean_absolute_percentage_error(y_test, y_pred))"
   ]
  },
  {
   "cell_type": "markdown",
   "id": "f86dc29b",
   "metadata": {},
   "source": [
    ">**Показатель МАРЕ улучшился. После проведенных манипуляций с данными мы добились значение 0.12 (12%). Это означает, что модель ошибается в среднем на 12% от истинного значения.**"
   ]
  }
 ],
 "metadata": {
  "kernelspec": {
   "display_name": "Python 3",
   "language": "python",
   "name": "python3"
  },
  "language_info": {
   "codemirror_mode": {
    "name": "ipython",
    "version": 3
   },
   "file_extension": ".py",
   "mimetype": "text/x-python",
   "name": "python",
   "nbconvert_exporter": "python",
   "pygments_lexer": "ipython3",
   "version": "3.11.5"
  }
 },
 "nbformat": 4,
 "nbformat_minor": 5
}
