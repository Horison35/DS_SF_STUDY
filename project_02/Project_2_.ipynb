{
  "cells": [
    {
      "cell_type": "markdown",
      "id": "42289889-bd57-434e-9637-d3e354756316",
      "metadata": {
        "id": "42289889-bd57-434e-9637-d3e354756316"
      },
      "source": [
        "<center> <img src = https://raw.githubusercontent.com/AndreyRysistov/DatasetsForPandas/main/hh%20label.jpg alt=\"drawing\" style=\"width:400px;\">"
      ]
    },
    {
      "cell_type": "markdown",
      "id": "829cb75b-f14e-4ba8-9195-7ba929a7d656",
      "metadata": {
        "id": "829cb75b-f14e-4ba8-9195-7ba929a7d656",
        "tags": []
      },
      "source": [
        "# <center> Проект: Анализ вакансий из HeadHunter\n",
        "   "
      ]
    },
    {
      "cell_type": "code",
      "execution_count": 1344,
      "id": "dccfde33-2452-43fb-a8a5-5c6ebc02a71d",
      "metadata": {
        "id": "dccfde33-2452-43fb-a8a5-5c6ebc02a71d"
      },
      "outputs": [],
      "source": [
        "import pandas as pd\n",
        "import psycopg2\n",
        "import requests # Дополнительно импортируем библиотеку requests\n",
        "from bs4 import BeautifulSoup # Дополнительно импортируем библиотеку BeautifulSoup"
      ]
    },
    {
      "cell_type": "code",
      "execution_count": 1346,
      "id": "G4X_q8KBf7SF",
      "metadata": {
        "id": "G4X_q8KBf7SF"
      },
      "outputs": [],
      "source": [
        "connection = psycopg2.connect(\n",
        "    dbname=DBNAME,\n",
        "    user=USER,\n",
        "    host=HOST,\n",
        "    password=PASSWORD,\n",
        "    port=PORT\n",
        ")"
      ]
    },
    {
      "cell_type": "markdown",
      "id": "0dc6476b-7a00-44f1-ac93-6e3baed33a29",
      "metadata": {
        "id": "0dc6476b-7a00-44f1-ac93-6e3baed33a29"
      },
      "source": [
        "# Юнит 3. Предварительный анализ данных"
      ]
    },
    {
      "cell_type": "markdown",
      "id": "889782b6-8d1c-410e-8920-e57f27917c64",
      "metadata": {
        "id": "889782b6-8d1c-410e-8920-e57f27917c64"
      },
      "source": [
        "1. Напишите запрос, который посчитает количество вакансий в нашей базе (вакансии находятся в таблице vacancies). "
      ]
    },
    {
      "cell_type": "code",
      "execution_count": 1347,
      "id": "bc39e68e-ed02-4ee2-9235-7258a2f867a8",
      "metadata": {
        "id": "bc39e68e-ed02-4ee2-9235-7258a2f867a8"
      },
      "outputs": [],
      "source": [
        "# текст запроса\n",
        "query_3_1 = f'''select\n",
        "                    count(*) as cnt_vacancies\n",
        "                from \n",
        "                    VACANCIES\n",
        "'''"
      ]
    },
    {
      "cell_type": "code",
      "execution_count": 1348,
      "id": "7mAwtsk4hEHY",
      "metadata": {
        "id": "7mAwtsk4hEHY"
      },
      "outputs": [
        {
          "name": "stderr",
          "output_type": "stream",
          "text": [
            "/var/folders/zy/nrgcv7_53yjdkhzk46rq81140000gn/T/ipykernel_34471/4124202279.py:2: UserWarning: pandas only supports SQLAlchemy connectable (engine/connection) or database string URI or sqlite3 DBAPI2 connection. Other DBAPI2 objects are not tested. Please consider using SQLAlchemy.\n",
            "  count_vacancies = pd.read_sql_query(query_3_1, connection)\n"
          ]
        },
        {
          "data": {
            "application/vnd.microsoft.datawrangler.viewer.v0+json": {
              "columns": [
                {
                  "name": "index",
                  "rawType": "int64",
                  "type": "integer"
                },
                {
                  "name": "cnt_vacancies",
                  "rawType": "int64",
                  "type": "integer"
                }
              ],
              "ref": "9efa08b3-d410-4a18-97d5-38b410525a6d",
              "rows": [
                [
                  "0",
                  "49197"
                ]
              ],
              "shape": {
                "columns": 1,
                "rows": 1
              }
            },
            "text/html": [
              "<div>\n",
              "<style scoped>\n",
              "    .dataframe tbody tr th:only-of-type {\n",
              "        vertical-align: middle;\n",
              "    }\n",
              "\n",
              "    .dataframe tbody tr th {\n",
              "        vertical-align: top;\n",
              "    }\n",
              "\n",
              "    .dataframe thead th {\n",
              "        text-align: right;\n",
              "    }\n",
              "</style>\n",
              "<table border=\"1\" class=\"dataframe\">\n",
              "  <thead>\n",
              "    <tr style=\"text-align: right;\">\n",
              "      <th></th>\n",
              "      <th>cnt_vacancies</th>\n",
              "    </tr>\n",
              "  </thead>\n",
              "  <tbody>\n",
              "    <tr>\n",
              "      <th>0</th>\n",
              "      <td>49197</td>\n",
              "    </tr>\n",
              "  </tbody>\n",
              "</table>\n",
              "</div>"
            ],
            "text/plain": [
              "   cnt_vacancies\n",
              "0          49197"
            ]
          },
          "execution_count": 1348,
          "metadata": {},
          "output_type": "execute_result"
        }
      ],
      "source": [
        "# выодим результат\n",
        "count_vacancies = pd.read_sql_query(query_3_1, connection)\n",
        "count_vacancies"
      ]
    },
    {
      "cell_type": "markdown",
      "id": "b583485d-1f9e-494e-ada4-80ffff7c53d6",
      "metadata": {
        "id": "b583485d-1f9e-494e-ada4-80ffff7c53d6"
      },
      "source": [
        "2. Напишите запрос, который посчитает количество работодателей (таблица employers). "
      ]
    },
    {
      "cell_type": "code",
      "execution_count": 1349,
      "id": "5408c52c-3407-4a63-b25b-1aafa2322d28",
      "metadata": {
        "id": "5408c52c-3407-4a63-b25b-1aafa2322d28"
      },
      "outputs": [],
      "source": [
        "# текст запроса\n",
        "query_3_2 = f'''select \n",
        "                    count(*) as cnt_employers\n",
        "                from \n",
        "                    EMPLOYERS\n",
        "'''"
      ]
    },
    {
      "cell_type": "code",
      "execution_count": 1350,
      "id": "jVL4eshKhdqc",
      "metadata": {
        "id": "jVL4eshKhdqc"
      },
      "outputs": [
        {
          "name": "stderr",
          "output_type": "stream",
          "text": [
            "/var/folders/zy/nrgcv7_53yjdkhzk46rq81140000gn/T/ipykernel_34471/1210236520.py:2: UserWarning: pandas only supports SQLAlchemy connectable (engine/connection) or database string URI or sqlite3 DBAPI2 connection. Other DBAPI2 objects are not tested. Please consider using SQLAlchemy.\n",
            "  count_employers = pd.read_sql_query(query_3_2, connection)\n"
          ]
        },
        {
          "data": {
            "application/vnd.microsoft.datawrangler.viewer.v0+json": {
              "columns": [
                {
                  "name": "index",
                  "rawType": "int64",
                  "type": "integer"
                },
                {
                  "name": "cnt_employers",
                  "rawType": "int64",
                  "type": "integer"
                }
              ],
              "ref": "817c55d7-695a-4861-8029-a061662c7e13",
              "rows": [
                [
                  "0",
                  "23501"
                ]
              ],
              "shape": {
                "columns": 1,
                "rows": 1
              }
            },
            "text/html": [
              "<div>\n",
              "<style scoped>\n",
              "    .dataframe tbody tr th:only-of-type {\n",
              "        vertical-align: middle;\n",
              "    }\n",
              "\n",
              "    .dataframe tbody tr th {\n",
              "        vertical-align: top;\n",
              "    }\n",
              "\n",
              "    .dataframe thead th {\n",
              "        text-align: right;\n",
              "    }\n",
              "</style>\n",
              "<table border=\"1\" class=\"dataframe\">\n",
              "  <thead>\n",
              "    <tr style=\"text-align: right;\">\n",
              "      <th></th>\n",
              "      <th>cnt_employers</th>\n",
              "    </tr>\n",
              "  </thead>\n",
              "  <tbody>\n",
              "    <tr>\n",
              "      <th>0</th>\n",
              "      <td>23501</td>\n",
              "    </tr>\n",
              "  </tbody>\n",
              "</table>\n",
              "</div>"
            ],
            "text/plain": [
              "   cnt_employers\n",
              "0          23501"
            ]
          },
          "execution_count": 1350,
          "metadata": {},
          "output_type": "execute_result"
        }
      ],
      "source": [
        "# выводим результат\n",
        "count_employers = pd.read_sql_query(query_3_2, connection)\n",
        "count_employers"
      ]
    },
    {
      "cell_type": "markdown",
      "id": "a2bfff1f-c975-4bf6-84be-2185d79dcb76",
      "metadata": {
        "id": "a2bfff1f-c975-4bf6-84be-2185d79dcb76"
      },
      "source": [
        "3. Посчитате с помощью запроса количество регионов (таблица areas)."
      ]
    },
    {
      "cell_type": "code",
      "execution_count": 1351,
      "id": "1m8QJwBYhey6",
      "metadata": {
        "id": "1m8QJwBYhey6"
      },
      "outputs": [],
      "source": [
        "# текст запроса\n",
        "query_3_3 = f'''select\n",
        "                    count(*) as cnt_areas\n",
        "                from\n",
        "                    AREAS\n",
        "'''"
      ]
    },
    {
      "cell_type": "code",
      "execution_count": 1352,
      "id": "EZsn9tlfhe7f",
      "metadata": {
        "id": "EZsn9tlfhe7f"
      },
      "outputs": [
        {
          "name": "stderr",
          "output_type": "stream",
          "text": [
            "/var/folders/zy/nrgcv7_53yjdkhzk46rq81140000gn/T/ipykernel_34471/1969546299.py:2: UserWarning: pandas only supports SQLAlchemy connectable (engine/connection) or database string URI or sqlite3 DBAPI2 connection. Other DBAPI2 objects are not tested. Please consider using SQLAlchemy.\n",
            "  count_ares = pd.read_sql_query(query_3_3, connection)\n"
          ]
        },
        {
          "data": {
            "application/vnd.microsoft.datawrangler.viewer.v0+json": {
              "columns": [
                {
                  "name": "index",
                  "rawType": "int64",
                  "type": "integer"
                },
                {
                  "name": "cnt_areas",
                  "rawType": "int64",
                  "type": "integer"
                }
              ],
              "ref": "975fce38-19b9-4060-9d13-2a8de22a6ca4",
              "rows": [
                [
                  "0",
                  "1362"
                ]
              ],
              "shape": {
                "columns": 1,
                "rows": 1
              }
            },
            "text/html": [
              "<div>\n",
              "<style scoped>\n",
              "    .dataframe tbody tr th:only-of-type {\n",
              "        vertical-align: middle;\n",
              "    }\n",
              "\n",
              "    .dataframe tbody tr th {\n",
              "        vertical-align: top;\n",
              "    }\n",
              "\n",
              "    .dataframe thead th {\n",
              "        text-align: right;\n",
              "    }\n",
              "</style>\n",
              "<table border=\"1\" class=\"dataframe\">\n",
              "  <thead>\n",
              "    <tr style=\"text-align: right;\">\n",
              "      <th></th>\n",
              "      <th>cnt_areas</th>\n",
              "    </tr>\n",
              "  </thead>\n",
              "  <tbody>\n",
              "    <tr>\n",
              "      <th>0</th>\n",
              "      <td>1362</td>\n",
              "    </tr>\n",
              "  </tbody>\n",
              "</table>\n",
              "</div>"
            ],
            "text/plain": [
              "   cnt_areas\n",
              "0       1362"
            ]
          },
          "execution_count": 1352,
          "metadata": {},
          "output_type": "execute_result"
        }
      ],
      "source": [
        "# выводим результат\n",
        "count_ares = pd.read_sql_query(query_3_3, connection)\n",
        "count_ares"
      ]
    },
    {
      "cell_type": "markdown",
      "id": "41bb59f3-53cc-4a67-a5bc-bedf573955e4",
      "metadata": {
        "id": "41bb59f3-53cc-4a67-a5bc-bedf573955e4"
      },
      "source": [
        "4. Посчитате с помощью запроса количество сфер деятельности в базе (таблица industries)."
      ]
    },
    {
      "cell_type": "code",
      "execution_count": 1353,
      "id": "d286cf4c-707b-4cd2-9190-7ab3587d04a1",
      "metadata": {
        "id": "d286cf4c-707b-4cd2-9190-7ab3587d04a1"
      },
      "outputs": [],
      "source": [
        "# текст запроса\n",
        "query_3_4 = f'''select\n",
        "                    count(*) as cnt_industries\n",
        "                from\n",
        "                    INDUSTRIES\n",
        "'''"
      ]
    },
    {
      "cell_type": "code",
      "execution_count": 1354,
      "id": "JYAaoZ4qhfzW",
      "metadata": {
        "id": "JYAaoZ4qhfzW"
      },
      "outputs": [
        {
          "name": "stderr",
          "output_type": "stream",
          "text": [
            "/var/folders/zy/nrgcv7_53yjdkhzk46rq81140000gn/T/ipykernel_34471/351031968.py:2: UserWarning: pandas only supports SQLAlchemy connectable (engine/connection) or database string URI or sqlite3 DBAPI2 connection. Other DBAPI2 objects are not tested. Please consider using SQLAlchemy.\n",
            "  count_industries = pd.read_sql_query(query_3_4, connection)\n"
          ]
        },
        {
          "data": {
            "application/vnd.microsoft.datawrangler.viewer.v0+json": {
              "columns": [
                {
                  "name": "index",
                  "rawType": "int64",
                  "type": "integer"
                },
                {
                  "name": "cnt_industries",
                  "rawType": "int64",
                  "type": "integer"
                }
              ],
              "ref": "9abfffe3-09a2-4a78-b330-563dae65b8c1",
              "rows": [
                [
                  "0",
                  "294"
                ]
              ],
              "shape": {
                "columns": 1,
                "rows": 1
              }
            },
            "text/html": [
              "<div>\n",
              "<style scoped>\n",
              "    .dataframe tbody tr th:only-of-type {\n",
              "        vertical-align: middle;\n",
              "    }\n",
              "\n",
              "    .dataframe tbody tr th {\n",
              "        vertical-align: top;\n",
              "    }\n",
              "\n",
              "    .dataframe thead th {\n",
              "        text-align: right;\n",
              "    }\n",
              "</style>\n",
              "<table border=\"1\" class=\"dataframe\">\n",
              "  <thead>\n",
              "    <tr style=\"text-align: right;\">\n",
              "      <th></th>\n",
              "      <th>cnt_industries</th>\n",
              "    </tr>\n",
              "  </thead>\n",
              "  <tbody>\n",
              "    <tr>\n",
              "      <th>0</th>\n",
              "      <td>294</td>\n",
              "    </tr>\n",
              "  </tbody>\n",
              "</table>\n",
              "</div>"
            ],
            "text/plain": [
              "   cnt_industries\n",
              "0             294"
            ]
          },
          "execution_count": 1354,
          "metadata": {},
          "output_type": "execute_result"
        }
      ],
      "source": [
        "# выводим результат\n",
        "count_industries = pd.read_sql_query(query_3_4, connection)\n",
        "count_industries"
      ]
    },
    {
      "cell_type": "markdown",
      "id": "2c7d116d",
      "metadata": {},
      "source": [
        "**Выводы по предварительному анализу данных:**\n",
        "1. Количество вакансий - 49 197.\n",
        "2. Количество работодателей - 23 501.\n",
        "3. Количество регионов - 1362.\n",
        "4. Количество сфер деятельности - 294.\n",
        "5. Количество вакансий практически в двое больше количество работодателей, что может указывать на: (1) большинство работодателей размещают 1-2 вакансии, (2) на период потепления в той или иной сфере (выброс большого количества вакансий на агрегатор).\n",
        "6. Достаточно широкий круг сфер деятельности, что говорит о хорошем присутствии работодателей на платформе и ее популярности.\n",
        "7. Платформа пользуется спросов и в субъектах РФ.\n",
        "\n",
        "***"
      ]
    },
    {
      "cell_type": "markdown",
      "id": "8d62a9f3-f64e-4fe7-bdac-c4dffa16155e",
      "metadata": {
        "id": "8d62a9f3-f64e-4fe7-bdac-c4dffa16155e"
      },
      "source": [
        "# Юнит 4. Детальный анализ вакансий"
      ]
    },
    {
      "cell_type": "markdown",
      "id": "93053d3d-b284-481a-9cf7-012d7014c0e0",
      "metadata": {
        "id": "93053d3d-b284-481a-9cf7-012d7014c0e0"
      },
      "source": [
        "1. Напишите запрос, который позволит узнать, сколько (cnt) вакансий в каждом регионе (area).\n",
        "Отсортируйте по количеству вакансий в порядке убывания."
      ]
    },
    {
      "cell_type": "code",
      "execution_count": 1355,
      "id": "3f069da6-fdc9-4ae7-b514-fafe2675efd3",
      "metadata": {
        "id": "3f069da6-fdc9-4ae7-b514-fafe2675efd3"
      },
      "outputs": [],
      "source": [
        "# текст запроса\n",
        "query_3_5 = f'''select\n",
        "                    a.name as areas,\n",
        "                    count(*) as cnt\n",
        "                from\n",
        "                    VACANCIES as v\n",
        "                    join AREAS as a on v.area_id = a.id\n",
        "                group by a.name\n",
        "                order by cnt desc\n",
        "'''"
      ]
    },
    {
      "cell_type": "code",
      "execution_count": 1356,
      "id": "P7QL86hrjhRJ",
      "metadata": {
        "id": "P7QL86hrjhRJ"
      },
      "outputs": [
        {
          "name": "stderr",
          "output_type": "stream",
          "text": [
            "/var/folders/zy/nrgcv7_53yjdkhzk46rq81140000gn/T/ipykernel_34471/1571969483.py:2: UserWarning: pandas only supports SQLAlchemy connectable (engine/connection) or database string URI or sqlite3 DBAPI2 connection. Other DBAPI2 objects are not tested. Please consider using SQLAlchemy.\n",
            "  cnt_vacancies_area = pd.read_sql_query(query_3_5, connection)\n"
          ]
        },
        {
          "data": {
            "application/vnd.microsoft.datawrangler.viewer.v0+json": {
              "columns": [
                {
                  "name": "index",
                  "rawType": "int64",
                  "type": "integer"
                },
                {
                  "name": "areas",
                  "rawType": "object",
                  "type": "string"
                },
                {
                  "name": "cnt",
                  "rawType": "int64",
                  "type": "integer"
                }
              ],
              "ref": "1861aade-3fca-4788-ae6c-2f9ac4482b13",
              "rows": [
                [
                  "0",
                  "Москва",
                  "5333"
                ],
                [
                  "1",
                  "Санкт-Петербург",
                  "2851"
                ],
                [
                  "2",
                  "Минск",
                  "2112"
                ],
                [
                  "3",
                  "Новосибирск",
                  "2006"
                ],
                [
                  "4",
                  "Алматы",
                  "1892"
                ],
                [
                  "5",
                  "Екатеринбург",
                  "1698"
                ],
                [
                  "6",
                  "Нижний Новгород",
                  "1670"
                ],
                [
                  "7",
                  "Казань",
                  "1415"
                ],
                [
                  "8",
                  "Краснодар",
                  "1301"
                ],
                [
                  "9",
                  "Самара",
                  "1144"
                ],
                [
                  "10",
                  "Ростов-на-Дону",
                  "1131"
                ],
                [
                  "11",
                  "Воронеж",
                  "1063"
                ],
                [
                  "12",
                  "Ташкент",
                  "851"
                ],
                [
                  "13",
                  "Красноярск",
                  "847"
                ],
                [
                  "14",
                  "Нур-Султан",
                  "840"
                ],
                [
                  "15",
                  "Челябинск",
                  "786"
                ],
                [
                  "16",
                  "Пермь",
                  "771"
                ],
                [
                  "17",
                  "Уфа",
                  "767"
                ],
                [
                  "18",
                  "Томск",
                  "692"
                ],
                [
                  "19",
                  "Омск",
                  "617"
                ],
                [
                  "20",
                  "Саратов",
                  "579"
                ],
                [
                  "21",
                  "Тюмень",
                  "547"
                ],
                [
                  "22",
                  "Владивосток",
                  "539"
                ],
                [
                  "23",
                  "Тбилиси",
                  "474"
                ],
                [
                  "24",
                  "Ижевск",
                  "466"
                ],
                [
                  "25",
                  "Волгоград",
                  "456"
                ],
                [
                  "26",
                  "Иркутск",
                  "451"
                ],
                [
                  "27",
                  "Ярославль",
                  "391"
                ],
                [
                  "28",
                  "Барнаул",
                  "374"
                ],
                [
                  "29",
                  "Рязань",
                  "346"
                ],
                [
                  "30",
                  "Калининград",
                  "343"
                ],
                [
                  "31",
                  "Тула",
                  "343"
                ],
                [
                  "32",
                  "Хабаровск",
                  "338"
                ],
                [
                  "33",
                  "Ульяновск",
                  "332"
                ],
                [
                  "34",
                  "Кемерово",
                  "316"
                ],
                [
                  "35",
                  "Пенза",
                  "305"
                ],
                [
                  "36",
                  "Киров (Кировская область)",
                  "293"
                ],
                [
                  "37",
                  "Тверь",
                  "274"
                ],
                [
                  "38",
                  "Белгород",
                  "253"
                ],
                [
                  "39",
                  "Чебоксары",
                  "245"
                ],
                [
                  "40",
                  "Сочи",
                  "230"
                ],
                [
                  "41",
                  "Тольятти",
                  "229"
                ],
                [
                  "42",
                  "Армения",
                  "223"
                ],
                [
                  "43",
                  "Владимир",
                  "219"
                ],
                [
                  "44",
                  "Липецк",
                  "203"
                ],
                [
                  "45",
                  "Набережные Челны",
                  "202"
                ],
                [
                  "46",
                  "Оренбург",
                  "199"
                ],
                [
                  "47",
                  "Иваново (Ивановская область)",
                  "190"
                ],
                [
                  "48",
                  "Симферополь",
                  "187"
                ],
                [
                  "49",
                  "Курск",
                  "178"
                ]
              ],
              "shape": {
                "columns": 2,
                "rows": 769
              }
            },
            "text/html": [
              "<div>\n",
              "<style scoped>\n",
              "    .dataframe tbody tr th:only-of-type {\n",
              "        vertical-align: middle;\n",
              "    }\n",
              "\n",
              "    .dataframe tbody tr th {\n",
              "        vertical-align: top;\n",
              "    }\n",
              "\n",
              "    .dataframe thead th {\n",
              "        text-align: right;\n",
              "    }\n",
              "</style>\n",
              "<table border=\"1\" class=\"dataframe\">\n",
              "  <thead>\n",
              "    <tr style=\"text-align: right;\">\n",
              "      <th></th>\n",
              "      <th>areas</th>\n",
              "      <th>cnt</th>\n",
              "    </tr>\n",
              "  </thead>\n",
              "  <tbody>\n",
              "    <tr>\n",
              "      <th>0</th>\n",
              "      <td>Москва</td>\n",
              "      <td>5333</td>\n",
              "    </tr>\n",
              "    <tr>\n",
              "      <th>1</th>\n",
              "      <td>Санкт-Петербург</td>\n",
              "      <td>2851</td>\n",
              "    </tr>\n",
              "    <tr>\n",
              "      <th>2</th>\n",
              "      <td>Минск</td>\n",
              "      <td>2112</td>\n",
              "    </tr>\n",
              "    <tr>\n",
              "      <th>3</th>\n",
              "      <td>Новосибирск</td>\n",
              "      <td>2006</td>\n",
              "    </tr>\n",
              "    <tr>\n",
              "      <th>4</th>\n",
              "      <td>Алматы</td>\n",
              "      <td>1892</td>\n",
              "    </tr>\n",
              "    <tr>\n",
              "      <th>...</th>\n",
              "      <td>...</td>\n",
              "      <td>...</td>\n",
              "    </tr>\n",
              "    <tr>\n",
              "      <th>764</th>\n",
              "      <td>Тарко-Сале</td>\n",
              "      <td>1</td>\n",
              "    </tr>\n",
              "    <tr>\n",
              "      <th>765</th>\n",
              "      <td>Новоаннинский</td>\n",
              "      <td>1</td>\n",
              "    </tr>\n",
              "    <tr>\n",
              "      <th>766</th>\n",
              "      <td>Бирск</td>\n",
              "      <td>1</td>\n",
              "    </tr>\n",
              "    <tr>\n",
              "      <th>767</th>\n",
              "      <td>Сасово</td>\n",
              "      <td>1</td>\n",
              "    </tr>\n",
              "    <tr>\n",
              "      <th>768</th>\n",
              "      <td>Анна</td>\n",
              "      <td>1</td>\n",
              "    </tr>\n",
              "  </tbody>\n",
              "</table>\n",
              "<p>769 rows × 2 columns</p>\n",
              "</div>"
            ],
            "text/plain": [
              "               areas   cnt\n",
              "0             Москва  5333\n",
              "1    Санкт-Петербург  2851\n",
              "2              Минск  2112\n",
              "3        Новосибирск  2006\n",
              "4             Алматы  1892\n",
              "..               ...   ...\n",
              "764       Тарко-Сале     1\n",
              "765    Новоаннинский     1\n",
              "766            Бирск     1\n",
              "767           Сасово     1\n",
              "768             Анна     1\n",
              "\n",
              "[769 rows x 2 columns]"
            ]
          },
          "execution_count": 1356,
          "metadata": {},
          "output_type": "execute_result"
        }
      ],
      "source": [
        "# выводим результат\n",
        "cnt_vacancies_area = pd.read_sql_query(query_3_5, connection)\n",
        "cnt_vacancies_area "
      ]
    },
    {
      "cell_type": "markdown",
      "id": "4266f0b6-1646-492a-88b4-2f6a46502135",
      "metadata": {
        "id": "4266f0b6-1646-492a-88b4-2f6a46502135"
      },
      "source": [
        "2. Напишите запрос, чтобы определить у какого количества вакансий заполнено хотя бы одно из двух полей с зарплатой."
      ]
    },
    {
      "cell_type": "code",
      "execution_count": 1357,
      "id": "0c44b350-72eb-4d65-8b54-a1fc449ba9fd",
      "metadata": {
        "id": "0c44b350-72eb-4d65-8b54-a1fc449ba9fd"
      },
      "outputs": [],
      "source": [
        "# текст запроса\n",
        "query_3_6 = f'''select\n",
        "                    count(*) as cnt\n",
        "                from\n",
        "                    VACANCIES\n",
        "                where salary_from is not null or salary_to is not null \n",
        "'''"
      ]
    },
    {
      "cell_type": "code",
      "execution_count": 1358,
      "id": "rhvwaMDkoWTi",
      "metadata": {
        "id": "rhvwaMDkoWTi"
      },
      "outputs": [
        {
          "name": "stderr",
          "output_type": "stream",
          "text": [
            "/var/folders/zy/nrgcv7_53yjdkhzk46rq81140000gn/T/ipykernel_34471/2617475886.py:2: UserWarning: pandas only supports SQLAlchemy connectable (engine/connection) or database string URI or sqlite3 DBAPI2 connection. Other DBAPI2 objects are not tested. Please consider using SQLAlchemy.\n",
            "  salary_count = pd.read_sql_query(query_3_6, connection)\n"
          ]
        },
        {
          "data": {
            "application/vnd.microsoft.datawrangler.viewer.v0+json": {
              "columns": [
                {
                  "name": "index",
                  "rawType": "int64",
                  "type": "integer"
                },
                {
                  "name": "cnt",
                  "rawType": "int64",
                  "type": "integer"
                }
              ],
              "ref": "90cf1a14-89d9-4055-8890-0270a9850b0d",
              "rows": [
                [
                  "0",
                  "24073"
                ]
              ],
              "shape": {
                "columns": 1,
                "rows": 1
              }
            },
            "text/html": [
              "<div>\n",
              "<style scoped>\n",
              "    .dataframe tbody tr th:only-of-type {\n",
              "        vertical-align: middle;\n",
              "    }\n",
              "\n",
              "    .dataframe tbody tr th {\n",
              "        vertical-align: top;\n",
              "    }\n",
              "\n",
              "    .dataframe thead th {\n",
              "        text-align: right;\n",
              "    }\n",
              "</style>\n",
              "<table border=\"1\" class=\"dataframe\">\n",
              "  <thead>\n",
              "    <tr style=\"text-align: right;\">\n",
              "      <th></th>\n",
              "      <th>cnt</th>\n",
              "    </tr>\n",
              "  </thead>\n",
              "  <tbody>\n",
              "    <tr>\n",
              "      <th>0</th>\n",
              "      <td>24073</td>\n",
              "    </tr>\n",
              "  </tbody>\n",
              "</table>\n",
              "</div>"
            ],
            "text/plain": [
              "     cnt\n",
              "0  24073"
            ]
          },
          "execution_count": 1358,
          "metadata": {},
          "output_type": "execute_result"
        }
      ],
      "source": [
        "# выводим результат\n",
        "salary_count = pd.read_sql_query(query_3_6, connection)\n",
        "salary_count"
      ]
    },
    {
      "cell_type": "markdown",
      "id": "635c4d5d-f323-4c66-b428-50a088120aa0",
      "metadata": {
        "id": "635c4d5d-f323-4c66-b428-50a088120aa0"
      },
      "source": [
        "3. Найдите средние значения для нижней и верхней границы зарплатной вилки. Округлите значения до целого."
      ]
    },
    {
      "cell_type": "code",
      "execution_count": 1359,
      "id": "603cdbe4-0ec3-4106-8eaf-c73fcdd29165",
      "metadata": {
        "id": "603cdbe4-0ec3-4106-8eaf-c73fcdd29165"
      },
      "outputs": [],
      "source": [
        "# текст запроса\n",
        "query_3_7 = f'''select\n",
        "                    round(AVG(salary_from)) as mean_salary_from,\n",
        "                    round(AVG(salary_to)) as mean_salary_to\n",
        "                from\n",
        "                    VACANCIES                \n",
        "'''"
      ]
    },
    {
      "cell_type": "code",
      "execution_count": 1360,
      "id": "pswpAb66ovZZ",
      "metadata": {
        "id": "pswpAb66ovZZ"
      },
      "outputs": [
        {
          "name": "stderr",
          "output_type": "stream",
          "text": [
            "/var/folders/zy/nrgcv7_53yjdkhzk46rq81140000gn/T/ipykernel_34471/3123732009.py:2: UserWarning: pandas only supports SQLAlchemy connectable (engine/connection) or database string URI or sqlite3 DBAPI2 connection. Other DBAPI2 objects are not tested. Please consider using SQLAlchemy.\n",
            "  mean_salaries = pd.read_sql_query(query_3_7, connection)\n"
          ]
        },
        {
          "data": {
            "application/vnd.microsoft.datawrangler.viewer.v0+json": {
              "columns": [
                {
                  "name": "index",
                  "rawType": "int64",
                  "type": "integer"
                },
                {
                  "name": "mean_salary_from",
                  "rawType": "float64",
                  "type": "float"
                },
                {
                  "name": "mean_salary_to",
                  "rawType": "float64",
                  "type": "float"
                }
              ],
              "ref": "84d34126-0bfb-4ea0-b606-580f0385befb",
              "rows": [
                [
                  "0",
                  "71065.0",
                  "110537.0"
                ]
              ],
              "shape": {
                "columns": 2,
                "rows": 1
              }
            },
            "text/html": [
              "<div>\n",
              "<style scoped>\n",
              "    .dataframe tbody tr th:only-of-type {\n",
              "        vertical-align: middle;\n",
              "    }\n",
              "\n",
              "    .dataframe tbody tr th {\n",
              "        vertical-align: top;\n",
              "    }\n",
              "\n",
              "    .dataframe thead th {\n",
              "        text-align: right;\n",
              "    }\n",
              "</style>\n",
              "<table border=\"1\" class=\"dataframe\">\n",
              "  <thead>\n",
              "    <tr style=\"text-align: right;\">\n",
              "      <th></th>\n",
              "      <th>mean_salary_from</th>\n",
              "      <th>mean_salary_to</th>\n",
              "    </tr>\n",
              "  </thead>\n",
              "  <tbody>\n",
              "    <tr>\n",
              "      <th>0</th>\n",
              "      <td>71065.0</td>\n",
              "      <td>110537.0</td>\n",
              "    </tr>\n",
              "  </tbody>\n",
              "</table>\n",
              "</div>"
            ],
            "text/plain": [
              "   mean_salary_from  mean_salary_to\n",
              "0           71065.0        110537.0"
            ]
          },
          "execution_count": 1360,
          "metadata": {},
          "output_type": "execute_result"
        }
      ],
      "source": [
        "# выводим результат\n",
        "mean_salaries = pd.read_sql_query(query_3_7, connection)\n",
        "mean_salaries"
      ]
    },
    {
      "cell_type": "markdown",
      "id": "f3fdaec9-5fd3-4260-9cf5-1d7406b628a5",
      "metadata": {
        "id": "f3fdaec9-5fd3-4260-9cf5-1d7406b628a5"
      },
      "source": [
        "4. Напишите запрос, который выведет количество вакансий для каждого сочетания типа рабочего графика (schedule) и типа трудоустройства (employment), используемого в вакансиях. Результат отсортируйте по убыванию количества.\n"
      ]
    },
    {
      "cell_type": "code",
      "execution_count": 1361,
      "id": "1ea710ec-871b-431e-9462-c7d0fd87011b",
      "metadata": {
        "id": "1ea710ec-871b-431e-9462-c7d0fd87011b"
      },
      "outputs": [],
      "source": [
        "# текст запроса\n",
        "query_3_8 = f'''select\n",
        "                    schedule as schedule,\n",
        "                    employment as employment,\n",
        "                    count(*) as count\n",
        "                from\n",
        "                    VACANCIES\n",
        "                group by\n",
        "                    schedule,\n",
        "                    employment\n",
        "                order by count desc\n",
        "'''"
      ]
    },
    {
      "cell_type": "code",
      "execution_count": 1362,
      "id": "lGUVqavdo4JQ",
      "metadata": {
        "id": "lGUVqavdo4JQ"
      },
      "outputs": [
        {
          "name": "stderr",
          "output_type": "stream",
          "text": [
            "/var/folders/zy/nrgcv7_53yjdkhzk46rq81140000gn/T/ipykernel_34471/1850597055.py:2: UserWarning: pandas only supports SQLAlchemy connectable (engine/connection) or database string URI or sqlite3 DBAPI2 connection. Other DBAPI2 objects are not tested. Please consider using SQLAlchemy.\n",
            "  count_sch_emp = pd.read_sql_query(query_3_8, connection)\n"
          ]
        },
        {
          "data": {
            "application/vnd.microsoft.datawrangler.viewer.v0+json": {
              "columns": [
                {
                  "name": "index",
                  "rawType": "int64",
                  "type": "integer"
                },
                {
                  "name": "schedule",
                  "rawType": "object",
                  "type": "string"
                },
                {
                  "name": "employment",
                  "rawType": "object",
                  "type": "string"
                },
                {
                  "name": "count",
                  "rawType": "int64",
                  "type": "integer"
                }
              ],
              "ref": "5a2b334f-b23b-4344-a62f-2b974b15550c",
              "rows": [
                [
                  "0",
                  "Полный день",
                  "Полная занятость",
                  "35367"
                ],
                [
                  "1",
                  "Удаленная работа",
                  "Полная занятость",
                  "7802"
                ],
                [
                  "2",
                  "Гибкий график",
                  "Полная занятость",
                  "1593"
                ],
                [
                  "3",
                  "Удаленная работа",
                  "Частичная занятость",
                  "1312"
                ],
                [
                  "4",
                  "Сменный график",
                  "Полная занятость",
                  "940"
                ],
                [
                  "5",
                  "Полный день",
                  "Стажировка",
                  "569"
                ],
                [
                  "6",
                  "Вахтовый метод",
                  "Полная занятость",
                  "367"
                ],
                [
                  "7",
                  "Полный день",
                  "Частичная занятость",
                  "347"
                ],
                [
                  "8",
                  "Гибкий график",
                  "Частичная занятость",
                  "312"
                ],
                [
                  "9",
                  "Полный день",
                  "Проектная работа",
                  "141"
                ],
                [
                  "10",
                  "Удаленная работа",
                  "Проектная работа",
                  "133"
                ],
                [
                  "11",
                  "Гибкий график",
                  "Стажировка",
                  "116"
                ],
                [
                  "12",
                  "Сменный график",
                  "Частичная занятость",
                  "101"
                ],
                [
                  "13",
                  "Удаленная работа",
                  "Стажировка",
                  "64"
                ],
                [
                  "14",
                  "Гибкий график",
                  "Проектная работа",
                  "18"
                ],
                [
                  "15",
                  "Сменный график",
                  "Стажировка",
                  "12"
                ],
                [
                  "16",
                  "Вахтовый метод",
                  "Проектная работа",
                  "2"
                ],
                [
                  "17",
                  "Сменный график",
                  "Проектная работа",
                  "1"
                ]
              ],
              "shape": {
                "columns": 3,
                "rows": 18
              }
            },
            "text/html": [
              "<div>\n",
              "<style scoped>\n",
              "    .dataframe tbody tr th:only-of-type {\n",
              "        vertical-align: middle;\n",
              "    }\n",
              "\n",
              "    .dataframe tbody tr th {\n",
              "        vertical-align: top;\n",
              "    }\n",
              "\n",
              "    .dataframe thead th {\n",
              "        text-align: right;\n",
              "    }\n",
              "</style>\n",
              "<table border=\"1\" class=\"dataframe\">\n",
              "  <thead>\n",
              "    <tr style=\"text-align: right;\">\n",
              "      <th></th>\n",
              "      <th>schedule</th>\n",
              "      <th>employment</th>\n",
              "      <th>count</th>\n",
              "    </tr>\n",
              "  </thead>\n",
              "  <tbody>\n",
              "    <tr>\n",
              "      <th>0</th>\n",
              "      <td>Полный день</td>\n",
              "      <td>Полная занятость</td>\n",
              "      <td>35367</td>\n",
              "    </tr>\n",
              "    <tr>\n",
              "      <th>1</th>\n",
              "      <td>Удаленная работа</td>\n",
              "      <td>Полная занятость</td>\n",
              "      <td>7802</td>\n",
              "    </tr>\n",
              "    <tr>\n",
              "      <th>2</th>\n",
              "      <td>Гибкий график</td>\n",
              "      <td>Полная занятость</td>\n",
              "      <td>1593</td>\n",
              "    </tr>\n",
              "    <tr>\n",
              "      <th>3</th>\n",
              "      <td>Удаленная работа</td>\n",
              "      <td>Частичная занятость</td>\n",
              "      <td>1312</td>\n",
              "    </tr>\n",
              "    <tr>\n",
              "      <th>4</th>\n",
              "      <td>Сменный график</td>\n",
              "      <td>Полная занятость</td>\n",
              "      <td>940</td>\n",
              "    </tr>\n",
              "    <tr>\n",
              "      <th>5</th>\n",
              "      <td>Полный день</td>\n",
              "      <td>Стажировка</td>\n",
              "      <td>569</td>\n",
              "    </tr>\n",
              "    <tr>\n",
              "      <th>6</th>\n",
              "      <td>Вахтовый метод</td>\n",
              "      <td>Полная занятость</td>\n",
              "      <td>367</td>\n",
              "    </tr>\n",
              "    <tr>\n",
              "      <th>7</th>\n",
              "      <td>Полный день</td>\n",
              "      <td>Частичная занятость</td>\n",
              "      <td>347</td>\n",
              "    </tr>\n",
              "    <tr>\n",
              "      <th>8</th>\n",
              "      <td>Гибкий график</td>\n",
              "      <td>Частичная занятость</td>\n",
              "      <td>312</td>\n",
              "    </tr>\n",
              "    <tr>\n",
              "      <th>9</th>\n",
              "      <td>Полный день</td>\n",
              "      <td>Проектная работа</td>\n",
              "      <td>141</td>\n",
              "    </tr>\n",
              "    <tr>\n",
              "      <th>10</th>\n",
              "      <td>Удаленная работа</td>\n",
              "      <td>Проектная работа</td>\n",
              "      <td>133</td>\n",
              "    </tr>\n",
              "    <tr>\n",
              "      <th>11</th>\n",
              "      <td>Гибкий график</td>\n",
              "      <td>Стажировка</td>\n",
              "      <td>116</td>\n",
              "    </tr>\n",
              "    <tr>\n",
              "      <th>12</th>\n",
              "      <td>Сменный график</td>\n",
              "      <td>Частичная занятость</td>\n",
              "      <td>101</td>\n",
              "    </tr>\n",
              "    <tr>\n",
              "      <th>13</th>\n",
              "      <td>Удаленная работа</td>\n",
              "      <td>Стажировка</td>\n",
              "      <td>64</td>\n",
              "    </tr>\n",
              "    <tr>\n",
              "      <th>14</th>\n",
              "      <td>Гибкий график</td>\n",
              "      <td>Проектная работа</td>\n",
              "      <td>18</td>\n",
              "    </tr>\n",
              "    <tr>\n",
              "      <th>15</th>\n",
              "      <td>Сменный график</td>\n",
              "      <td>Стажировка</td>\n",
              "      <td>12</td>\n",
              "    </tr>\n",
              "    <tr>\n",
              "      <th>16</th>\n",
              "      <td>Вахтовый метод</td>\n",
              "      <td>Проектная работа</td>\n",
              "      <td>2</td>\n",
              "    </tr>\n",
              "    <tr>\n",
              "      <th>17</th>\n",
              "      <td>Сменный график</td>\n",
              "      <td>Проектная работа</td>\n",
              "      <td>1</td>\n",
              "    </tr>\n",
              "  </tbody>\n",
              "</table>\n",
              "</div>"
            ],
            "text/plain": [
              "            schedule           employment  count\n",
              "0        Полный день     Полная занятость  35367\n",
              "1   Удаленная работа     Полная занятость   7802\n",
              "2      Гибкий график     Полная занятость   1593\n",
              "3   Удаленная работа  Частичная занятость   1312\n",
              "4     Сменный график     Полная занятость    940\n",
              "5        Полный день           Стажировка    569\n",
              "6     Вахтовый метод     Полная занятость    367\n",
              "7        Полный день  Частичная занятость    347\n",
              "8      Гибкий график  Частичная занятость    312\n",
              "9        Полный день     Проектная работа    141\n",
              "10  Удаленная работа     Проектная работа    133\n",
              "11     Гибкий график           Стажировка    116\n",
              "12    Сменный график  Частичная занятость    101\n",
              "13  Удаленная работа           Стажировка     64\n",
              "14     Гибкий график     Проектная работа     18\n",
              "15    Сменный график           Стажировка     12\n",
              "16    Вахтовый метод     Проектная работа      2\n",
              "17    Сменный график     Проектная работа      1"
            ]
          },
          "execution_count": 1362,
          "metadata": {},
          "output_type": "execute_result"
        }
      ],
      "source": [
        "# выводим результат\n",
        "count_sch_emp = pd.read_sql_query(query_3_8, connection)\n",
        "count_sch_emp"
      ]
    },
    {
      "cell_type": "markdown",
      "id": "0136ffee-0ead-4a6b-b608-61d1c753a438",
      "metadata": {
        "id": "0136ffee-0ead-4a6b-b608-61d1c753a438"
      },
      "source": [
        "5. Напишите запрос, выводящий значения поля Требуемый опыт работы (experience) в порядке возрастания количества вакансий, в которых указан данный вариант опыта. "
      ]
    },
    {
      "cell_type": "code",
      "execution_count": 1363,
      "id": "5b3a8e79-f7ab-4008-b767-12aea3a205ea",
      "metadata": {
        "id": "5b3a8e79-f7ab-4008-b767-12aea3a205ea"
      },
      "outputs": [],
      "source": [
        "# текст запроса\n",
        "query_3_9 = f'''select\n",
        "                    experience as experience,\n",
        "                    count(*) as count_vacancies\n",
        "                from\n",
        "                    VACANCIES\n",
        "                group by experience\n",
        "                order by count_vacancies asc\n",
        "'''"
      ]
    },
    {
      "cell_type": "code",
      "execution_count": 1364,
      "id": "3Is64Y-hpDpq",
      "metadata": {
        "id": "3Is64Y-hpDpq"
      },
      "outputs": [
        {
          "name": "stderr",
          "output_type": "stream",
          "text": [
            "/var/folders/zy/nrgcv7_53yjdkhzk46rq81140000gn/T/ipykernel_34471/2531584200.py:2: UserWarning: pandas only supports SQLAlchemy connectable (engine/connection) or database string URI or sqlite3 DBAPI2 connection. Other DBAPI2 objects are not tested. Please consider using SQLAlchemy.\n",
            "  experience_vacancies_count = pd.read_sql_query(query_3_9, connection)\n"
          ]
        },
        {
          "data": {
            "application/vnd.microsoft.datawrangler.viewer.v0+json": {
              "columns": [
                {
                  "name": "index",
                  "rawType": "int64",
                  "type": "integer"
                },
                {
                  "name": "experience",
                  "rawType": "object",
                  "type": "string"
                },
                {
                  "name": "count_vacancies",
                  "rawType": "int64",
                  "type": "integer"
                }
              ],
              "ref": "925cdb34-6c82-4877-935d-a9de146be89d",
              "rows": [
                [
                  "0",
                  "Более 6 лет",
                  "1337"
                ],
                [
                  "1",
                  "Нет опыта",
                  "7197"
                ],
                [
                  "2",
                  "От 3 до 6 лет",
                  "14511"
                ],
                [
                  "3",
                  "От 1 года до 3 лет",
                  "26152"
                ]
              ],
              "shape": {
                "columns": 2,
                "rows": 4
              }
            },
            "text/html": [
              "<div>\n",
              "<style scoped>\n",
              "    .dataframe tbody tr th:only-of-type {\n",
              "        vertical-align: middle;\n",
              "    }\n",
              "\n",
              "    .dataframe tbody tr th {\n",
              "        vertical-align: top;\n",
              "    }\n",
              "\n",
              "    .dataframe thead th {\n",
              "        text-align: right;\n",
              "    }\n",
              "</style>\n",
              "<table border=\"1\" class=\"dataframe\">\n",
              "  <thead>\n",
              "    <tr style=\"text-align: right;\">\n",
              "      <th></th>\n",
              "      <th>experience</th>\n",
              "      <th>count_vacancies</th>\n",
              "    </tr>\n",
              "  </thead>\n",
              "  <tbody>\n",
              "    <tr>\n",
              "      <th>0</th>\n",
              "      <td>Более 6 лет</td>\n",
              "      <td>1337</td>\n",
              "    </tr>\n",
              "    <tr>\n",
              "      <th>1</th>\n",
              "      <td>Нет опыта</td>\n",
              "      <td>7197</td>\n",
              "    </tr>\n",
              "    <tr>\n",
              "      <th>2</th>\n",
              "      <td>От 3 до 6 лет</td>\n",
              "      <td>14511</td>\n",
              "    </tr>\n",
              "    <tr>\n",
              "      <th>3</th>\n",
              "      <td>От 1 года до 3 лет</td>\n",
              "      <td>26152</td>\n",
              "    </tr>\n",
              "  </tbody>\n",
              "</table>\n",
              "</div>"
            ],
            "text/plain": [
              "           experience  count_vacancies\n",
              "0         Более 6 лет             1337\n",
              "1           Нет опыта             7197\n",
              "2       От 3 до 6 лет            14511\n",
              "3  От 1 года до 3 лет            26152"
            ]
          },
          "execution_count": 1364,
          "metadata": {},
          "output_type": "execute_result"
        }
      ],
      "source": [
        "# выводим результат\n",
        "experience_vacancies_count = pd.read_sql_query(query_3_9, connection)\n",
        "experience_vacancies_count"
      ]
    },
    {
      "cell_type": "markdown",
      "id": "25d02db2",
      "metadata": {},
      "source": [
        "**Выводы по детальному анализу вакансий:**\n",
        "1. Москва, ожидаемо, занимает первое место по количеству вакансий (5333).\n",
        "2. В топ-10, также ожидаемо, находятся города-миллионники.\n",
        "3. Немного неожиданно было увидеть Минск, который по количеству вакансий занимает третье место. Вероятно, активная работа, проводимая в рамках привлечения специалистов Союзного государства.\n",
        "4. От общего количества вакансий бОльший процент представлен в виде вакансий с заполненным хотя бы одним полем с зарплатой (24073).\n",
        "5. Минимальная и максимальная вилка зарплат составляет от 71065 до 110537 соответственно.\n",
        "6. Большинство соискателей указывают \"полный день\" в качестве желаемого рабочего графика с учетом полной занятости (35367). Меньше всего соискателей выбирают \"полный день\" для ведения проектной деятельности.\n",
        "7. Полученные данные указывают нам на то, что большинство вакансий выкладываются для молодых специалистов с опытом работы от 1 года до 3 лет."
      ]
    },
    {
      "cell_type": "markdown",
      "id": "oq2b7n1QpIka",
      "metadata": {
        "id": "oq2b7n1QpIka"
      },
      "source": [
        "***"
      ]
    },
    {
      "cell_type": "markdown",
      "id": "7ea20ab6-04a7-40a0-adec-443a0e5a42c3",
      "metadata": {
        "id": "7ea20ab6-04a7-40a0-adec-443a0e5a42c3"
      },
      "source": [
        "# Юнит 5. Анализ работодателей"
      ]
    },
    {
      "cell_type": "markdown",
      "id": "968aed80-74ef-4ffb-b5bf-c65b84e9caea",
      "metadata": {
        "id": "968aed80-74ef-4ffb-b5bf-c65b84e9caea"
      },
      "source": [
        "1. Напишите запрос, который позволит узнать, какие работодатели находятся на первом и пятом месте по количеству вакансий."
      ]
    },
    {
      "cell_type": "code",
      "execution_count": 1365,
      "id": "f2d62796-d400-4ec1-a675-88112739a50e",
      "metadata": {
        "id": "f2d62796-d400-4ec1-a675-88112739a50e"
      },
      "outputs": [],
      "source": [
        "# текст запроса\n",
        "query_3_10 = f'''select\n",
        "                     e.name as employers_name,\n",
        "                     count(*) as cnt_vacancies\n",
        "                 from\n",
        "                     VACANCIES as v\n",
        "                     join EMPLOYERS as e on e.id = v.employer_id\n",
        "                 group by e.name\n",
        "                 order by cnt_vacancies desc\n",
        "                 limit 5  \n",
        "'''"
      ]
    },
    {
      "cell_type": "code",
      "execution_count": 1366,
      "id": "64tOMkAxqkQk",
      "metadata": {
        "id": "64tOMkAxqkQk"
      },
      "outputs": [
        {
          "name": "stderr",
          "output_type": "stream",
          "text": [
            "/var/folders/zy/nrgcv7_53yjdkhzk46rq81140000gn/T/ipykernel_34471/2834280485.py:2: UserWarning: pandas only supports SQLAlchemy connectable (engine/connection) or database string URI or sqlite3 DBAPI2 connection. Other DBAPI2 objects are not tested. Please consider using SQLAlchemy.\n",
            "  vacancies_employears = pd.read_sql_query(query_3_10, connection)\n"
          ]
        },
        {
          "data": {
            "application/vnd.microsoft.datawrangler.viewer.v0+json": {
              "columns": [
                {
                  "name": "index",
                  "rawType": "int64",
                  "type": "integer"
                },
                {
                  "name": "employers_name",
                  "rawType": "object",
                  "type": "string"
                },
                {
                  "name": "cnt_vacancies",
                  "rawType": "int64",
                  "type": "integer"
                }
              ],
              "ref": "7b28c02c-9638-4e27-8cf1-5f952afe6d6e",
              "rows": [
                [
                  "0",
                  "Яндекс",
                  "1933"
                ],
                [
                  "1",
                  "Ростелеком",
                  "491"
                ],
                [
                  "2",
                  "Тинькофф",
                  "444"
                ],
                [
                  "3",
                  "СБЕР",
                  "428"
                ],
                [
                  "4",
                  "Газпром нефть",
                  "331"
                ]
              ],
              "shape": {
                "columns": 2,
                "rows": 5
              }
            },
            "text/html": [
              "<div>\n",
              "<style scoped>\n",
              "    .dataframe tbody tr th:only-of-type {\n",
              "        vertical-align: middle;\n",
              "    }\n",
              "\n",
              "    .dataframe tbody tr th {\n",
              "        vertical-align: top;\n",
              "    }\n",
              "\n",
              "    .dataframe thead th {\n",
              "        text-align: right;\n",
              "    }\n",
              "</style>\n",
              "<table border=\"1\" class=\"dataframe\">\n",
              "  <thead>\n",
              "    <tr style=\"text-align: right;\">\n",
              "      <th></th>\n",
              "      <th>employers_name</th>\n",
              "      <th>cnt_vacancies</th>\n",
              "    </tr>\n",
              "  </thead>\n",
              "  <tbody>\n",
              "    <tr>\n",
              "      <th>0</th>\n",
              "      <td>Яндекс</td>\n",
              "      <td>1933</td>\n",
              "    </tr>\n",
              "    <tr>\n",
              "      <th>1</th>\n",
              "      <td>Ростелеком</td>\n",
              "      <td>491</td>\n",
              "    </tr>\n",
              "    <tr>\n",
              "      <th>2</th>\n",
              "      <td>Тинькофф</td>\n",
              "      <td>444</td>\n",
              "    </tr>\n",
              "    <tr>\n",
              "      <th>3</th>\n",
              "      <td>СБЕР</td>\n",
              "      <td>428</td>\n",
              "    </tr>\n",
              "    <tr>\n",
              "      <th>4</th>\n",
              "      <td>Газпром нефть</td>\n",
              "      <td>331</td>\n",
              "    </tr>\n",
              "  </tbody>\n",
              "</table>\n",
              "</div>"
            ],
            "text/plain": [
              "  employers_name  cnt_vacancies\n",
              "0         Яндекс           1933\n",
              "1     Ростелеком            491\n",
              "2       Тинькофф            444\n",
              "3           СБЕР            428\n",
              "4  Газпром нефть            331"
            ]
          },
          "execution_count": 1366,
          "metadata": {},
          "output_type": "execute_result"
        }
      ],
      "source": [
        "# выводим результат\n",
        "vacancies_employears = pd.read_sql_query(query_3_10, connection)\n",
        "vacancies_employears"
      ]
    },
    {
      "cell_type": "markdown",
      "id": "68377cfc-b378-43dc-ab7d-1195abf2c515",
      "metadata": {
        "id": "68377cfc-b378-43dc-ab7d-1195abf2c515"
      },
      "source": [
        "2. Напишите запрос, который для каждого региона выведет количество работодателей и вакансий в нём.\n",
        "Среди регионов, в которых нет вакансий, найдите тот, в котором наибольшее количество работодателей.\n"
      ]
    },
    {
      "cell_type": "code",
      "execution_count": 1367,
      "id": "dd7df27a-e3e8-412e-a21a-5d389b71e891",
      "metadata": {
        "id": "dd7df27a-e3e8-412e-a21a-5d389b71e891"
      },
      "outputs": [],
      "source": [
        "# текст запроса\n",
        "query_3_11 = f'''select\n",
        "                     a.name as area,\n",
        "                     count(e.id) as vacancies,\n",
        "                     count(v.id) as employers\n",
        "                 from\n",
        "                     areas as a\n",
        "                     left join employers as e on a.id = e.area\n",
        "                     left join vacancies as v on a.id = v.area_id\n",
        "                 where v.name is null\n",
        "                 group by a.id\n",
        "                 order by vacancies desc\n",
        "'''"
      ]
    },
    {
      "cell_type": "code",
      "execution_count": 1368,
      "id": "x1ikWbydrbf6",
      "metadata": {
        "id": "x1ikWbydrbf6"
      },
      "outputs": [
        {
          "name": "stderr",
          "output_type": "stream",
          "text": [
            "/var/folders/zy/nrgcv7_53yjdkhzk46rq81140000gn/T/ipykernel_34471/563669654.py:2: UserWarning: pandas only supports SQLAlchemy connectable (engine/connection) or database string URI or sqlite3 DBAPI2 connection. Other DBAPI2 objects are not tested. Please consider using SQLAlchemy.\n",
            "  areas_count_vac_emp = pd.read_sql_query(query_3_11, connection)\n"
          ]
        },
        {
          "data": {
            "application/vnd.microsoft.datawrangler.viewer.v0+json": {
              "columns": [
                {
                  "name": "index",
                  "rawType": "int64",
                  "type": "integer"
                },
                {
                  "name": "area",
                  "rawType": "object",
                  "type": "string"
                },
                {
                  "name": "vacancies",
                  "rawType": "int64",
                  "type": "integer"
                },
                {
                  "name": "employers",
                  "rawType": "int64",
                  "type": "integer"
                }
              ],
              "ref": "da8be539-4674-47f8-b4c4-073133b52df4",
              "rows": [
                [
                  "0",
                  "Россия",
                  "410",
                  "0"
                ],
                [
                  "1",
                  "Казахстан",
                  "207",
                  "0"
                ],
                [
                  "2",
                  "Московская область",
                  "75",
                  "0"
                ],
                [
                  "3",
                  "Краснодарский край",
                  "19",
                  "0"
                ],
                [
                  "4",
                  "Ростовская область",
                  "18",
                  "0"
                ],
                [
                  "5",
                  "Беларусь",
                  "18",
                  "0"
                ],
                [
                  "6",
                  "Азербайджан",
                  "17",
                  "0"
                ],
                [
                  "7",
                  "Нижегородская область",
                  "16",
                  "0"
                ],
                [
                  "8",
                  "Республика Татарстан",
                  "16",
                  "0"
                ],
                [
                  "9",
                  "Узбекистан",
                  "15",
                  "0"
                ],
                [
                  "10",
                  "Белгородская область",
                  "10",
                  "0"
                ],
                [
                  "11",
                  "Сингапур",
                  "10",
                  "0"
                ],
                [
                  "12",
                  "Калужская область",
                  "9",
                  "0"
                ],
                [
                  "13",
                  "Ленинградская область",
                  "9",
                  "0"
                ],
                [
                  "14",
                  "Самарская область",
                  "7",
                  "0"
                ],
                [
                  "15",
                  "Воронежская область",
                  "7",
                  "0"
                ],
                [
                  "16",
                  "Ставропольский край",
                  "6",
                  "0"
                ],
                [
                  "17",
                  "Кыргызстан",
                  "6",
                  "0"
                ],
                [
                  "18",
                  "Кировская область",
                  "6",
                  "0"
                ],
                [
                  "19",
                  "Австралия",
                  "6",
                  "0"
                ],
                [
                  "20",
                  "Ульяновская область",
                  "6",
                  "0"
                ],
                [
                  "21",
                  "Новосибирская область",
                  "5",
                  "0"
                ],
                [
                  "22",
                  "Швейцария",
                  "5",
                  "0"
                ],
                [
                  "23",
                  "Ивановская область",
                  "5",
                  "0"
                ],
                [
                  "24",
                  "Тульская область",
                  "5",
                  "0"
                ],
                [
                  "25",
                  "Канада",
                  "5",
                  "0"
                ],
                [
                  "26",
                  "Липецкая область",
                  "5",
                  "0"
                ],
                [
                  "27",
                  "Пензенская область",
                  "4",
                  "0"
                ],
                [
                  "28",
                  "Иркутская область",
                  "4",
                  "0"
                ],
                [
                  "29",
                  "Республика Крым",
                  "4",
                  "0"
                ],
                [
                  "30",
                  "Рязанская область",
                  "4",
                  "0"
                ],
                [
                  "31",
                  "Чувашская Республика",
                  "4",
                  "0"
                ],
                [
                  "32",
                  "Свердловская область",
                  "4",
                  "0"
                ],
                [
                  "33",
                  "Волгоградская область",
                  "4",
                  "0"
                ],
                [
                  "34",
                  "Кемеровская область",
                  "4",
                  "0"
                ],
                [
                  "35",
                  "Другие регионы",
                  "3",
                  "0"
                ],
                [
                  "36",
                  "Костромская область",
                  "3",
                  "0"
                ],
                [
                  "37",
                  "Удмуртская Республика",
                  "3",
                  "0"
                ],
                [
                  "38",
                  "Калининградская область",
                  "3",
                  "0"
                ],
                [
                  "39",
                  "Красноярский край",
                  "3",
                  "0"
                ],
                [
                  "40",
                  "Ярославская область",
                  "3",
                  "0"
                ],
                [
                  "41",
                  "Владимирская область",
                  "3",
                  "0"
                ],
                [
                  "42",
                  "Алтайский край",
                  "3",
                  "0"
                ],
                [
                  "43",
                  "Минская область",
                  "3",
                  "0"
                ],
                [
                  "44",
                  "Пермский край",
                  "3",
                  "0"
                ],
                [
                  "45",
                  "Томская область",
                  "3",
                  "0"
                ],
                [
                  "46",
                  "Челябинская область",
                  "2",
                  "0"
                ],
                [
                  "47",
                  "Кунгур",
                  "2",
                  "0"
                ],
                [
                  "48",
                  "Смолевичи",
                  "2",
                  "0"
                ],
                [
                  "49",
                  "Арамиль",
                  "2",
                  "0"
                ]
              ],
              "shape": {
                "columns": 3,
                "rows": 593
              }
            },
            "text/html": [
              "<div>\n",
              "<style scoped>\n",
              "    .dataframe tbody tr th:only-of-type {\n",
              "        vertical-align: middle;\n",
              "    }\n",
              "\n",
              "    .dataframe tbody tr th {\n",
              "        vertical-align: top;\n",
              "    }\n",
              "\n",
              "    .dataframe thead th {\n",
              "        text-align: right;\n",
              "    }\n",
              "</style>\n",
              "<table border=\"1\" class=\"dataframe\">\n",
              "  <thead>\n",
              "    <tr style=\"text-align: right;\">\n",
              "      <th></th>\n",
              "      <th>area</th>\n",
              "      <th>vacancies</th>\n",
              "      <th>employers</th>\n",
              "    </tr>\n",
              "  </thead>\n",
              "  <tbody>\n",
              "    <tr>\n",
              "      <th>0</th>\n",
              "      <td>Россия</td>\n",
              "      <td>410</td>\n",
              "      <td>0</td>\n",
              "    </tr>\n",
              "    <tr>\n",
              "      <th>1</th>\n",
              "      <td>Казахстан</td>\n",
              "      <td>207</td>\n",
              "      <td>0</td>\n",
              "    </tr>\n",
              "    <tr>\n",
              "      <th>2</th>\n",
              "      <td>Московская область</td>\n",
              "      <td>75</td>\n",
              "      <td>0</td>\n",
              "    </tr>\n",
              "    <tr>\n",
              "      <th>3</th>\n",
              "      <td>Краснодарский край</td>\n",
              "      <td>19</td>\n",
              "      <td>0</td>\n",
              "    </tr>\n",
              "    <tr>\n",
              "      <th>4</th>\n",
              "      <td>Ростовская область</td>\n",
              "      <td>18</td>\n",
              "      <td>0</td>\n",
              "    </tr>\n",
              "    <tr>\n",
              "      <th>...</th>\n",
              "      <td>...</td>\n",
              "      <td>...</td>\n",
              "      <td>...</td>\n",
              "    </tr>\n",
              "    <tr>\n",
              "      <th>588</th>\n",
              "      <td>Скидель</td>\n",
              "      <td>0</td>\n",
              "      <td>0</td>\n",
              "    </tr>\n",
              "    <tr>\n",
              "      <th>589</th>\n",
              "      <td>Белоозерск</td>\n",
              "      <td>0</td>\n",
              "      <td>0</td>\n",
              "    </tr>\n",
              "    <tr>\n",
              "      <th>590</th>\n",
              "      <td>Орловский</td>\n",
              "      <td>0</td>\n",
              "      <td>0</td>\n",
              "    </tr>\n",
              "    <tr>\n",
              "      <th>591</th>\n",
              "      <td>Павловская</td>\n",
              "      <td>0</td>\n",
              "      <td>0</td>\n",
              "    </tr>\n",
              "    <tr>\n",
              "      <th>592</th>\n",
              "      <td>Таксимо</td>\n",
              "      <td>0</td>\n",
              "      <td>0</td>\n",
              "    </tr>\n",
              "  </tbody>\n",
              "</table>\n",
              "<p>593 rows × 3 columns</p>\n",
              "</div>"
            ],
            "text/plain": [
              "                   area  vacancies  employers\n",
              "0                Россия        410          0\n",
              "1             Казахстан        207          0\n",
              "2    Московская область         75          0\n",
              "3    Краснодарский край         19          0\n",
              "4    Ростовская область         18          0\n",
              "..                  ...        ...        ...\n",
              "588             Скидель          0          0\n",
              "589          Белоозерск          0          0\n",
              "590           Орловский          0          0\n",
              "591          Павловская          0          0\n",
              "592             Таксимо          0          0\n",
              "\n",
              "[593 rows x 3 columns]"
            ]
          },
          "execution_count": 1368,
          "metadata": {},
          "output_type": "execute_result"
        }
      ],
      "source": [
        "# выводим результат\n",
        "areas_count_vac_emp = pd.read_sql_query(query_3_11, connection)\n",
        "areas_count_vac_emp"
      ]
    },
    {
      "cell_type": "markdown",
      "id": "f2fe0acb-ab1a-4e15-9326-2560e22d73c1",
      "metadata": {
        "id": "f2fe0acb-ab1a-4e15-9326-2560e22d73c1"
      },
      "source": [
        "3. Для каждого работодателя посчитайте количество регионов, в которых он публикует свои вакансии. Отсортируйте результат по убыванию количества.\n"
      ]
    },
    {
      "cell_type": "code",
      "execution_count": 1369,
      "id": "6271f8ad-bd2e-4196-ae4a-5b39c4c1010e",
      "metadata": {
        "id": "6271f8ad-bd2e-4196-ae4a-5b39c4c1010e"
      },
      "outputs": [],
      "source": [
        "# текст запроса\n",
        "query_3_12 = f'''select\n",
        "                     e.name as employers_name,\n",
        "                     count(distinct v.area_id) as areas_count\n",
        "                 from\n",
        "                     EMPLOYERS as e\n",
        "                     left join VACANCIES as v on e.id = v.employer_id\n",
        "                 group by e.name\n",
        "                 order by count(distinct v.area_id) desc      \n",
        "'''"
      ]
    },
    {
      "cell_type": "code",
      "execution_count": 1370,
      "id": "1EIvX3HasH4F",
      "metadata": {
        "id": "1EIvX3HasH4F"
      },
      "outputs": [
        {
          "name": "stderr",
          "output_type": "stream",
          "text": [
            "/var/folders/zy/nrgcv7_53yjdkhzk46rq81140000gn/T/ipykernel_34471/1733493085.py:2: UserWarning: pandas only supports SQLAlchemy connectable (engine/connection) or database string URI or sqlite3 DBAPI2 connection. Other DBAPI2 objects are not tested. Please consider using SQLAlchemy.\n",
            "  employ_count_areas = pd.read_sql_query(query_3_12, connection)\n"
          ]
        },
        {
          "data": {
            "application/vnd.microsoft.datawrangler.viewer.v0+json": {
              "columns": [
                {
                  "name": "index",
                  "rawType": "int64",
                  "type": "integer"
                },
                {
                  "name": "employers_name",
                  "rawType": "object",
                  "type": "string"
                },
                {
                  "name": "areas_count",
                  "rawType": "int64",
                  "type": "integer"
                }
              ],
              "ref": "a6638b8b-dc45-4f53-8c0e-a46832ae7994",
              "rows": [
                [
                  "0",
                  "Яндекс",
                  "181"
                ],
                [
                  "1",
                  "Ростелеком",
                  "152"
                ],
                [
                  "2",
                  "Спецремонт",
                  "116"
                ],
                [
                  "3",
                  "Поляков Денис Иванович",
                  "88"
                ],
                [
                  "4",
                  "ООО ЕФИН ",
                  "71"
                ],
                [
                  "5",
                  "Совкомбанк",
                  "63"
                ],
                [
                  "6",
                  "МТС",
                  "55"
                ],
                [
                  "7",
                  "ЭФКО, Управляющая компания",
                  "49"
                ],
                [
                  "8",
                  "Почта России",
                  "48"
                ],
                [
                  "9",
                  "КРОН",
                  "48"
                ],
                [
                  "10",
                  "MCORE",
                  "46"
                ],
                [
                  "11",
                  "ИК СИБИНТЕК",
                  "46"
                ],
                [
                  "12",
                  "Сбербанк-Сервис",
                  "45"
                ],
                [
                  "13",
                  "ANCOR",
                  "44"
                ],
                [
                  "14",
                  "Первый Бит",
                  "43"
                ],
                [
                  "15",
                  "Тинькофф",
                  "43"
                ],
                [
                  "16",
                  "АЛНАС",
                  "41"
                ],
                [
                  "17",
                  "Ozon",
                  "36"
                ],
                [
                  "18",
                  "IBS",
                  "36"
                ],
                [
                  "19",
                  "Авито",
                  "35"
                ],
                [
                  "20",
                  "Т1 Интеграция",
                  "34"
                ],
                [
                  "21",
                  "АТМ АЛЬЯНС",
                  "34"
                ],
                [
                  "22",
                  "ЭР-Телеком",
                  "33"
                ],
                [
                  "23",
                  "ЛАНИТ",
                  "29"
                ],
                [
                  "24",
                  "1C-Рарус",
                  "28"
                ],
                [
                  "25",
                  "Красное & Белое, розничная сеть",
                  "27"
                ],
                [
                  "26",
                  "Volna.tech",
                  "27"
                ],
                [
                  "27",
                  "Bell Integrator",
                  "26"
                ],
                [
                  "28",
                  "Совкомбанк Технологии",
                  "26"
                ],
                [
                  "29",
                  "Спортмастер",
                  "25"
                ],
                [
                  "30",
                  "Playrix",
                  "25"
                ],
                [
                  "31",
                  "Филиал ФКУ Налог-Сервис ФНС России по ЦОД в г.Москве",
                  "25"
                ],
                [
                  "32",
                  "МАГНИТ, Розничная сеть",
                  "25"
                ],
                [
                  "33",
                  "Softline",
                  "25"
                ],
                [
                  "34",
                  "Тензор",
                  "25"
                ],
                [
                  "35",
                  "Банк ВТБ (ПАО)",
                  "24"
                ],
                [
                  "36",
                  "СБЕР",
                  "24"
                ],
                [
                  "37",
                  "Газпром нефть",
                  "24"
                ],
                [
                  "38",
                  "Нэти",
                  "24"
                ],
                [
                  "39",
                  "«Аксиома-Софт»",
                  "23"
                ],
                [
                  "40",
                  "Диалог Регионы",
                  "23"
                ],
                [
                  "41",
                  "Сеть магазинов цифровой и бытовой техники DNS",
                  "23"
                ],
                [
                  "42",
                  "МегаФон",
                  "23"
                ],
                [
                  "43",
                  "Sumitec International",
                  "23"
                ],
                [
                  "44",
                  "Консалтинг Групп",
                  "23"
                ],
                [
                  "45",
                  "Российская телевизионная и радиовещательная сеть, ФГУП",
                  "22"
                ],
                [
                  "46",
                  "Россельхозбанк",
                  "22"
                ],
                [
                  "47",
                  "Северсталь",
                  "21"
                ],
                [
                  "48",
                  "Калашников",
                  "21"
                ],
                [
                  "49",
                  "Homework",
                  "21"
                ]
              ],
              "shape": {
                "columns": 2,
                "rows": 23175
              }
            },
            "text/html": [
              "<div>\n",
              "<style scoped>\n",
              "    .dataframe tbody tr th:only-of-type {\n",
              "        vertical-align: middle;\n",
              "    }\n",
              "\n",
              "    .dataframe tbody tr th {\n",
              "        vertical-align: top;\n",
              "    }\n",
              "\n",
              "    .dataframe thead th {\n",
              "        text-align: right;\n",
              "    }\n",
              "</style>\n",
              "<table border=\"1\" class=\"dataframe\">\n",
              "  <thead>\n",
              "    <tr style=\"text-align: right;\">\n",
              "      <th></th>\n",
              "      <th>employers_name</th>\n",
              "      <th>areas_count</th>\n",
              "    </tr>\n",
              "  </thead>\n",
              "  <tbody>\n",
              "    <tr>\n",
              "      <th>0</th>\n",
              "      <td>Яндекс</td>\n",
              "      <td>181</td>\n",
              "    </tr>\n",
              "    <tr>\n",
              "      <th>1</th>\n",
              "      <td>Ростелеком</td>\n",
              "      <td>152</td>\n",
              "    </tr>\n",
              "    <tr>\n",
              "      <th>2</th>\n",
              "      <td>Спецремонт</td>\n",
              "      <td>116</td>\n",
              "    </tr>\n",
              "    <tr>\n",
              "      <th>3</th>\n",
              "      <td>Поляков Денис Иванович</td>\n",
              "      <td>88</td>\n",
              "    </tr>\n",
              "    <tr>\n",
              "      <th>4</th>\n",
              "      <td>ООО ЕФИН</td>\n",
              "      <td>71</td>\n",
              "    </tr>\n",
              "    <tr>\n",
              "      <th>...</th>\n",
              "      <td>...</td>\n",
              "      <td>...</td>\n",
              "    </tr>\n",
              "    <tr>\n",
              "      <th>23170</th>\n",
              "      <td>СДЕЛКА</td>\n",
              "      <td>0</td>\n",
              "    </tr>\n",
              "    <tr>\n",
              "      <th>23171</th>\n",
              "      <td>Alandr Group</td>\n",
              "      <td>0</td>\n",
              "    </tr>\n",
              "    <tr>\n",
              "      <th>23172</th>\n",
              "      <td>СДК</td>\n",
              "      <td>0</td>\n",
              "    </tr>\n",
              "    <tr>\n",
              "      <th>23173</th>\n",
              "      <td>Lemon Land Lombard</td>\n",
              "      <td>0</td>\n",
              "    </tr>\n",
              "    <tr>\n",
              "      <th>23174</th>\n",
              "      <td>Махина</td>\n",
              "      <td>0</td>\n",
              "    </tr>\n",
              "  </tbody>\n",
              "</table>\n",
              "<p>23175 rows × 2 columns</p>\n",
              "</div>"
            ],
            "text/plain": [
              "               employers_name  areas_count\n",
              "0                      Яндекс          181\n",
              "1                  Ростелеком          152\n",
              "2                  Спецремонт          116\n",
              "3      Поляков Денис Иванович           88\n",
              "4                   ООО ЕФИН            71\n",
              "...                       ...          ...\n",
              "23170                  СДЕЛКА            0\n",
              "23171            Alandr Group            0\n",
              "23172                     СДК            0\n",
              "23173      Lemon Land Lombard            0\n",
              "23174                  Махина            0\n",
              "\n",
              "[23175 rows x 2 columns]"
            ]
          },
          "execution_count": 1370,
          "metadata": {},
          "output_type": "execute_result"
        }
      ],
      "source": [
        "# выводим результат\n",
        "employ_count_areas = pd.read_sql_query(query_3_12, connection)\n",
        "employ_count_areas"
      ]
    },
    {
      "cell_type": "markdown",
      "id": "eab2206d-d95b-468b-8e5f-34381abf0ce7",
      "metadata": {
        "id": "eab2206d-d95b-468b-8e5f-34381abf0ce7"
      },
      "source": [
        "4. Напишите запрос для подсчёта количества работодателей, у которых не указана сфера деятельности. "
      ]
    },
    {
      "cell_type": "code",
      "execution_count": 1371,
      "id": "80defb23-bfb1-4a18-8be6-bf36aa7165d5",
      "metadata": {
        "id": "80defb23-bfb1-4a18-8be6-bf36aa7165d5"
      },
      "outputs": [],
      "source": [
        "# текст запроса\n",
        "query_3_13 = f'''select\n",
        "                     count(e.id) as count_employers\n",
        "                 from\n",
        "                     EMPLOYERS as e\n",
        "                     left join EMPLOYERS_INDUSTRIES ei ON e.id = ei.employer_id\n",
        "                     left join INDUSTRIES i ON ei.industry_id = i.id\n",
        "                 where i.name is null \n",
        "'''"
      ]
    },
    {
      "cell_type": "code",
      "execution_count": 1372,
      "id": "Dp_yCx6ysQSu",
      "metadata": {
        "id": "Dp_yCx6ysQSu"
      },
      "outputs": [
        {
          "name": "stderr",
          "output_type": "stream",
          "text": [
            "/var/folders/zy/nrgcv7_53yjdkhzk46rq81140000gn/T/ipykernel_34471/3038371480.py:2: UserWarning: pandas only supports SQLAlchemy connectable (engine/connection) or database string URI or sqlite3 DBAPI2 connection. Other DBAPI2 objects are not tested. Please consider using SQLAlchemy.\n",
            "  industry_empl = pd.read_sql_query(query_3_13, connection)\n"
          ]
        },
        {
          "data": {
            "application/vnd.microsoft.datawrangler.viewer.v0+json": {
              "columns": [
                {
                  "name": "index",
                  "rawType": "int64",
                  "type": "integer"
                },
                {
                  "name": "count_employers",
                  "rawType": "int64",
                  "type": "integer"
                }
              ],
              "ref": "51432bb2-05c1-4a80-8fd5-e95cda3f8a15",
              "rows": [
                [
                  "0",
                  "8419"
                ]
              ],
              "shape": {
                "columns": 1,
                "rows": 1
              }
            },
            "text/html": [
              "<div>\n",
              "<style scoped>\n",
              "    .dataframe tbody tr th:only-of-type {\n",
              "        vertical-align: middle;\n",
              "    }\n",
              "\n",
              "    .dataframe tbody tr th {\n",
              "        vertical-align: top;\n",
              "    }\n",
              "\n",
              "    .dataframe thead th {\n",
              "        text-align: right;\n",
              "    }\n",
              "</style>\n",
              "<table border=\"1\" class=\"dataframe\">\n",
              "  <thead>\n",
              "    <tr style=\"text-align: right;\">\n",
              "      <th></th>\n",
              "      <th>count_employers</th>\n",
              "    </tr>\n",
              "  </thead>\n",
              "  <tbody>\n",
              "    <tr>\n",
              "      <th>0</th>\n",
              "      <td>8419</td>\n",
              "    </tr>\n",
              "  </tbody>\n",
              "</table>\n",
              "</div>"
            ],
            "text/plain": [
              "   count_employers\n",
              "0             8419"
            ]
          },
          "execution_count": 1372,
          "metadata": {},
          "output_type": "execute_result"
        }
      ],
      "source": [
        "# выводим результат\n",
        "industry_empl = pd.read_sql_query(query_3_13, connection)\n",
        "industry_empl"
      ]
    },
    {
      "cell_type": "markdown",
      "id": "0112af31-f6b0-4e3b-82ab-71296e752e5e",
      "metadata": {
        "id": "0112af31-f6b0-4e3b-82ab-71296e752e5e"
      },
      "source": [
        "5. Напишите запрос, чтобы узнать название компании, находящейся на третьем месте в алфавитном списке (по названию) компаний, у которых указано четыре сферы деятельности. "
      ]
    },
    {
      "cell_type": "code",
      "execution_count": 1373,
      "id": "973b0cfc-a972-470a-8b4a-68744ef220c4",
      "metadata": {
        "id": "973b0cfc-a972-470a-8b4a-68744ef220c4"
      },
      "outputs": [],
      "source": [
        "# текст запроса\n",
        "query_3_14 = f'''select\n",
        "                     e.name as company_name,\n",
        "                     count(i.name) as count_industry\n",
        "                 from\n",
        "                     EMPLOYERS as e\n",
        "                     left join EMPLOYERS_INDUSTRIES ei ON e.id = ei.employer_id\n",
        "                     left join INDUSTRIES i ON ei.industry_id = i.id\n",
        "                 group by e.name\n",
        "                 having count(i.id) = 4\n",
        "                 order by e.name asc  \n",
        "'''"
      ]
    },
    {
      "cell_type": "code",
      "execution_count": 1374,
      "id": "xsPtpp8EsaED",
      "metadata": {
        "id": "xsPtpp8EsaED"
      },
      "outputs": [
        {
          "name": "stderr",
          "output_type": "stream",
          "text": [
            "/var/folders/zy/nrgcv7_53yjdkhzk46rq81140000gn/T/ipykernel_34471/2682178414.py:2: UserWarning: pandas only supports SQLAlchemy connectable (engine/connection) or database string URI or sqlite3 DBAPI2 connection. Other DBAPI2 objects are not tested. Please consider using SQLAlchemy.\n",
            "  company_count_industry = pd.read_sql_query(query_3_14, connection)\n"
          ]
        },
        {
          "data": {
            "application/vnd.microsoft.datawrangler.viewer.v0+json": {
              "columns": [
                {
                  "name": "index",
                  "rawType": "int64",
                  "type": "integer"
                },
                {
                  "name": "company_name",
                  "rawType": "object",
                  "type": "string"
                },
                {
                  "name": "count_industry",
                  "rawType": "int64",
                  "type": "integer"
                }
              ],
              "ref": "efe9b080-6a06-43ac-9a80-b43784445141",
              "rows": [
                [
                  "0",
                  "101 Интернет",
                  "4"
                ],
                [
                  "1",
                  "21vek.by",
                  "4"
                ],
                [
                  "2",
                  "2ГИС",
                  "4"
                ],
                [
                  "3",
                  "2К",
                  "4"
                ],
                [
                  "4",
                  "4 пикселя +",
                  "4"
                ],
                [
                  "5",
                  "5lb",
                  "4"
                ],
                [
                  "6",
                  "5 Армия",
                  "4"
                ],
                [
                  "7",
                  "741 Studios",
                  "4"
                ],
                [
                  "8",
                  "AAEngineering Group",
                  "4"
                ],
                [
                  "9",
                  "ADAPTER",
                  "4"
                ],
                [
                  "10",
                  "AdCombo.com",
                  "4"
                ],
                [
                  "11",
                  "ADEXE (ИП Сафиуллин Рамиль Айратович)",
                  "4"
                ],
                [
                  "12",
                  "ADG group",
                  "4"
                ],
                [
                  "13",
                  "ADICT Group",
                  "4"
                ],
                [
                  "14",
                  "ADM-Центр",
                  "4"
                ],
                [
                  "15",
                  "Advantica Recruitment | Advantica Automation",
                  "4"
                ],
                [
                  "16",
                  "AG Service",
                  "4"
                ],
                [
                  "17",
                  "Albero Family",
                  "4"
                ],
                [
                  "18",
                  "Alee Software",
                  "4"
                ],
                [
                  "19",
                  "All Star Music",
                  "4"
                ],
                [
                  "20",
                  "Anthill Studio",
                  "4"
                ],
                [
                  "21",
                  "Apple City Corps",
                  "4"
                ],
                [
                  "22",
                  "AppLife Limited",
                  "4"
                ],
                [
                  "23",
                  "AppQuantum",
                  "4"
                ],
                [
                  "24",
                  "ARCADA",
                  "4"
                ],
                [
                  "25",
                  "AROUND, Группа компаний",
                  "4"
                ],
                [
                  "26",
                  "Arsenal",
                  "4"
                ],
                [
                  "27",
                  "Arvato",
                  "4"
                ],
                [
                  "28",
                  "ARYA HOME",
                  "4"
                ],
                [
                  "29",
                  "A Soft",
                  "4"
                ],
                [
                  "30",
                  "Astek-auto",
                  "4"
                ],
                [
                  "31",
                  "ASTER AUTO",
                  "4"
                ],
                [
                  "32",
                  "ASTERUS (ООО ВХД Менеджмент)",
                  "4"
                ],
                [
                  "33",
                  "Atlas Chain",
                  "4"
                ],
                [
                  "34",
                  "Avilon Group",
                  "4"
                ],
                [
                  "35",
                  "AxisPoint Consulting",
                  "4"
                ],
                [
                  "36",
                  "B2Basket.ru",
                  "4"
                ],
                [
                  "37",
                  "B2B-creative",
                  "4"
                ],
                [
                  "38",
                  "Bergauf",
                  "4"
                ],
                [
                  "39",
                  "BHV Tech Development / Би Эйч Ви Тэк Девелопмент",
                  "4"
                ],
                [
                  "40",
                  "BIGCAR",
                  "4"
                ],
                [
                  "41",
                  "Bonava",
                  "4"
                ],
                [
                  "42",
                  "Bonduelle",
                  "4"
                ],
                [
                  "43",
                  "BORD",
                  "4"
                ],
                [
                  "44",
                  "BOSTON",
                  "4"
                ],
                [
                  "45",
                  "Bright Rich | CORFAC International",
                  "4"
                ],
                [
                  "46",
                  "BTC KZ",
                  "4"
                ],
                [
                  "47",
                  "BWT",
                  "4"
                ],
                [
                  "48",
                  "Cainiao",
                  "4"
                ],
                [
                  "49",
                  "CASPIAN beverage holding, АО",
                  "4"
                ]
              ],
              "shape": {
                "columns": 2,
                "rows": 1136
              }
            },
            "text/html": [
              "<div>\n",
              "<style scoped>\n",
              "    .dataframe tbody tr th:only-of-type {\n",
              "        vertical-align: middle;\n",
              "    }\n",
              "\n",
              "    .dataframe tbody tr th {\n",
              "        vertical-align: top;\n",
              "    }\n",
              "\n",
              "    .dataframe thead th {\n",
              "        text-align: right;\n",
              "    }\n",
              "</style>\n",
              "<table border=\"1\" class=\"dataframe\">\n",
              "  <thead>\n",
              "    <tr style=\"text-align: right;\">\n",
              "      <th></th>\n",
              "      <th>company_name</th>\n",
              "      <th>count_industry</th>\n",
              "    </tr>\n",
              "  </thead>\n",
              "  <tbody>\n",
              "    <tr>\n",
              "      <th>0</th>\n",
              "      <td>101 Интернет</td>\n",
              "      <td>4</td>\n",
              "    </tr>\n",
              "    <tr>\n",
              "      <th>1</th>\n",
              "      <td>21vek.by</td>\n",
              "      <td>4</td>\n",
              "    </tr>\n",
              "    <tr>\n",
              "      <th>2</th>\n",
              "      <td>2ГИС</td>\n",
              "      <td>4</td>\n",
              "    </tr>\n",
              "    <tr>\n",
              "      <th>3</th>\n",
              "      <td>2К</td>\n",
              "      <td>4</td>\n",
              "    </tr>\n",
              "    <tr>\n",
              "      <th>4</th>\n",
              "      <td>4 пикселя +</td>\n",
              "      <td>4</td>\n",
              "    </tr>\n",
              "    <tr>\n",
              "      <th>...</th>\n",
              "      <td>...</td>\n",
              "      <td>...</td>\n",
              "    </tr>\n",
              "    <tr>\n",
              "      <th>1131</th>\n",
              "      <td>ЮРИОН</td>\n",
              "      <td>4</td>\n",
              "    </tr>\n",
              "    <tr>\n",
              "      <th>1132</th>\n",
              "      <td>ЮТИП Технологии</td>\n",
              "      <td>4</td>\n",
              "    </tr>\n",
              "    <tr>\n",
              "      <th>1133</th>\n",
              "      <td>ЯКласс</td>\n",
              "      <td>4</td>\n",
              "    </tr>\n",
              "    <tr>\n",
              "      <th>1134</th>\n",
              "      <td>ЯрНео</td>\n",
              "      <td>4</td>\n",
              "    </tr>\n",
              "    <tr>\n",
              "      <th>1135</th>\n",
              "      <td>Яшин&amp;Партнёры</td>\n",
              "      <td>4</td>\n",
              "    </tr>\n",
              "  </tbody>\n",
              "</table>\n",
              "<p>1136 rows × 2 columns</p>\n",
              "</div>"
            ],
            "text/plain": [
              "         company_name  count_industry\n",
              "0        101 Интернет               4\n",
              "1            21vek.by               4\n",
              "2                2ГИС               4\n",
              "3                  2К               4\n",
              "4         4 пикселя +               4\n",
              "...               ...             ...\n",
              "1131            ЮРИОН               4\n",
              "1132  ЮТИП Технологии               4\n",
              "1133           ЯКласс               4\n",
              "1134            ЯрНео               4\n",
              "1135    Яшин&Партнёры               4\n",
              "\n",
              "[1136 rows x 2 columns]"
            ]
          },
          "execution_count": 1374,
          "metadata": {},
          "output_type": "execute_result"
        }
      ],
      "source": [
        "# выводим результат\n",
        "company_count_industry = pd.read_sql_query(query_3_14, connection)\n",
        "company_count_industry"
      ]
    },
    {
      "cell_type": "markdown",
      "id": "3bfcfdaf-755d-4d2b-8ed8-326201dc07ab",
      "metadata": {
        "id": "3bfcfdaf-755d-4d2b-8ed8-326201dc07ab"
      },
      "source": [
        "6. С помощью запроса выясните, у какого количества работодателей в качестве сферы деятельности указана Разработка программного обеспечения.\n"
      ]
    },
    {
      "cell_type": "code",
      "execution_count": 1375,
      "id": "ad3f270f-2991-47eb-929b-e8f88a55b0d1",
      "metadata": {
        "id": "ad3f270f-2991-47eb-929b-e8f88a55b0d1"
      },
      "outputs": [],
      "source": [
        "# текст запроса\n",
        "query_3_15 = f'''select\n",
        "                     count(distinct e.id) as count_employers\n",
        "                 from\n",
        "                     EMPLOYERS as e\n",
        "                     left join EMPLOYERS_INDUSTRIES as ei on e.id = ei.employer_id\n",
        "                     left join INDUSTRIES as i on i.id = ei.industry_id\n",
        "                 where i.name = 'Разработка программного обеспечения' \n",
        "'''"
      ]
    },
    {
      "cell_type": "code",
      "execution_count": 1376,
      "id": "H72qxWM0shPR",
      "metadata": {
        "id": "H72qxWM0shPR"
      },
      "outputs": [
        {
          "name": "stderr",
          "output_type": "stream",
          "text": [
            "/var/folders/zy/nrgcv7_53yjdkhzk46rq81140000gn/T/ipykernel_34471/4191482095.py:2: UserWarning: pandas only supports SQLAlchemy connectable (engine/connection) or database string URI or sqlite3 DBAPI2 connection. Other DBAPI2 objects are not tested. Please consider using SQLAlchemy.\n",
            "  progr_support_count = pd.read_sql_query(query_3_15, connection)\n"
          ]
        },
        {
          "data": {
            "application/vnd.microsoft.datawrangler.viewer.v0+json": {
              "columns": [
                {
                  "name": "index",
                  "rawType": "int64",
                  "type": "integer"
                },
                {
                  "name": "count_employers",
                  "rawType": "int64",
                  "type": "integer"
                }
              ],
              "ref": "171df3d2-d303-401f-bd8c-1b7ee1217c6e",
              "rows": [
                [
                  "0",
                  "3553"
                ]
              ],
              "shape": {
                "columns": 1,
                "rows": 1
              }
            },
            "text/html": [
              "<div>\n",
              "<style scoped>\n",
              "    .dataframe tbody tr th:only-of-type {\n",
              "        vertical-align: middle;\n",
              "    }\n",
              "\n",
              "    .dataframe tbody tr th {\n",
              "        vertical-align: top;\n",
              "    }\n",
              "\n",
              "    .dataframe thead th {\n",
              "        text-align: right;\n",
              "    }\n",
              "</style>\n",
              "<table border=\"1\" class=\"dataframe\">\n",
              "  <thead>\n",
              "    <tr style=\"text-align: right;\">\n",
              "      <th></th>\n",
              "      <th>count_employers</th>\n",
              "    </tr>\n",
              "  </thead>\n",
              "  <tbody>\n",
              "    <tr>\n",
              "      <th>0</th>\n",
              "      <td>3553</td>\n",
              "    </tr>\n",
              "  </tbody>\n",
              "</table>\n",
              "</div>"
            ],
            "text/plain": [
              "   count_employers\n",
              "0             3553"
            ]
          },
          "execution_count": 1376,
          "metadata": {},
          "output_type": "execute_result"
        }
      ],
      "source": [
        "# выводим результат\n",
        "progr_support_count = pd.read_sql_query(query_3_15, connection)\n",
        "progr_support_count"
      ]
    },
    {
      "cell_type": "markdown",
      "id": "7b02bb86-0546-40fb-94a4-242f050a5c57",
      "metadata": {
        "id": "7b02bb86-0546-40fb-94a4-242f050a5c57"
      },
      "source": [
        "7. Для компании «Яндекс» выведите список регионов-миллионников, в которых представлены вакансии компании, вместе с количеством вакансий в этих регионах. Также добавьте строку Total с общим количеством вакансий компании. Результат отсортируйте по возрастанию количества.\n",
        "\n",
        "Список городов-милионников надо взять [отсюда](https://ru.wikipedia.org/wiki/%D0%93%D0%BE%D1%80%D0%BE%D0%B4%D0%B0-%D0%BC%D0%B8%D0%BB%D0%BB%D0%B8%D0%BE%D0%BD%D0%B5%D1%80%D1%8B_%D0%A0%D0%BE%D1%81%D1%81%D0%B8%D0%B8). \n",
        "\n",
        "Если возникнут трудности с этим задание посмотрите материалы модуля  PYTHON-17. Как получать данные из веб-источников и API. "
      ]
    },
    {
      "cell_type": "markdown",
      "id": "82ba34b6",
      "metadata": {},
      "source": [
        "**Прошу объяснить, как это сделать, так как  понимаю не до конца (скорее совсем не пониманию)**"
      ]
    },
    {
      "cell_type": "code",
      "execution_count": 1377,
      "id": "5e451030",
      "metadata": {},
      "outputs": [
        {
          "name": "stdout",
          "output_type": "stream",
          "text": [
            "<title>Города-миллионеры России1 — Википедия</title>\n"
          ]
        }
      ],
      "source": [
        "# Дальше этого не понимаю\n",
        "url = 'https://ru.wikipedia.org/wiki/Города-миллионеры_России1'\n",
        "response = requests.get(url)\n",
        "page = BeautifulSoup(response.text, 'html.parser')\n",
        "print(page.title)"
      ]
    },
    {
      "cell_type": "code",
      "execution_count": 1378,
      "id": "5a0e32a4-e68a-4365-8a39-2fe24c542c36",
      "metadata": {
        "id": "5a0e32a4-e68a-4365-8a39-2fe24c542c36"
      },
      "outputs": [],
      "source": [
        "# текст запроса"
      ]
    },
    {
      "cell_type": "code",
      "execution_count": 1379,
      "id": "ttPhiO1rsvPq",
      "metadata": {
        "id": "ttPhiO1rsvPq"
      },
      "outputs": [],
      "source": [
        "# результат запроса"
      ]
    },
    {
      "cell_type": "markdown",
      "id": "0e727209",
      "metadata": {},
      "source": [
        "Выводы по анализу работодателей:\n",
        "1. Яндекс является безоговорочным лидером по количеству вакансий (1933).\n",
        "2. Можно проследить интересную международную закономерность - Республика Беларусь не входит даже в топ-5 регионов по количеству вакансий на российском сервисе HH. Второе место занимает Казахстан, что может говорить, как бы это ни звучало, о необходимости удешевление разного вида труда.\n",
        "3. В отношении количества регионов, в которых работодатель публикует вакансии стоит отметить следующее - самые широкопубликуемые работодатели представляют телекоммуникационную, интернет или строительную сферы. Это, в свою очередь, обусловлено спецификой работы работодателя.\n",
        "4. 8419 работодателей не указало сферу своей деятельности, что может говорить о некорректной модерации, старых записях, широком профиле деятельности.\n",
        "5. Удивительно, что магазин спортивного питания 5lb имеет такое же количество сфер деятельности, как и разнооборазные IT или около IT компании.\n",
        "6. Внушает оптимизм количество работодателей, у которых в сфере деятельности указано програмное обеспечение - 3553.   "
      ]
    },
    {
      "cell_type": "markdown",
      "id": "04966e40-3bc3-4dc8-9ba2-e80580ce3abc",
      "metadata": {
        "id": "04966e40-3bc3-4dc8-9ba2-e80580ce3abc"
      },
      "source": [
        "***"
      ]
    },
    {
      "cell_type": "markdown",
      "id": "b1ef156a-efcb-49ce-bb23-90763e7f35b2",
      "metadata": {
        "id": "b1ef156a-efcb-49ce-bb23-90763e7f35b2",
        "tags": []
      },
      "source": [
        "# Юнит 6. Предметный анализ"
      ]
    },
    {
      "cell_type": "markdown",
      "id": "b9cd50a0-992d-4988-8463-2b2b1c4629b4",
      "metadata": {
        "id": "b9cd50a0-992d-4988-8463-2b2b1c4629b4"
      },
      "source": [
        "1. Сколько вакансий имеет отношение к данным?\n",
        "\n",
        "Считаем, что вакансия имеет отношение к данным, если в её названии содержатся слова 'data' или 'данн'.\n",
        "\n",
        "*Подсказка: Обратите внимание, что названия вакансий могут быть написаны в любом регистре.* \n"
      ]
    },
    {
      "cell_type": "code",
      "execution_count": 1380,
      "id": "54ab0e50-c0f1-47cc-a54b-bc5c8bc363f9",
      "metadata": {
        "id": "54ab0e50-c0f1-47cc-a54b-bc5c8bc363f9"
      },
      "outputs": [],
      "source": [
        "# текст запроса\n",
        "query_3_16 = f'''select\n",
        "                     count(v.name) as vacancies_name\n",
        "                 from\n",
        "                     VACANCIES as v\n",
        "                 where (name ilike '%data%') or (name ilike '%данн%')\n",
        "'''"
      ]
    },
    {
      "cell_type": "code",
      "execution_count": 1381,
      "id": "9F1meAqsuUjd",
      "metadata": {
        "id": "9F1meAqsuUjd"
      },
      "outputs": [
        {
          "name": "stderr",
          "output_type": "stream",
          "text": [
            "/var/folders/zy/nrgcv7_53yjdkhzk46rq81140000gn/T/ipykernel_34471/2941714580.py:2: UserWarning: pandas only supports SQLAlchemy connectable (engine/connection) or database string URI or sqlite3 DBAPI2 connection. Other DBAPI2 objects are not tested. Please consider using SQLAlchemy.\n",
            "  data_vac_count = pd.read_sql_query(query_3_16, connection)\n"
          ]
        },
        {
          "data": {
            "application/vnd.microsoft.datawrangler.viewer.v0+json": {
              "columns": [
                {
                  "name": "index",
                  "rawType": "int64",
                  "type": "integer"
                },
                {
                  "name": "vacancies_name",
                  "rawType": "int64",
                  "type": "integer"
                }
              ],
              "ref": "c48a18d6-b58e-4cc2-8e7e-4a8b577657ec",
              "rows": [
                [
                  "0",
                  "1771"
                ]
              ],
              "shape": {
                "columns": 1,
                "rows": 1
              }
            },
            "text/html": [
              "<div>\n",
              "<style scoped>\n",
              "    .dataframe tbody tr th:only-of-type {\n",
              "        vertical-align: middle;\n",
              "    }\n",
              "\n",
              "    .dataframe tbody tr th {\n",
              "        vertical-align: top;\n",
              "    }\n",
              "\n",
              "    .dataframe thead th {\n",
              "        text-align: right;\n",
              "    }\n",
              "</style>\n",
              "<table border=\"1\" class=\"dataframe\">\n",
              "  <thead>\n",
              "    <tr style=\"text-align: right;\">\n",
              "      <th></th>\n",
              "      <th>vacancies_name</th>\n",
              "    </tr>\n",
              "  </thead>\n",
              "  <tbody>\n",
              "    <tr>\n",
              "      <th>0</th>\n",
              "      <td>1771</td>\n",
              "    </tr>\n",
              "  </tbody>\n",
              "</table>\n",
              "</div>"
            ],
            "text/plain": [
              "   vacancies_name\n",
              "0            1771"
            ]
          },
          "execution_count": 1381,
          "metadata": {},
          "output_type": "execute_result"
        }
      ],
      "source": [
        "# выводим результат\n",
        "data_vac_count = pd.read_sql_query(query_3_16, connection)\n",
        "data_vac_count"
      ]
    },
    {
      "cell_type": "markdown",
      "id": "4dea20cb-a36b-474a-a0b9-e08e8e3857a5",
      "metadata": {
        "id": "4dea20cb-a36b-474a-a0b9-e08e8e3857a5"
      },
      "source": [
        "2. Сколько есть подходящих вакансий для начинающего дата-сайентиста? \n",
        "Будем считать вакансиями для дата-сайентистов такие, в названии которых есть хотя бы одно из следующих сочетаний:\n",
        "* 'data scientist'\n",
        "* 'data science'\n",
        "* 'исследователь данных'\n",
        "* 'ML' (здесь не нужно брать вакансии по HTML)\n",
        "* 'machine learning'\n",
        "* 'машинн%обучен%'\n",
        "\n",
        "** В следующих заданиях мы продолжим работать с вакансиями по этому условию.*\n",
        "\n",
        "Считаем вакансиями для специалистов уровня Junior следующие:\n",
        "* в названии есть слово 'junior' *или*\n",
        "* требуемый опыт — Нет опыта *или*\n",
        "* тип трудоустройства — Стажировка.\n",
        " "
      ]
    },
    {
      "cell_type": "code",
      "execution_count": 1382,
      "id": "9c61b3c0-bb66-46c9-ae1e-81d3f5752b4a",
      "metadata": {
        "id": "9c61b3c0-bb66-46c9-ae1e-81d3f5752b4a"
      },
      "outputs": [],
      "source": [
        "# текст запроса\n",
        "query_3_17 = f'''select\n",
        "                     count(v.name) as vacancies_jun_count\n",
        "                 from\n",
        "                     VACANCIES as v\n",
        "                 where\n",
        "                     (\n",
        "                     (name ilike '%data scientist%') or\n",
        "                     (name ilike '%data science%') or\n",
        "                     (name ilike '%исследователь данных%') or\n",
        "                     ((name ilike '%ML%') and (name not ilike '%HTML%')) or\n",
        "                     (name ilike '%machine learning%') or\n",
        "                     (name ilike '%машинн%обучен%') and \n",
        "                     (key_skills is not null)\n",
        "                     )\n",
        "                     and (v.name ilike '%junior%' or\n",
        "                     v.experience ilike '%Нет опыта%' or\n",
        "                     v.employment ilike '%Стажировка%')\n",
        "                     \n",
        "'''"
      ]
    },
    {
      "cell_type": "code",
      "execution_count": 1383,
      "id": "ZNM-LLYuu1dj",
      "metadata": {
        "id": "ZNM-LLYuu1dj"
      },
      "outputs": [
        {
          "name": "stderr",
          "output_type": "stream",
          "text": [
            "/var/folders/zy/nrgcv7_53yjdkhzk46rq81140000gn/T/ipykernel_34471/4113016531.py:2: UserWarning: pandas only supports SQLAlchemy connectable (engine/connection) or database string URI or sqlite3 DBAPI2 connection. Other DBAPI2 objects are not tested. Please consider using SQLAlchemy.\n",
            "  jun_vac_count = pd.read_sql_query(query_3_17, connection)\n"
          ]
        },
        {
          "data": {
            "application/vnd.microsoft.datawrangler.viewer.v0+json": {
              "columns": [
                {
                  "name": "index",
                  "rawType": "int64",
                  "type": "integer"
                },
                {
                  "name": "vacancies_jun_count",
                  "rawType": "int64",
                  "type": "integer"
                }
              ],
              "ref": "6cd9afdf-c4fa-4169-ba3e-0506626e124b",
              "rows": [
                [
                  "0",
                  "51"
                ]
              ],
              "shape": {
                "columns": 1,
                "rows": 1
              }
            },
            "text/html": [
              "<div>\n",
              "<style scoped>\n",
              "    .dataframe tbody tr th:only-of-type {\n",
              "        vertical-align: middle;\n",
              "    }\n",
              "\n",
              "    .dataframe tbody tr th {\n",
              "        vertical-align: top;\n",
              "    }\n",
              "\n",
              "    .dataframe thead th {\n",
              "        text-align: right;\n",
              "    }\n",
              "</style>\n",
              "<table border=\"1\" class=\"dataframe\">\n",
              "  <thead>\n",
              "    <tr style=\"text-align: right;\">\n",
              "      <th></th>\n",
              "      <th>vacancies_jun_count</th>\n",
              "    </tr>\n",
              "  </thead>\n",
              "  <tbody>\n",
              "    <tr>\n",
              "      <th>0</th>\n",
              "      <td>51</td>\n",
              "    </tr>\n",
              "  </tbody>\n",
              "</table>\n",
              "</div>"
            ],
            "text/plain": [
              "   vacancies_jun_count\n",
              "0                   51"
            ]
          },
          "execution_count": 1383,
          "metadata": {},
          "output_type": "execute_result"
        }
      ],
      "source": [
        "# выводим результат\n",
        "jun_vac_count = pd.read_sql_query(query_3_17, connection)\n",
        "jun_vac_count"
      ]
    },
    {
      "cell_type": "markdown",
      "id": "eedceb80-c5ca-480e-b27a-278dfb8b4438",
      "metadata": {
        "id": "eedceb80-c5ca-480e-b27a-278dfb8b4438"
      },
      "source": [
        "3. Сколько есть вакансий для DS, в которых в качестве ключевого навыка указан SQL или postgres?\n",
        "\n",
        "** Критерии для отнесения вакансии к DS указаны в предыдущем задании.*"
      ]
    },
    {
      "cell_type": "code",
      "execution_count": 1384,
      "id": "69621713-0cc5-4f1b-a1d7-bb144fa6148c",
      "metadata": {
        "id": "69621713-0cc5-4f1b-a1d7-bb144fa6148c"
      },
      "outputs": [],
      "source": [
        "# текст запроса\n",
        "query_3_18 = f'''select\n",
        "                     count(v.name) as vacancies_jun_count\n",
        "                 from\n",
        "                     VACANCIES as v\n",
        "                 where\n",
        "                     (\n",
        "                     (name ilike '%data scientist%') or\n",
        "                     (name ilike '%data science%') or\n",
        "                     (name ilike '%исследователь данных%') or\n",
        "                     ((name ilike '%ML%') and (name not ilike '%HTML%')) or\n",
        "                     (name ilike '%machine learning%') or\n",
        "                     (name ilike '%машинн%обучен%') and \n",
        "                     (key_skills is not null)\n",
        "                     )\n",
        "                     and (v.key_skills ilike '%SQL%' or v.key_skills ilike '%postgres%')\n",
        "                     \n",
        "'''"
      ]
    },
    {
      "cell_type": "code",
      "execution_count": 1385,
      "id": "alA8WEAAvGdf",
      "metadata": {
        "id": "alA8WEAAvGdf"
      },
      "outputs": [
        {
          "name": "stderr",
          "output_type": "stream",
          "text": [
            "/var/folders/zy/nrgcv7_53yjdkhzk46rq81140000gn/T/ipykernel_34471/2869467579.py:2: UserWarning: pandas only supports SQLAlchemy connectable (engine/connection) or database string URI or sqlite3 DBAPI2 connection. Other DBAPI2 objects are not tested. Please consider using SQLAlchemy.\n",
            "  sql_postgr_vac_count = pd.read_sql_query(query_3_18, connection)\n"
          ]
        },
        {
          "data": {
            "application/vnd.microsoft.datawrangler.viewer.v0+json": {
              "columns": [
                {
                  "name": "index",
                  "rawType": "int64",
                  "type": "integer"
                },
                {
                  "name": "vacancies_jun_count",
                  "rawType": "int64",
                  "type": "integer"
                }
              ],
              "ref": "18b39a40-5c61-4f6a-8c39-c85b98e30932",
              "rows": [
                [
                  "0",
                  "229"
                ]
              ],
              "shape": {
                "columns": 1,
                "rows": 1
              }
            },
            "text/html": [
              "<div>\n",
              "<style scoped>\n",
              "    .dataframe tbody tr th:only-of-type {\n",
              "        vertical-align: middle;\n",
              "    }\n",
              "\n",
              "    .dataframe tbody tr th {\n",
              "        vertical-align: top;\n",
              "    }\n",
              "\n",
              "    .dataframe thead th {\n",
              "        text-align: right;\n",
              "    }\n",
              "</style>\n",
              "<table border=\"1\" class=\"dataframe\">\n",
              "  <thead>\n",
              "    <tr style=\"text-align: right;\">\n",
              "      <th></th>\n",
              "      <th>vacancies_jun_count</th>\n",
              "    </tr>\n",
              "  </thead>\n",
              "  <tbody>\n",
              "    <tr>\n",
              "      <th>0</th>\n",
              "      <td>229</td>\n",
              "    </tr>\n",
              "  </tbody>\n",
              "</table>\n",
              "</div>"
            ],
            "text/plain": [
              "   vacancies_jun_count\n",
              "0                  229"
            ]
          },
          "execution_count": 1385,
          "metadata": {},
          "output_type": "execute_result"
        }
      ],
      "source": [
        "# выводим результат\n",
        "sql_postgr_vac_count = pd.read_sql_query(query_3_18, connection)\n",
        "sql_postgr_vac_count"
      ]
    },
    {
      "cell_type": "markdown",
      "id": "1be1e9c6-37cf-4a5f-bfeb-04cab799dc80",
      "metadata": {
        "id": "1be1e9c6-37cf-4a5f-bfeb-04cab799dc80"
      },
      "source": [
        "4. Проверьте, насколько популярен Python в требованиях работодателей к DS.Для этого вычислите количество вакансий, в которых в качестве ключевого навыка указан Python.\n",
        "\n",
        "** Это можно сделать помощью запроса, аналогичного предыдущему.*"
      ]
    },
    {
      "cell_type": "code",
      "execution_count": 1386,
      "id": "0036a355-9ccf-4564-8b01-73d8194297e7",
      "metadata": {
        "id": "0036a355-9ccf-4564-8b01-73d8194297e7"
      },
      "outputs": [],
      "source": [
        "# текст запроса\n",
        "query_3_19 = f'''select\n",
        "                     count(v.name) as vacancies_jun_count\n",
        "                 from\n",
        "                     VACANCIES as v\n",
        "                 where\n",
        "                     (\n",
        "                     (name ilike '%data scientist%') or\n",
        "                     (name ilike '%data science%') or\n",
        "                     (name ilike '%исследователь данных%') or\n",
        "                     ((name ilike '%ML%') and (name not ilike '%HTML%')) or\n",
        "                     (name ilike '%machine learning%') or\n",
        "                     (name ilike '%машинн%обучен%') and \n",
        "                     (key_skills is not null)\n",
        "                     )\n",
        "                     and (v.key_skills ilike '%python%')\n",
        "                     \n",
        "'''"
      ]
    },
    {
      "cell_type": "code",
      "execution_count": 1387,
      "id": "1i-5WyucvQ6v",
      "metadata": {
        "id": "1i-5WyucvQ6v"
      },
      "outputs": [
        {
          "name": "stderr",
          "output_type": "stream",
          "text": [
            "/var/folders/zy/nrgcv7_53yjdkhzk46rq81140000gn/T/ipykernel_34471/1654453987.py:2: UserWarning: pandas only supports SQLAlchemy connectable (engine/connection) or database string URI or sqlite3 DBAPI2 connection. Other DBAPI2 objects are not tested. Please consider using SQLAlchemy.\n",
            "  python_vac_count = pd.read_sql_query(query_3_19, connection)\n"
          ]
        },
        {
          "data": {
            "application/vnd.microsoft.datawrangler.viewer.v0+json": {
              "columns": [
                {
                  "name": "index",
                  "rawType": "int64",
                  "type": "integer"
                },
                {
                  "name": "vacancies_jun_count",
                  "rawType": "int64",
                  "type": "integer"
                }
              ],
              "ref": "6b144d33-bd60-47d5-922e-5b4879679146",
              "rows": [
                [
                  "0",
                  "357"
                ]
              ],
              "shape": {
                "columns": 1,
                "rows": 1
              }
            },
            "text/html": [
              "<div>\n",
              "<style scoped>\n",
              "    .dataframe tbody tr th:only-of-type {\n",
              "        vertical-align: middle;\n",
              "    }\n",
              "\n",
              "    .dataframe tbody tr th {\n",
              "        vertical-align: top;\n",
              "    }\n",
              "\n",
              "    .dataframe thead th {\n",
              "        text-align: right;\n",
              "    }\n",
              "</style>\n",
              "<table border=\"1\" class=\"dataframe\">\n",
              "  <thead>\n",
              "    <tr style=\"text-align: right;\">\n",
              "      <th></th>\n",
              "      <th>vacancies_jun_count</th>\n",
              "    </tr>\n",
              "  </thead>\n",
              "  <tbody>\n",
              "    <tr>\n",
              "      <th>0</th>\n",
              "      <td>357</td>\n",
              "    </tr>\n",
              "  </tbody>\n",
              "</table>\n",
              "</div>"
            ],
            "text/plain": [
              "   vacancies_jun_count\n",
              "0                  357"
            ]
          },
          "execution_count": 1387,
          "metadata": {},
          "output_type": "execute_result"
        }
      ],
      "source": [
        "# выводим результат\n",
        "python_vac_count = pd.read_sql_query(query_3_19, connection)\n",
        "python_vac_count"
      ]
    },
    {
      "cell_type": "markdown",
      "id": "ec3c8db7-fa21-4a41-a994-1af63742a642",
      "metadata": {
        "id": "ec3c8db7-fa21-4a41-a994-1af63742a642"
      },
      "source": [
        "5. Сколько ключевых навыков в среднем указывают в вакансиях для DS?\n",
        "Ответ округлите до двух знаков после точки-разделителя."
      ]
    },
    {
      "cell_type": "code",
      "execution_count": 1388,
      "id": "949132bc-d5b6-4611-8218-0b9a504d74f4",
      "metadata": {
        "id": "949132bc-d5b6-4611-8218-0b9a504d74f4"
      },
      "outputs": [],
      "source": [
        "# текст запроса\n",
        "query_3_20 = f'''select\n",
        "                     avg(length(key_skills) - length(replace(key_skills, CHR(9), '')) + 1) as ds_key_skills_avg_count\n",
        "                 from\n",
        "                     VACANCIES as v\n",
        "                 where\n",
        "                     (\n",
        "                     (name ilike '%data scientist%') or\n",
        "                     (name ilike '%data science%') or\n",
        "                     (name ilike '%исследователь данных%') or\n",
        "                     ((name ilike '%ML%') and (name not ilike '%HTML%')) or\n",
        "                     (name ilike '%machine learning%') or\n",
        "                     (name ilike '%машинн%обучен%') and \n",
        "                     (key_skills is not null)\n",
        "                     )                 \n",
        "'''"
      ]
    },
    {
      "cell_type": "code",
      "execution_count": 1389,
      "id": "a3V24Tvmviqk",
      "metadata": {
        "id": "a3V24Tvmviqk"
      },
      "outputs": [
        {
          "name": "stderr",
          "output_type": "stream",
          "text": [
            "/var/folders/zy/nrgcv7_53yjdkhzk46rq81140000gn/T/ipykernel_34471/3033157507.py:2: UserWarning: pandas only supports SQLAlchemy connectable (engine/connection) or database string URI or sqlite3 DBAPI2 connection. Other DBAPI2 objects are not tested. Please consider using SQLAlchemy.\n",
            "  key_skills_ds_count = pd.read_sql_query(query_3_20, connection)\n"
          ]
        },
        {
          "data": {
            "application/vnd.microsoft.datawrangler.viewer.v0+json": {
              "columns": [
                {
                  "name": "index",
                  "rawType": "int64",
                  "type": "integer"
                },
                {
                  "name": "ds_key_skills_avg_count",
                  "rawType": "float64",
                  "type": "float"
                }
              ],
              "ref": "9a7d3146-6b6e-463e-a021-e1289a906a53",
              "rows": [
                [
                  "0",
                  "6.546777546777546"
                ]
              ],
              "shape": {
                "columns": 1,
                "rows": 1
              }
            },
            "text/html": [
              "<div>\n",
              "<style scoped>\n",
              "    .dataframe tbody tr th:only-of-type {\n",
              "        vertical-align: middle;\n",
              "    }\n",
              "\n",
              "    .dataframe tbody tr th {\n",
              "        vertical-align: top;\n",
              "    }\n",
              "\n",
              "    .dataframe thead th {\n",
              "        text-align: right;\n",
              "    }\n",
              "</style>\n",
              "<table border=\"1\" class=\"dataframe\">\n",
              "  <thead>\n",
              "    <tr style=\"text-align: right;\">\n",
              "      <th></th>\n",
              "      <th>ds_key_skills_avg_count</th>\n",
              "    </tr>\n",
              "  </thead>\n",
              "  <tbody>\n",
              "    <tr>\n",
              "      <th>0</th>\n",
              "      <td>6.546778</td>\n",
              "    </tr>\n",
              "  </tbody>\n",
              "</table>\n",
              "</div>"
            ],
            "text/plain": [
              "   ds_key_skills_avg_count\n",
              "0                 6.546778"
            ]
          },
          "execution_count": 1389,
          "metadata": {},
          "output_type": "execute_result"
        }
      ],
      "source": [
        "# выводим результат\n",
        "key_skills_ds_count = pd.read_sql_query(query_3_20, connection)\n",
        "key_skills_ds_count "
      ]
    },
    {
      "cell_type": "markdown",
      "id": "1041c17a-ca8f-4543-a0ca-32778914fb00",
      "metadata": {
        "id": "1041c17a-ca8f-4543-a0ca-32778914fb00"
      },
      "source": [
        "6. Напишите запрос, позволяющий вычислить, какую зарплату для DS в **среднем** указывают для каждого типа требуемого опыта (уникальное значение из поля *experience*). \n",
        "\n",
        "При решении задачи примите во внимание следующее:\n",
        "1. Рассматриваем только вакансии, у которых заполнено хотя бы одно из двух полей с зарплатой.\n",
        "2. Если заполнены оба поля с зарплатой, то считаем зарплату по каждой вакансии как сумму двух полей, делённую на 2. Если заполнено только одно из полей, то его и считаем зарплатой по вакансии.\n",
        "3. Если в расчётах участвует null, в результате он тоже даст null (посмотрите, что возвращает запрос select 1 + null). Чтобы избежать этой ситуацию, мы воспользуемся функцией [coalesce](https://postgrespro.ru/docs/postgresql/9.5/functions-conditional#functions-coalesce-nvl-ifnull), которая заменит null на значение, которое мы передадим. Например, посмотрите, что возвращает запрос `select 1 + coalesce(null, 0)`\n",
        "\n",
        "Выясните, на какую зарплату в среднем может рассчитывать дата-сайентист с опытом работы от 3 до 6 лет. Результат округлите до целого числа. "
      ]
    },
    {
      "cell_type": "code",
      "execution_count": 1390,
      "id": "6a743d39-5204-48d3-8271-b9f88e68d40e",
      "metadata": {
        "id": "6a743d39-5204-48d3-8271-b9f88e68d40e"
      },
      "outputs": [],
      "source": [
        "# текст запроса\n",
        "query_3_21 = f'''select\n",
        "                     v.experience,\n",
        "                     round(avg(coalesce((v.salary_from + v.salary_to)/2, v.salary_from, v.salary_to)),0)\n",
        "                 from\n",
        "                     VACANCIES as v\n",
        "                 where\n",
        "                     (\n",
        "                     (name ilike '%data scientist%') or\n",
        "                     (name ilike '%data science%') or\n",
        "                     (name ilike '%исследователь данных%') or\n",
        "                     ((name ilike '%ML%') and (name not ilike '%HTML%')) or\n",
        "                     (name ilike '%machine learning%') or\n",
        "                     (name ilike '%машинн%обучен%') and \n",
        "                     (key_skills is not null)\n",
        "                     )\n",
        "                 group by v.experience\n",
        "                 order by 1                     \n",
        "'''"
      ]
    },
    {
      "cell_type": "code",
      "execution_count": 1391,
      "id": "aRIJ0mZEwU1_",
      "metadata": {
        "id": "aRIJ0mZEwU1_"
      },
      "outputs": [
        {
          "name": "stderr",
          "output_type": "stream",
          "text": [
            "/var/folders/zy/nrgcv7_53yjdkhzk46rq81140000gn/T/ipykernel_34471/3800790036.py:2: UserWarning: pandas only supports SQLAlchemy connectable (engine/connection) or database string URI or sqlite3 DBAPI2 connection. Other DBAPI2 objects are not tested. Please consider using SQLAlchemy.\n",
            "  key_skills_ds_count = pd.read_sql_query(query_3_21, connection)\n"
          ]
        },
        {
          "data": {
            "application/vnd.microsoft.datawrangler.viewer.v0+json": {
              "columns": [
                {
                  "name": "index",
                  "rawType": "int64",
                  "type": "integer"
                },
                {
                  "name": "experience",
                  "rawType": "object",
                  "type": "string"
                },
                {
                  "name": "round",
                  "rawType": "float64",
                  "type": "float"
                }
              ],
              "ref": "eb425e03-8aee-4bd3-9b92-aa86bbea60a8",
              "rows": [
                [
                  "0",
                  "Более 6 лет",
                  "157933.0"
                ],
                [
                  "1",
                  "Нет опыта",
                  "74643.0"
                ],
                [
                  "2",
                  "От 1 года до 3 лет",
                  "149499.0"
                ],
                [
                  "3",
                  "От 3 до 6 лет",
                  "256454.0"
                ]
              ],
              "shape": {
                "columns": 2,
                "rows": 4
              }
            },
            "text/html": [
              "<div>\n",
              "<style scoped>\n",
              "    .dataframe tbody tr th:only-of-type {\n",
              "        vertical-align: middle;\n",
              "    }\n",
              "\n",
              "    .dataframe tbody tr th {\n",
              "        vertical-align: top;\n",
              "    }\n",
              "\n",
              "    .dataframe thead th {\n",
              "        text-align: right;\n",
              "    }\n",
              "</style>\n",
              "<table border=\"1\" class=\"dataframe\">\n",
              "  <thead>\n",
              "    <tr style=\"text-align: right;\">\n",
              "      <th></th>\n",
              "      <th>experience</th>\n",
              "      <th>round</th>\n",
              "    </tr>\n",
              "  </thead>\n",
              "  <tbody>\n",
              "    <tr>\n",
              "      <th>0</th>\n",
              "      <td>Более 6 лет</td>\n",
              "      <td>157933.0</td>\n",
              "    </tr>\n",
              "    <tr>\n",
              "      <th>1</th>\n",
              "      <td>Нет опыта</td>\n",
              "      <td>74643.0</td>\n",
              "    </tr>\n",
              "    <tr>\n",
              "      <th>2</th>\n",
              "      <td>От 1 года до 3 лет</td>\n",
              "      <td>149499.0</td>\n",
              "    </tr>\n",
              "    <tr>\n",
              "      <th>3</th>\n",
              "      <td>От 3 до 6 лет</td>\n",
              "      <td>256454.0</td>\n",
              "    </tr>\n",
              "  </tbody>\n",
              "</table>\n",
              "</div>"
            ],
            "text/plain": [
              "           experience     round\n",
              "0         Более 6 лет  157933.0\n",
              "1           Нет опыта   74643.0\n",
              "2  От 1 года до 3 лет  149499.0\n",
              "3       От 3 до 6 лет  256454.0"
            ]
          },
          "execution_count": 1391,
          "metadata": {},
          "output_type": "execute_result"
        }
      ],
      "source": [
        "# текст запроса\n",
        "key_skills_ds_count = pd.read_sql_query(query_3_21, connection)\n",
        "key_skills_ds_count "
      ]
    },
    {
      "cell_type": "markdown",
      "id": "79948785",
      "metadata": {},
      "source": [
        "Выводы по предметному анализу:\n",
        "1. 1771 вакансия имеет отношение к данным.\n",
        "2. Неплохое количество вакансий для начинающего дата-сайнтиста - 51.\n",
        "3. Более востребован, все же, puthon, чем SQL и postgres. Под базы данных и СУБД 229 вакансий, под python - 357.\n",
        "4. Для того, чтобы работать дата-сайнтистов необходимо, если до целого, в среднем 6 навыков.\n",
        "5. В целом, для начинающего дата-сайнтиста по зарплатной вилке неплохой старт - более 70000 руб."
      ]
    },
    {
      "cell_type": "markdown",
      "id": "6a7892b4-4113-4746-adce-18aa2844f18e",
      "metadata": {
        "id": "6a7892b4-4113-4746-adce-18aa2844f18e"
      },
      "source": [
        "***"
      ]
    },
    {
      "cell_type": "markdown",
      "id": "c0ED6fh7wiBT",
      "metadata": {
        "id": "c0ED6fh7wiBT"
      },
      "source": [
        "# Общий вывод по проекту"
      ]
    },
    {
      "cell_type": "markdown",
      "id": "03fd44be",
      "metadata": {},
      "source": [
        "Общие выводы по проекту:\n",
        "1. Вакансии для дата-сайнтистов представлены достаточно ярко и широко, что внушает определенный оптимизм для продолжения изучения специальности.\n",
        "2. Достаточно широкая география IT вакансий, что позволяет привлекать не только менее требовательных по зарплате специалистов, но и, в случае желания переехать и отсутствия удаленной работы, самому найти себе подходящую (при этом не только в России).\n",
        "3. Необходимость осваивать СУБД подтвердилась цифрами - 229 вакансий с необходимым ключевым навыком.\n",
        "4. Представлено достаточно большое количество работодателей, которые предлагают вакансии дата-сайнтистам с неплохой зарплатной вилкой.\n",
        "5. Дополнительные выводы приведены ниже."
      ]
    },
    {
      "cell_type": "markdown",
      "id": "92be1516",
      "metadata": {},
      "source": [
        "Дополнительное исследование в отношении количества практических навыков, связанных с математикой"
      ]
    },
    {
      "cell_type": "code",
      "execution_count": 1392,
      "id": "92ca763d",
      "metadata": {},
      "outputs": [],
      "source": [
        "# текст запроса\n",
        "query_3_22 = f'''select\n",
        "                     count(v.name) as vacancies_jun_count\n",
        "                 from\n",
        "                     VACANCIES as v\n",
        "                 where\n",
        "                     (\n",
        "                     (name ilike '%data scientist%') or\n",
        "                     (name ilike '%data science%') or\n",
        "                     (name ilike '%исследователь данных%') or\n",
        "                     ((name ilike '%ML%') and (name not ilike '%HTML%')) or\n",
        "                     (name ilike '%machine learning%') or\n",
        "                     (name ilike '%машинн%обучен%') and \n",
        "                     (key_skills is not null)\n",
        "                     )\n",
        "                     and (v.key_skills ilike '%математика%' or v.key_skills ilike '%math%')\n",
        "                     \n",
        "'''"
      ]
    },
    {
      "cell_type": "code",
      "execution_count": 1393,
      "id": "f80f1f08",
      "metadata": {},
      "outputs": [
        {
          "name": "stderr",
          "output_type": "stream",
          "text": [
            "/var/folders/zy/nrgcv7_53yjdkhzk46rq81140000gn/T/ipykernel_34471/1666471020.py:2: UserWarning: pandas only supports SQLAlchemy connectable (engine/connection) or database string URI or sqlite3 DBAPI2 connection. Other DBAPI2 objects are not tested. Please consider using SQLAlchemy.\n",
            "  math_skill_count = pd.read_sql_query(query_3_22, connection)\n"
          ]
        },
        {
          "data": {
            "application/vnd.microsoft.datawrangler.viewer.v0+json": {
              "columns": [
                {
                  "name": "index",
                  "rawType": "int64",
                  "type": "integer"
                },
                {
                  "name": "vacancies_jun_count",
                  "rawType": "int64",
                  "type": "integer"
                }
              ],
              "ref": "cec1fe12-9d71-40d1-aff7-66a4494aacac",
              "rows": [
                [
                  "0",
                  "10"
                ]
              ],
              "shape": {
                "columns": 1,
                "rows": 1
              }
            },
            "text/html": [
              "<div>\n",
              "<style scoped>\n",
              "    .dataframe tbody tr th:only-of-type {\n",
              "        vertical-align: middle;\n",
              "    }\n",
              "\n",
              "    .dataframe tbody tr th {\n",
              "        vertical-align: top;\n",
              "    }\n",
              "\n",
              "    .dataframe thead th {\n",
              "        text-align: right;\n",
              "    }\n",
              "</style>\n",
              "<table border=\"1\" class=\"dataframe\">\n",
              "  <thead>\n",
              "    <tr style=\"text-align: right;\">\n",
              "      <th></th>\n",
              "      <th>vacancies_jun_count</th>\n",
              "    </tr>\n",
              "  </thead>\n",
              "  <tbody>\n",
              "    <tr>\n",
              "      <th>0</th>\n",
              "      <td>10</td>\n",
              "    </tr>\n",
              "  </tbody>\n",
              "</table>\n",
              "</div>"
            ],
            "text/plain": [
              "   vacancies_jun_count\n",
              "0                   10"
            ]
          },
          "execution_count": 1393,
          "metadata": {},
          "output_type": "execute_result"
        }
      ],
      "source": [
        "# выводим результат\n",
        "math_skill_count = pd.read_sql_query(query_3_22, connection)\n",
        "math_skill_count "
      ]
    },
    {
      "cell_type": "markdown",
      "id": "137b26e5",
      "metadata": {},
      "source": [
        "Дополнительное исследование в отношении количества практических навык, связанных с soft skills"
      ]
    },
    {
      "cell_type": "code",
      "execution_count": 1394,
      "id": "7e058aa2",
      "metadata": {},
      "outputs": [],
      "source": [
        "# текст запроса\n",
        "query_3_23 = f'''select\n",
        "                     count(v.name) as vacancies_jun_count\n",
        "                 from\n",
        "                     VACANCIES as v\n",
        "                 where\n",
        "                     (\n",
        "                     (name ilike '%data scientist%') or\n",
        "                     (name ilike '%data science%') or\n",
        "                     (name ilike '%исследователь данных%') or\n",
        "                     ((name ilike '%ML%') and (name not ilike '%HTML%')) or\n",
        "                     (name ilike '%machine learning%') or\n",
        "                     (name ilike '%машинн%обучен%') and \n",
        "                     (key_skills is not null)\n",
        "                     )\n",
        "                     and (v.key_skills ilike '%soft skills%')\n",
        "                     \n",
        "'''"
      ]
    },
    {
      "cell_type": "code",
      "execution_count": 1395,
      "id": "2834222f",
      "metadata": {},
      "outputs": [
        {
          "name": "stderr",
          "output_type": "stream",
          "text": [
            "/var/folders/zy/nrgcv7_53yjdkhzk46rq81140000gn/T/ipykernel_34471/3931743984.py:2: UserWarning: pandas only supports SQLAlchemy connectable (engine/connection) or database string URI or sqlite3 DBAPI2 connection. Other DBAPI2 objects are not tested. Please consider using SQLAlchemy.\n",
            "  soft_skills_count = pd.read_sql_query(query_3_23, connection)\n"
          ]
        },
        {
          "data": {
            "application/vnd.microsoft.datawrangler.viewer.v0+json": {
              "columns": [
                {
                  "name": "index",
                  "rawType": "int64",
                  "type": "integer"
                },
                {
                  "name": "vacancies_jun_count",
                  "rawType": "int64",
                  "type": "integer"
                }
              ],
              "ref": "250e1697-799a-4f71-9193-3e43528a2c56",
              "rows": [
                [
                  "0",
                  "0"
                ]
              ],
              "shape": {
                "columns": 1,
                "rows": 1
              }
            },
            "text/html": [
              "<div>\n",
              "<style scoped>\n",
              "    .dataframe tbody tr th:only-of-type {\n",
              "        vertical-align: middle;\n",
              "    }\n",
              "\n",
              "    .dataframe tbody tr th {\n",
              "        vertical-align: top;\n",
              "    }\n",
              "\n",
              "    .dataframe thead th {\n",
              "        text-align: right;\n",
              "    }\n",
              "</style>\n",
              "<table border=\"1\" class=\"dataframe\">\n",
              "  <thead>\n",
              "    <tr style=\"text-align: right;\">\n",
              "      <th></th>\n",
              "      <th>vacancies_jun_count</th>\n",
              "    </tr>\n",
              "  </thead>\n",
              "  <tbody>\n",
              "    <tr>\n",
              "      <th>0</th>\n",
              "      <td>0</td>\n",
              "    </tr>\n",
              "  </tbody>\n",
              "</table>\n",
              "</div>"
            ],
            "text/plain": [
              "   vacancies_jun_count\n",
              "0                    0"
            ]
          },
          "execution_count": 1395,
          "metadata": {},
          "output_type": "execute_result"
        }
      ],
      "source": [
        "# выводим результат\n",
        "soft_skills_count = pd.read_sql_query(query_3_23, connection)\n",
        "soft_skills_count"
      ]
    },
    {
      "cell_type": "markdown",
      "id": "6a6658e2",
      "metadata": {},
      "source": [
        "Выводы по дополнительным исследованиям:\n",
        "1. Под ключевые навыки, связанные с математикой, выделено 10 вакансий.\n",
        "2. В начале курса говорили, что для дата-сайнтиста важен навык soft skills, но вот, к сожалению, не отражен он никак в ключевых навыках) или же неверный запрос, или иной вариант написания."
      ]
    }
  ],
  "metadata": {
    "colab": {
      "collapsed_sections": [
        "8d62a9f3-f64e-4fe7-bdac-c4dffa16155e"
      ],
      "provenance": []
    },
    "kernelspec": {
      "display_name": "Python 3",
      "language": "python",
      "name": "python3"
    },
    "language_info": {
      "codemirror_mode": {
        "name": "ipython",
        "version": 3
      },
      "file_extension": ".py",
      "mimetype": "text/x-python",
      "name": "python",
      "nbconvert_exporter": "python",
      "pygments_lexer": "ipython3",
      "version": "3.13.2"
    }
  },
  "nbformat": 4,
  "nbformat_minor": 5
}
